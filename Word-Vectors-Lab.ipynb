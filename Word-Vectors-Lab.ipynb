{
 "cells": [
  {
   "cell_type": "code",
   "execution_count": 3,
   "id": "c36335ce",
   "metadata": {},
   "outputs": [],
   "source": [
    "import re\n",
    "import nltk\n",
    "import multiprocessing\n",
    "from gensim.models import Word2Vec\n",
    "import requests"
   ]
  },
  {
   "cell_type": "code",
   "execution_count": 16,
   "id": "955a1efb",
   "metadata": {},
   "outputs": [
    {
     "name": "stdout",
     "output_type": "stream",
     "text": [
      "Quod equidem non reprehendo; Lorem ipsum dolor sit amet, consectetur adipiscing elit. Quibus natura \n"
     ]
    }
   ],
   "source": [
    "# Open the file for reading\n",
    "with open(\"C:\\\\Users\\\\Jonathan A\\\\Downloads\\\\sample3.txt\", 'r') as file:\n",
    "    # Read the contents of the file into a string\n",
    "    file_contents = file.read()\n",
    "\n",
    "# Define the characters you want to replace\n",
    "characters_to_replace = [\"\\n\", \"\\r\", \"\\d\", \"\\t\"]\n",
    "\n",
    "# Replace the characters in the string\n",
    "for char in characters_to_replace:\n",
    "    file_contents = file_contents.replace(char, \" \")\n",
    "\n",
    "# Check the first 100 characters of the modified string\n",
    "print(file_contents[:100])"
   ]
  },
  {
   "cell_type": "code",
   "execution_count": 17,
   "id": "3dcb2a6b",
   "metadata": {},
   "outputs": [
    {
     "name": "stdout",
     "output_type": "stream",
     "text": [
      "Quod equidem non reprehendo; Lorem ipsum dolor sit amet, consectetur adipiscing elit. Quibus natura \n"
     ]
    }
   ],
   "source": [
    "# Open the file for reading\n",
    "with open(\"C:\\\\Users\\\\Jonathan A\\\\Downloads\\\\sample3.txt\", 'r') as file:\n",
    "    # Read the contents of the file into a string\n",
    "    file_contents = file.read()\n",
    "\n",
    "# Define the characters you want to replace\n",
    "characters_to_replace = [\"\\n\", \"\\r\", \"\\d\", \"\\t\"]\n",
    "\n",
    "# Replace the characters in the string\n",
    "for char in characters_to_replace:\n",
    "    file_contents = file_contents.replace(char, \" \")\n",
    "\n",
    "# Check the first 100 characters of the modified string\n",
    "print(file_contents[:100])\n",
    "\n"
   ]
  },
  {
   "cell_type": "code",
   "execution_count": 19,
   "id": "0c3f50aa",
   "metadata": {},
   "outputs": [
    {
     "name": "stdout",
     "output_type": "stream",
     "text": [
      "[['quod', 'equidem', 'non', 'reprehendo', ';', 'lorem', 'ipsum', 'dolor', 'sit', 'amet', ',', 'consectetur', 'adipiscing', 'elit', '.'], ['quibus', 'natura', 'iure', 'responderit', 'non', 'esse', 'verum', 'aliunde', 'finem', 'beate', 'vivendi', ',', 'a', 'se', 'principia', 'rei', 'gerendae', 'peti', ';', 'quae', 'enim', 'adhuc', 'protulisti', ',', 'popularia', 'sunt', ',', 'ego', 'autem', 'a', 'te', 'elegantiora', 'desidero', '.'], ['duo', 'reges', ':', 'constructio', 'interrete', '.'], ['tum', 'lucius', ':', 'mihi', 'vero', 'ista', 'valde', 'probata', 'sunt', ',', 'quod', 'item', 'fratri', 'puto', '.'], ['bestiarum', 'vero', 'nullum', 'iudicium', 'puto', '.'], ['nihil', 'enim', 'iam', 'habes', ',', 'quod', 'ad', 'corpus', 'referas', ';', 'deinde', 'prima', 'illa', ',', 'quae', 'in', 'congressu', 'solemus', ':', 'quid', 'tu', ',', 'inquit', ',', 'huc', '?'], ['et', 'homini', ',', 'qui', 'ceteris', 'animantibus', 'plurimum', 'praestat', ',', 'praecipue', 'a', 'natura', 'nihil', 'datum', 'esse', 'dicemus', '?'], ['iam', 'id', 'ipsum', 'absurdum', ',', 'maximum', 'malum', 'neglegi', '.'], ['quod', 'ea', 'non', 'occurrentia', 'fingunt', ',', 'vincunt', 'aristonem', ';', 'atqui', 'perspicuum', 'est', 'hominem', 'e', 'corpore', 'animoque', 'constare', ',', 'cum', 'primae', 'sint', 'animi', 'partes', ',', 'secundae', 'corporis', '.'], ['fieri', ',', 'inquam', ',', 'triari', ',', 'nullo', 'pacto', 'potest', ',', 'ut', 'non', 'dicas', ',', 'quid', 'non', 'probes', 'eius', ',', 'a', 'quo', 'dissentias', '.'], ['equidem', 'e', 'cn', '.'], ['an', 'dubium', 'est', ',', 'quin', 'virtus', 'ita', 'maximam', 'partem', 'optineat', 'in', 'rebus', 'humanis', ',', 'ut', 'reliquas', 'obruat', '?'], ['quis', 'istum', 'dolorem', 'timet', '?'], ['summus', 'dolor', 'plures', 'dies', 'manere', 'non', 'potest', '?'], ['dicet', 'pro', 'me', 'ipsa', 'virtus', 'nec', 'dubitabit', 'isti', 'vestro', 'beato', 'm.', 'tubulum', 'fuisse', ',', 'qua', 'illum', ',', 'cuius', 'is', 'condemnatus', 'est', 'rogatione', ',', 'p.', 'quod', 'si', 'ita', 'sit', ',', 'cur', 'opera', 'philosophiae', 'sit', 'danda', 'nescio', '.'], ['ex', 'eorum', 'enim', 'scriptis', 'et', 'institutis', 'cum', 'omnis', 'doctrina', 'liberalis', ',', 'omnis', 'historia', '.'], ['quod', 'si', 'ita', 'est', ',', 'sequitur', 'id', 'ipsum', ',', 'quod', 'te', 'velle', 'video', ',', 'omnes', 'semper', 'beatos', 'esse', 'sapientes', '.'], ['cum', 'enim', 'fertur', 'quasi', 'torrens', 'oratio', ',', 'quamvis', 'multa', 'cuiusque', 'modi', 'rapiat', ',', 'nihil', 'tamen', 'teneas', ',', 'nihil', 'apprehendas', ',', 'nusquam', 'orationem', 'rapidam', 'coerceas', '.'], ['ita', 'redarguitur', 'ipse', 'a', 'sese', ',', 'convincunturque', 'scripta', 'eius', 'probitate', 'ipsius', 'ac', 'moribus', '.'], ['at', 'quanta', 'conantur', '!'], ['mundum', 'hunc', 'omnem', 'oppidum', 'esse', 'nostrum', '!'], ['incendi', 'igitur', 'eos', ',', 'qui', 'audiunt', ',', 'vides', '.'], ['vide', ',', 'ne', 'magis', ',', 'inquam', ',', 'tuum', 'fuerit', ',', 'cum', 're', 'idem', 'tibi', ',', 'quod', 'mihi', ',', 'videretur', ',', 'non', 'nova', 'te', 'rebus', 'nomina', 'inponere', '.'], ['qui-vere', 'falsone', ',', 'quaerere', 'mittimus-dicitur', 'oculis', 'se', 'privasse', ';', 'si', 'ista', 'mala', 'sunt', ',', 'in', 'quae', 'potest', 'incidere', 'sapiens', ',', 'sapientem', 'esse', 'non', 'esse', 'ad', 'beate', 'vivendum', 'satis', '.'], ['at', 'vero', 'si', 'ad', 'vitem', 'sensus', 'accesserit', ',', 'ut', 'appetitum', 'quendam', 'habeat', 'et', 'per', 'se', 'ipsa', 'moveatur', ',', 'quid', 'facturam', 'putas', '?'], ['quem', 'si', 'tenueris', ',', 'non', 'modo', 'meum', 'ciceronem', ',', 'sed', 'etiam', 'me', 'ipsum', 'abducas', 'licebit', '.'], ['stulti', 'autem', 'malorum', 'memoria', 'torquentur', ',', 'sapientes', 'bona', 'praeterita', 'grata', 'recordatione', 'renovata', 'delectant', '.'], ['esse', 'enim', 'quam', 'vellet', 'iniquus', 'iustus', 'poterat', 'inpune', '.'], ['quae', 'autem', 'natura', 'suae', 'primae', 'institutionis', 'oblita', 'est', '?'], ['verum', 'tamen', 'cum', 'de', 'rebus', 'grandioribus', 'dicas', ',', 'ipsae', 'res', 'verba', 'rapiunt', ';', 'hoc', 'est', 'non', 'modo', 'cor', 'non', 'habere', ',', 'sed', 'ne', 'palatum', 'quidem', '.'], ['voluptatem', 'cum', 'summum', 'bonum', 'diceret', ',', 'primum', 'in', 'eo', 'ipso', 'parum', 'vidit', ',', 'deinde', 'hoc', 'quoque', 'alienum', ';', 'sed', 'tu', 'istuc', 'dixti', 'bene', 'latine', ',', 'parum', 'plane', '.'], ['nam', 'haec', 'ipsa', 'mihi', 'erunt', 'in', 'promptu', ',', 'quae', 'modo', 'audivi', ',', 'nec', 'ante', 'aggrediar', ',', 'quam', 'te', 'ab', 'istis', ',', 'quos', 'dicis', ',', 'instructum', 'videro', '.'], ['fatebuntur', 'stoici', 'haec', 'omnia', 'dicta', 'esse', 'praeclare', ',', 'neque', 'eam', 'causam', 'zenoni', 'desciscendi', 'fuisse', '.'], ['non', 'autem', 'hoc', ':', 'igitur', 'ne', 'illud', 'quidem', '.'], ['ratio', 'quidem', 'vestra', 'sic', 'cogit', '.'], ['cum', 'audissem', 'antiochum', ',', 'brute', ',', 'ut', 'solebam', ',', 'cum', 'm.', 'an', 'quod', 'ita', 'callida', 'est', ',', 'ut', 'optime', 'possit', 'architectari', 'voluptates', '?'], ['idemne', ',', 'quod', 'iucunde', '?'], ['haec', 'mihi', 'videtur', 'delicatior', ',', 'ut', 'ita', 'dicam', ',', 'molliorque', 'ratio', ',', 'quam', 'virtutis', 'vis', 'gravitasque', 'postulat', '.'], ['sed', 'quoniam', 'et', 'advesperascit', 'et', 'mihi', 'ad', 'villam', 'revertendum', 'est', ',', 'nunc', 'quidem', 'hactenus', ';', 'cuius', 'ad', 'naturam', 'apta', 'ratio', 'vera', 'illa', 'et', 'summa', 'lex', 'a', 'philosophis', 'dicitur', '.'], ['neque', 'solum', 'ea', 'communia', ',', 'verum', 'etiam', 'paria', 'esse', 'dixerunt', '.'], ['sed', 'nunc', ',', 'quod', 'agimus', ';', 'a', 'mene', 'tu', '?']]\n"
     ]
    }
   ],
   "source": [
    "# this is simplified for demonstration\n",
    "def sample_clean_text(text: str):\n",
    "    # step 1: tokenize the text into sentences\n",
    "    sentences = nltk.sent_tokenize(text)\n",
    "\n",
    "    # step 2: tokenize each sentence into words\n",
    "    tokenized_sentences = [nltk.word_tokenize(sent) for sent in sentences]\n",
    "\n",
    "    # step 3: convert each word to lowercase\n",
    "    tokenized_text = [[word.lower() for word in sent] for sent in tokenized_sentences]\n",
    "    \n",
    "    # return your tokens\n",
    "    return tokenized_text\n",
    "\n",
    "# call the function\n",
    "tokens = sample_clean_text(text = file_contents)\n",
    "\n",
    "# check\n",
    "print(tokens[:50])"
   ]
  },
  {
   "cell_type": "code",
   "execution_count": 28,
   "id": "fe40603f",
   "metadata": {},
   "outputs": [
    {
     "data": {
      "text/plain": [
       "array([-0.01666254,  0.01861689, -0.00041381, -0.00391396,  0.00904994,\n",
       "       -0.00827859,  0.00572227,  0.0140576 ,  0.01183722, -0.01514737,\n",
       "        0.01886115,  0.00918968,  0.008012  , -0.01242703,  0.01682102,\n",
       "       -0.00422435,  0.01779589, -0.01051485, -0.01662464,  0.01345329,\n",
       "        0.00338315, -0.00431979,  0.01949751,  0.01905186, -0.01956637,\n",
       "        0.00502611,  0.01239362,  0.00776725,  0.00378627,  0.00083304,\n",
       "        0.00143812, -0.00788013, -0.01427335, -0.00436638,  0.00785194,\n",
       "        0.01764819,  0.01864141, -0.01206712, -0.01864565,  0.01946885,\n",
       "        0.00682849,  0.01036222,  0.01244238, -0.00572154,  0.01490229,\n",
       "        0.00585482,  0.00573419, -0.00465986, -0.00610579, -0.00481311],\n",
       "      dtype=float32)"
      ]
     },
     "execution_count": 28,
     "metadata": {},
     "output_type": "execute_result"
    }
   ],
   "source": [
    "model = Word2Vec(tokens,vector_size=50)\n",
    "model.wv[\"esse\"]"
   ]
  },
  {
   "cell_type": "code",
   "execution_count": 26,
   "id": "bf184178",
   "metadata": {},
   "outputs": [
    {
     "name": "stdout",
     "output_type": "stream",
     "text": [
      "[',', '.', 'non', 'quod', '?', ';', 'esse', 'cum', 'est', 'a', 'ita', 'ut', 'et', 'sed', 'quae', 'enim', 'si', 'ad', 'in', 'mihi']\n"
     ]
    }
   ],
   "source": [
    "# Check the words in the model's vocabulary\n",
    "vocab = model.wv.index_to_key\n",
    "print(vocab)"
   ]
  },
  {
   "cell_type": "code",
   "execution_count": null,
   "id": "a85b314d",
   "metadata": {},
   "outputs": [],
   "source": []
  }
 ],
 "metadata": {
  "kernelspec": {
   "display_name": "Python 3 (ipykernel)",
   "language": "python",
   "name": "python3"
  },
  "language_info": {
   "codemirror_mode": {
    "name": "ipython",
    "version": 3
   },
   "file_extension": ".py",
   "mimetype": "text/x-python",
   "name": "python",
   "nbconvert_exporter": "python",
   "pygments_lexer": "ipython3",
   "version": "3.10.9"
  }
 },
 "nbformat": 4,
 "nbformat_minor": 5
}
