{
 "cells": [
  {
   "cell_type": "code",
   "execution_count": 1,
   "id": "82e562b7",
   "metadata": {},
   "outputs": [],
   "source": [
    "import re\n",
    "import nltk\n",
    "import numpy as np\n",
    "import matplotlib.pyplot as plt\n",
    "import random\n",
    "\n",
    "from gensim.models import Word2Vec\n",
    "\n",
    "from sklearn.decomposition import IncrementalPCA   \n",
    "from sklearn.manifold import TSNE   "
   ]
  },
  {
   "cell_type": "code",
   "execution_count": 33,
   "id": "0b33ee9d",
   "metadata": {
    "scrolled": true
   },
   "outputs": [
    {
     "name": "stdout",
     "output_type": "stream",
     "text": [
      "﻿The Project Gutenberg eBook of The Legend of Sleepy Hollow        This ebook is for the use of anyo\n"
     ]
    }
   ],
   "source": [
    "# read a file you have stored locally\n",
    "# I added the Hunger Games for simplicity\n",
    "import requests\n",
    "\n",
    "# Define the URL\n",
    "url = \"https://www.gutenberg.org/cache/epub/41/pg41.txt\"\n",
    "\n",
    "# Send an HTTP GET request to the URL\n",
    "file = requests.get(url)\n",
    "file_content = file.text\n",
    "\n",
    "# first, remove unwanted new line and tab characters from the text\n",
    "for char in [\"\\n\", \"\\r\", \"\\d\", \"\\t\"]:\n",
    "    file_content = file_content.replace(char, \" \")\n",
    "\n",
    "# check\n",
    "print(file_content[:100])"
   ]
  },
  {
   "cell_type": "code",
   "execution_count": 63,
   "id": "852c647b",
   "metadata": {},
   "outputs": [],
   "source": [
    "file_content = file_content[1185:]\n"
   ]
  },
  {
   "cell_type": "code",
   "execution_count": 35,
   "id": "4c34abde",
   "metadata": {},
   "outputs": [
    {
     "name": "stdout",
     "output_type": "stream",
     "text": [
      "[['in', 'the', 'bosom', 'of', 'one', 'of', 'those', 'spacious', 'coves', 'which', 'indent', 'the', 'eastern', 'shore', 'of', 'the', 'hudson', ',', 'at', 'that', 'broad', 'expansion', 'of', 'the', 'river', 'denominated', 'by', 'the', 'ancient', 'dutch', 'navigators', 'the', 'tappan', 'zee', ',', 'and', 'where', 'they', 'always', 'prudently', 'shortened', 'sail', 'and', 'implored', 'the', 'protection', 'of', 'st.', 'nicholas', 'when', 'they', 'crossed', ',', 'there', 'lies', 'a', 'small', 'market', 'town', 'or', 'rural', 'port', ',', 'which', 'by', 'some', 'is', 'called', 'greensburgh', ',', 'but', 'which', 'is', 'more', 'generally', 'and', 'properly', 'known', 'by', 'the', 'name', 'of', 'tarry', 'town', '.'], ['this', 'name', 'was', 'given', ',', 'we', 'are', 'told', ',', 'in', 'former', 'days', ',', 'by', 'the', 'good', 'housewives', 'of', 'the', 'adjacent', 'country', ',', 'from', 'the', 'inveterate', 'propensity', 'of', 'their', 'husbands', 'to', 'linger', 'about', 'the', 'village', 'tavern', 'on', 'market', 'days', '.'], ['be', 'that', 'as', 'it', 'may', ',', 'i', 'do', 'not', 'vouch', 'for', 'the', 'fact', ',', 'but', 'merely', 'advert', 'to', 'it', ',', 'for', 'the', 'sake', 'of', 'being', 'precise', 'and', 'authentic', '.'], ['not', 'far', 'from', 'this', 'village', ',', 'perhaps', 'about', 'two', 'miles', ',', 'there', 'is', 'a', 'little', 'valley', 'or', 'rather', 'lap', 'of', 'land', 'among', 'high', 'hills', ',', 'which', 'is', 'one', 'of', 'the', 'quietest', 'places', 'in', 'the', 'whole', 'world', '.'], ['a', 'small', 'brook', 'glides', 'through', 'it', ',', 'with', 'just', 'murmur', 'enough', 'to', 'lull', 'one', 'to', 'repose', ';', 'and', 'the', 'occasional', 'whistle', 'of', 'a', 'quail', 'or', 'tapping', 'of', 'a', 'woodpecker', 'is', 'almost', 'the', 'only', 'sound', 'that', 'ever', 'breaks', 'in', 'upon', 'the', 'uniform', 'tranquillity', '.'], ['i', 'recollect', 'that', ',', 'when', 'a', 'stripling', ',', 'my', 'first', 'exploit', 'in', 'squirrel-shooting', 'was', 'in', 'a', 'grove', 'of', 'tall', 'walnut-trees', 'that', 'shades', 'one', 'side', 'of', 'the', 'valley', '.'], ['i', 'had', 'wandered', 'into', 'it', 'at', 'noontime', ',', 'when', 'all', 'nature', 'is', 'peculiarly', 'quiet', ',', 'and', 'was', 'startled', 'by', 'the', 'roar', 'of', 'my', 'own', 'gun', ',', 'as', 'it', 'broke', 'the', 'sabbath', 'stillness', 'around', 'and', 'was', 'prolonged', 'and', 'reverberated', 'by', 'the', 'angry', 'echoes', '.'], ['if', 'ever', 'i', 'should', 'wish', 'for', 'a', 'retreat', 'whither', 'i', 'might', 'steal', 'from', 'the', 'world', 'and', 'its', 'distractions', ',', 'and', 'dream', 'quietly', 'away', 'the', 'remnant', 'of', 'a', 'troubled', 'life', ',', 'i', 'know', 'of', 'none', 'more', 'promising', 'than', 'this', 'little', 'valley', '.'], ['from', 'the', 'listless', 'repose', 'of', 'the', 'place', ',', 'and', 'the', 'peculiar', 'character', 'of', 'its', 'inhabitants', ',', 'who', 'are', 'descendants', 'from', 'the', 'original', 'dutch', 'settlers', ',', 'this', 'sequestered', 'glen', 'has', 'long', 'been', 'known', 'by', 'the', 'name', 'of', 'sleepy', 'hollow', ',', 'and', 'its', 'rustic', 'lads', 'are', 'called', 'the', 'sleepy', 'hollow', 'boys', 'throughout', 'all', 'the', 'neighboring', 'country', '.'], ['a', 'drowsy', ',', 'dreamy', 'influence', 'seems', 'to', 'hang', 'over', 'the', 'land', ',', 'and', 'to', 'pervade', 'the', 'very', 'atmosphere', '.']]\n"
     ]
    }
   ],
   "source": [
    "# this is simplified for demonstration\n",
    "def sample_clean_text(text: str):\n",
    "    # step 1: tokenize the text into sentences\n",
    "    sentences = nltk.sent_tokenize(text)\n",
    "\n",
    "    # step 2: tokenize each sentence into words\n",
    "    tokenized_sentences = [nltk.word_tokenize(sent) for sent in sentences]\n",
    "\n",
    "    # step 3: convert each word to lowercase\n",
    "    tokenized_text = [[word.lower() for word in sent] for sent in tokenized_sentences]\n",
    "    \n",
    "    # return your tokens\n",
    "    return tokenized_text\n",
    "\n",
    "# call the function\n",
    "tokens = sample_clean_text(text = file_content)\n",
    "\n",
    "# check\n",
    "print(tokens[:10])"
   ]
  },
  {
   "cell_type": "code",
   "execution_count": 36,
   "id": "d6e4657c",
   "metadata": {},
   "outputs": [],
   "source": [
    "model = Word2Vec(tokens,vector_size=100)"
   ]
  },
  {
   "cell_type": "code",
   "execution_count": 37,
   "id": "d4a66b27",
   "metadata": {},
   "outputs": [
    {
     "data": {
      "text/plain": [
       "{',': 0,\n",
       " 'the': 1,\n",
       " 'of': 2,\n",
       " 'and': 3,\n",
       " '.': 4,\n",
       " 'a': 5,\n",
       " 'to': 6,\n",
       " 'in': 7,\n",
       " 'his': 8,\n",
       " 'was': 9,\n",
       " 'he': 10,\n",
       " 'with': 11,\n",
       " ';': 12,\n",
       " 'that': 13,\n",
       " 'or': 14,\n",
       " 'it': 15,\n",
       " 'by': 16,\n",
       " 'on': 17,\n",
       " 'for': 18,\n",
       " 'as': 19,\n",
       " 'at': 20,\n",
       " 'this': 21,\n",
       " 'project': 22,\n",
       " 'had': 23,\n",
       " 'from': 24,\n",
       " 'which': 25,\n",
       " 'you': 26,\n",
       " 'but': 27,\n",
       " 'all': 28,\n",
       " 'not': 29,\n",
       " 'is': 30,\n",
       " 'gutenberg™': 31,\n",
       " 'be': 32,\n",
       " 'who': 33,\n",
       " 'their': 34,\n",
       " 'any': 35,\n",
       " 'ichabod': 36,\n",
       " 'were': 37,\n",
       " 'one': 38,\n",
       " 'have': 39,\n",
       " 'work': 40,\n",
       " 'him': 41,\n",
       " 'an': 42,\n",
       " '’': 43,\n",
       " 'some': 44,\n",
       " 'are': 45,\n",
       " 'if': 46,\n",
       " 's': 47,\n",
       " 'there': 48,\n",
       " 'upon': 49,\n",
       " 'they': 50,\n",
       " 'about': 51,\n",
       " 'old': 52,\n",
       " '“': 53,\n",
       " 'been': 54,\n",
       " 'works': 55,\n",
       " '”': 56,\n",
       " 'country': 57,\n",
       " 'up': 58,\n",
       " 'no': 59,\n",
       " 'other': 60,\n",
       " 'over': 61,\n",
       " 'gutenberg': 62,\n",
       " 'i': 63,\n",
       " 'its': 64,\n",
       " 'electronic': 65,\n",
       " 'like': 66,\n",
       " 'would': 67,\n",
       " 'van': 68,\n",
       " 'time': 69,\n",
       " 'little': 70,\n",
       " 'foundation': 71,\n",
       " 'most': 72,\n",
       " 'hollow': 73,\n",
       " 'her': 74,\n",
       " 'terms': 75,\n",
       " 'where': 76,\n",
       " 'may': 77,\n",
       " 'more': 78,\n",
       " '--': 79,\n",
       " 'into': 80,\n",
       " 'now': 81,\n",
       " 'do': 82,\n",
       " 'out': 83,\n",
       " 'so': 84,\n",
       " 'than': 85,\n",
       " 'along': 86,\n",
       " 'such': 87,\n",
       " 'copyright': 88,\n",
       " 'forth': 89,\n",
       " '!': 90,\n",
       " 'side': 91,\n",
       " 'might': 92,\n",
       " ')': 93,\n",
       " 'under': 94,\n",
       " 'them': 95,\n",
       " 'agreement': 96,\n",
       " '(': 97,\n",
       " 'great': 98,\n",
       " 'then': 99,\n",
       " 'full': 100,\n",
       " 'these': 101,\n",
       " 'before': 102,\n",
       " 'air': 103,\n",
       " 'states': 104,\n",
       " 'when': 105,\n",
       " 'himself': 106,\n",
       " 'those': 107,\n",
       " 'without': 108,\n",
       " 'away': 109,\n",
       " 'head': 110,\n",
       " 'we': 111,\n",
       " 'every': 112,\n",
       " 'sleepy': 113,\n",
       " 'can': 114,\n",
       " 'license': 115,\n",
       " 'bridge': 116,\n",
       " 'too': 117,\n",
       " 'how': 118,\n",
       " 'still': 119,\n",
       " 'however': 120,\n",
       " 'only': 121,\n",
       " 'being': 122,\n",
       " 'donations': 123,\n",
       " 'must': 124,\n",
       " 'way': 125,\n",
       " 'whole': 126,\n",
       " 'tassel': 127,\n",
       " 'literary': 128,\n",
       " 'church': 129,\n",
       " 'brom': 130,\n",
       " 'road': 131,\n",
       " 'heard': 132,\n",
       " 'through': 133,\n",
       " 'brook': 134,\n",
       " 'just': 135,\n",
       " 'bones': 136,\n",
       " 'archive': 137,\n",
       " 'story': 138,\n",
       " 'horse': 139,\n",
       " 'neighborhood': 140,\n",
       " 'trees': 141,\n",
       " 'united': 142,\n",
       " 'among': 143,\n",
       " 'trademark': 144,\n",
       " 'heart': 145,\n",
       " 'dutch': 146,\n",
       " 'night': 147,\n",
       " 'man': 148,\n",
       " ':': 149,\n",
       " 'use': 150,\n",
       " 'part': 151,\n",
       " 'made': 152,\n",
       " 'mind': 153,\n",
       " 'copy': 154,\n",
       " 'school': 155,\n",
       " 'your': 156,\n",
       " 'many': 157,\n",
       " 'found': 158,\n",
       " 'set': 159,\n",
       " 'while': 160,\n",
       " 'access': 161,\n",
       " 'after': 162,\n",
       " 'name': 163,\n",
       " 'paragraph': 164,\n",
       " 'small': 165,\n",
       " 'very': 166,\n",
       " 'tree': 167,\n",
       " 'good': 168,\n",
       " 'make': 169,\n",
       " 'often': 170,\n",
       " 'steed': 171,\n",
       " 'new': 172,\n",
       " 'eyes': 173,\n",
       " 'black': 174,\n",
       " 'even': 175,\n",
       " 'schoolhouse': 176,\n",
       " 'refund': 177,\n",
       " 'against': 178,\n",
       " 'kind': 179,\n",
       " 'state': 180,\n",
       " 'behind': 181,\n",
       " 'place': 182,\n",
       " 'round': 183,\n",
       " 'always': 184,\n",
       " 'almost': 185,\n",
       " 'laws': 186,\n",
       " 'foot': 187,\n",
       " 'agree': 188,\n",
       " 'seen': 189,\n",
       " 'including': 190,\n",
       " 'two': 191,\n",
       " 'crane': 192,\n",
       " 'scene': 193,\n",
       " 'should': 194,\n",
       " 'has': 195,\n",
       " 'long': 196,\n",
       " 'end': 197,\n",
       " 'haunted': 198,\n",
       " 'will': 199,\n",
       " 'favorite': 200,\n",
       " 'law': 201,\n",
       " 'saddle': 202,\n",
       " 'could': 203,\n",
       " 'what': 204,\n",
       " 'gunpowder': 205,\n",
       " 'off': 206,\n",
       " 'hand': 207,\n",
       " 'received': 208,\n",
       " 'ripper': 209,\n",
       " 'white': 210,\n",
       " 'hans': 211,\n",
       " 'did': 212,\n",
       " 'half': 213,\n",
       " 'fee': 214,\n",
       " 'goblin': 215,\n",
       " 'thought': 216,\n",
       " 'schoolmaster': 217,\n",
       " 'cakes': 218,\n",
       " 'our': 219,\n",
       " 'within': 220,\n",
       " 'life': 221,\n",
       " 'whom': 222,\n",
       " 'evening': 223,\n",
       " 'though': 224,\n",
       " 'came': 225,\n",
       " 'tales': 226,\n",
       " 'see': 227,\n",
       " 'give': 228,\n",
       " 'certain': 229,\n",
       " 'ever': 230,\n",
       " 'master': 231,\n",
       " 'several': 232,\n",
       " 'carried': 233,\n",
       " 'high': 234,\n",
       " 'information': 235,\n",
       " 'day': 236,\n",
       " 'passed': 237,\n",
       " 'large': 238,\n",
       " 'days': 239,\n",
       " 'people': 240,\n",
       " 'associated': 241,\n",
       " 'much': 242,\n",
       " 'rich': 243,\n",
       " 'huge': 244,\n",
       " 'hessian': 245,\n",
       " 'section': 246,\n",
       " 'something': 247,\n",
       " 'rival': 248,\n",
       " 'therefore': 249,\n",
       " 'appearance': 250,\n",
       " 'ebooks': 251,\n",
       " 'door': 252,\n",
       " 'fearful': 253,\n",
       " 'u.s.': 254,\n",
       " 'down': 255,\n",
       " 'turned': 256,\n",
       " 'stood': 257,\n",
       " 'sound': 258,\n",
       " 'left': 259,\n",
       " 'own': 260,\n",
       " 'dark': 261,\n",
       " 'ghosts': 262,\n",
       " 'moment': 263,\n",
       " 'eye': 264,\n",
       " 'distributing': 265,\n",
       " 'ebook': 266,\n",
       " 'hero': 267,\n",
       " 'copies': 268,\n",
       " 'known': 269,\n",
       " 'help': 270,\n",
       " 'horseman': 271,\n",
       " 'having': 272,\n",
       " 'provide': 273,\n",
       " 'stream': 274,\n",
       " '?': 275,\n",
       " 'fire': 276,\n",
       " 'wild': 277,\n",
       " 'person': 278,\n",
       " 'sometimes': 279,\n",
       " 'form': 280,\n",
       " 'told': 281,\n",
       " 'pedagogue': 282,\n",
       " 'hung': 283,\n",
       " 'ghost': 284,\n",
       " 'look': 285,\n",
       " 'water': 286,\n",
       " 'put': 287,\n",
       " 'called': 288,\n",
       " 'thus': 289,\n",
       " 'idea': 290,\n",
       " 'children': 291,\n",
       " 'wings': 292,\n",
       " 'late': 293,\n",
       " 'blue': 294,\n",
       " '*': 295,\n",
       " 'turn': 296,\n",
       " 'rustic': 297,\n",
       " 'permission': 298,\n",
       " 'nature': 299,\n",
       " 'charge': 300,\n",
       " 'yet': 301,\n",
       " 'paid': 302,\n",
       " 'beheld': 303,\n",
       " 'distribute': 304,\n",
       " 'fine': 305,\n",
       " 'same': 306,\n",
       " 'rather': 307,\n",
       " 'broad': 308,\n",
       " 'fact': 309,\n",
       " 'path': 310,\n",
       " 'valley': 311,\n",
       " 'sides': 312,\n",
       " 'stories': 313,\n",
       " 'short': 314,\n",
       " 'far': 315,\n",
       " 'following': 316,\n",
       " 'neighboring': 317,\n",
       " 'hudson': 318,\n",
       " 'tax': 319,\n",
       " 'spectre': 320,\n",
       " 'began': 321,\n",
       " 'others': 322,\n",
       " 'ready': 323,\n",
       " 'hat': 324,\n",
       " 'looked': 325,\n",
       " 'given': 326,\n",
       " 'distribution': 327,\n",
       " 'partly': 328,\n",
       " 'spirit': 329,\n",
       " 'parts': 330,\n",
       " 'rider': 331,\n",
       " 'justice': 332,\n",
       " 'window': 333,\n",
       " 'another': 334,\n",
       " 'comply': 335,\n",
       " 'powers': 336,\n",
       " 'green': 337,\n",
       " 'hills': 338,\n",
       " 'land': 339,\n",
       " 'medium': 340,\n",
       " 'compliance': 341,\n",
       " 'taken': 342,\n",
       " 'gradually': 343,\n",
       " 'gave': 344,\n",
       " '1.f.3': 345,\n",
       " 'using': 346,\n",
       " '1.e.1': 347,\n",
       " 'free': 348,\n",
       " 'suddenly': 349,\n",
       " 'lady': 350,\n",
       " 'mission': 351,\n",
       " 'felt': 352,\n",
       " 'replacement': 353,\n",
       " 'located': 354,\n",
       " 'distant': 355,\n",
       " 'mounted': 356,\n",
       " 'winter': 357,\n",
       " 'farmhouse': 358,\n",
       " 'times': 359,\n",
       " 'rough': 360,\n",
       " 'distance': 361,\n",
       " 'indeed': 362,\n",
       " 'churchyard': 363,\n",
       " 'sunday': 364,\n",
       " 'opposite': 365,\n",
       " 'unfortunate': 366,\n",
       " 'midnight': 367,\n",
       " 'back': 368,\n",
       " 'laid': 369,\n",
       " 'headless': 370,\n",
       " 'entered': 371,\n",
       " 'world': 372,\n",
       " 'sky': 373,\n",
       " 'farmers': 374,\n",
       " 'nearly': 375,\n",
       " 'years': 376,\n",
       " 'according': 377,\n",
       " 'except': 378,\n",
       " 'companion': 379,\n",
       " 'together': 380,\n",
       " 'never': 381,\n",
       " 'beneath': 382,\n",
       " 'neck': 383,\n",
       " 'mere': 384,\n",
       " 'volunteers': 385,\n",
       " 'war': 386,\n",
       " 'whose': 387,\n",
       " 'region': 388,\n",
       " 'books': 389,\n",
       " 'money': 390,\n",
       " 'seemed': 391,\n",
       " 'true': 392,\n",
       " 'my': 393,\n",
       " 'tall': 394,\n",
       " 'she': 395,\n",
       " 'katrina': 396,\n",
       " 'each': 397,\n",
       " 'broke': 398,\n",
       " 'motion': 399,\n",
       " 'protected': 400,\n",
       " 'beset': 401,\n",
       " 'face': 402,\n",
       " 'galloping': 403,\n",
       " 'provided': 404,\n",
       " 'fields': 405,\n",
       " 'say': 406,\n",
       " 'sat': 407,\n",
       " 'psalm': 408,\n",
       " 'walk': 409,\n",
       " 'marvellous': 410,\n",
       " 'poor': 411,\n",
       " 'across': 412,\n",
       " 'hour': 413,\n",
       " 'right': 414,\n",
       " 'delight': 415,\n",
       " 'mixture': 416,\n",
       " 'limited': 417}"
      ]
     },
     "execution_count": 37,
     "metadata": {},
     "output_type": "execute_result"
    }
   ],
   "source": [
    "model.wv.key_to_index"
   ]
  },
  {
   "cell_type": "code",
   "execution_count": 39,
   "id": "a9198c51",
   "metadata": {},
   "outputs": [
    {
     "data": {
      "text/plain": [
       "array([-0.07674808,  0.07961038, -0.00243084,  0.03294911, -0.05016393,\n",
       "       -0.15905407,  0.07257261,  0.23984821, -0.12440128, -0.02801013,\n",
       "       -0.02247628, -0.12377815, -0.08196192,  0.02887518,  0.02693943,\n",
       "       -0.10341065,  0.09226907, -0.06660362, -0.12526454, -0.26036778,\n",
       "        0.04904052,  0.05111277,  0.10503238, -0.00438421,  0.02435092,\n",
       "       -0.03745606, -0.08937602, -0.12142327, -0.10820504,  0.03332509,\n",
       "        0.13256551, -0.04379289,  0.08808027, -0.15201466, -0.06333039,\n",
       "        0.1024157 ,  0.0612024 , -0.03940597, -0.02315756, -0.22426982,\n",
       "        0.05089146, -0.11725132, -0.0592141 , -0.00503607,  0.0710631 ,\n",
       "       -0.04532729, -0.12000186, -0.03798077,  0.07185876,  0.08971345,\n",
       "        0.04754249, -0.22377297, -0.05385923,  0.02745862, -0.06234169,\n",
       "        0.03225737,  0.08059254, -0.10868766, -0.15067686,  0.08190879,\n",
       "        0.06267489,  0.0094465 ,  0.13491777, -0.09518667, -0.13861367,\n",
       "        0.13463372,  0.06497922,  0.1388554 , -0.18127233,  0.11551607,\n",
       "        0.0011309 ,  0.07809725,  0.07569844,  0.00495675,  0.17057836,\n",
       "        0.03554238, -0.00545196,  0.01327006, -0.1431713 , -0.05163541,\n",
       "       -0.03876898, -0.07652326, -0.10905729,  0.18990797, -0.08652894,\n",
       "       -0.05779069, -0.00733238,  0.03763942,  0.13482924,  0.02497862,\n",
       "        0.19305414,  0.07597018,  0.01204073,  0.05964841,  0.16358979,\n",
       "        0.17516471,  0.03603151, -0.09706295,  0.00046288, -0.06381493],\n",
       "      dtype=float32)"
      ]
     },
     "execution_count": 39,
     "metadata": {},
     "output_type": "execute_result"
    }
   ],
   "source": [
    "model.wv.get_vector(\"all\", norm=True)"
   ]
  },
  {
   "cell_type": "code",
   "execution_count": 41,
   "id": "9e456215",
   "metadata": {},
   "outputs": [
    {
     "data": {
      "text/plain": [
       "[('to', 0.9996576309204102),\n",
       " (',', 0.9995923042297363),\n",
       " ('in', 0.9995349049568176),\n",
       " ('by', 0.9995315670967102),\n",
       " ('was', 0.9995278120040894),\n",
       " ('as', 0.9995152950286865),\n",
       " ('this', 0.999509871006012),\n",
       " ('you', 0.9994956851005554),\n",
       " ('are', 0.9994872808456421),\n",
       " ('is', 0.9994744062423706)]"
      ]
     },
     "execution_count": 41,
     "metadata": {},
     "output_type": "execute_result"
    }
   ],
   "source": [
    "model.wv.most_similar('all')\n",
    "###Top 5 Words\n",
    "#1.'to'\n",
    "#2.','\n",
    "#3.'in'\n",
    "#4.'by'\n",
    "#5.'was'"
   ]
  },
  {
   "cell_type": "code",
   "execution_count": 42,
   "id": "e809a3f6",
   "metadata": {},
   "outputs": [
    {
     "data": {
      "text/plain": [
       "0.9989868"
      ]
     },
     "execution_count": 42,
     "metadata": {},
     "output_type": "execute_result"
    }
   ],
   "source": [
    "model.wv.similarity('all', 'most')"
   ]
  },
  {
   "cell_type": "code",
   "execution_count": 43,
   "id": "343e3659",
   "metadata": {},
   "outputs": [
    {
     "data": {
      "text/plain": [
       "0.9987352"
      ]
     },
     "execution_count": 43,
     "metadata": {},
     "output_type": "execute_result"
    }
   ],
   "source": [
    "model.wv.similarity('little', 'hollow')"
   ]
  },
  {
   "cell_type": "code",
   "execution_count": 46,
   "id": "d0d58868",
   "metadata": {},
   "outputs": [
    {
     "data": {
      "text/plain": [
       "<gensim.models.word2vec.Word2Vec at 0x241fb073910>"
      ]
     },
     "metadata": {},
     "output_type": "display_data"
    }
   ],
   "source": [
    "def reduce_dimensions(model):\n",
    "    num_dimensions = 2  # final num dimensions (2D, 3D, etc)\n",
    "\n",
    "    # extract the words & their vectors, as numpy arrays\n",
    "    vectors = np.asarray(model.wv.vectors)\n",
    "    labels = np.asarray(model.wv.index_to_key)  # fixed-width numpy strings\n",
    "\n",
    "    # reduce using t-SNE\n",
    "    tsne = TSNE(n_components=num_dimensions, random_state=0)\n",
    "    vectors = tsne.fit_transform(vectors)\n",
    "\n",
    "    x_vals = [v[0] for v in vectors]\n",
    "    y_vals = [v[1] for v in vectors]\n",
    "    return x_vals, y_vals, labels\n",
    "\n",
    "\n",
    "x_vals, y_vals, labels = reduce_dimensions(model)\n"
   ]
  },
  {
   "cell_type": "code",
   "execution_count": 47,
   "id": "f5dcdbf8",
   "metadata": {},
   "outputs": [
    {
     "data": {
      "text/html": [
       "        <script type=\"text/javascript\">\n",
       "        window.PlotlyConfig = {MathJaxConfig: 'local'};\n",
       "        if (window.MathJax && window.MathJax.Hub && window.MathJax.Hub.Config) {window.MathJax.Hub.Config({SVG: {font: \"STIX-Web\"}});}\n",
       "        if (typeof require !== 'undefined') {\n",
       "        require.undef(\"plotly\");\n",
       "        requirejs.config({\n",
       "            paths: {\n",
       "                'plotly': ['https://cdn.plot.ly/plotly-2.12.1.min']\n",
       "            }\n",
       "        });\n",
       "        require(['plotly'], function(Plotly) {\n",
       "            window._Plotly = Plotly;\n",
       "        });\n",
       "        }\n",
       "        </script>\n",
       "        "
      ]
     },
     "metadata": {},
     "output_type": "display_data"
    },
    {
     "data": {
      "application/vnd.plotly.v1+json": {
       "config": {
        "linkText": "Export to plot.ly",
        "plotlyServerURL": "https://plot.ly",
        "showLink": false
       },
       "data": [
        {
         "mode": "text",
         "text": [
          ",",
          "the",
          "of",
          "and",
          ".",
          "a",
          "to",
          "in",
          "his",
          "was",
          "he",
          "with",
          ";",
          "that",
          "or",
          "it",
          "by",
          "on",
          "for",
          "as",
          "at",
          "this",
          "project",
          "had",
          "from",
          "which",
          "you",
          "but",
          "all",
          "not",
          "is",
          "gutenberg™",
          "be",
          "who",
          "their",
          "any",
          "ichabod",
          "were",
          "one",
          "have",
          "work",
          "him",
          "an",
          "’",
          "some",
          "are",
          "if",
          "s",
          "there",
          "upon",
          "they",
          "about",
          "old",
          "“",
          "been",
          "works",
          "”",
          "country",
          "up",
          "no",
          "other",
          "over",
          "gutenberg",
          "i",
          "its",
          "electronic",
          "like",
          "would",
          "van",
          "time",
          "little",
          "foundation",
          "most",
          "hollow",
          "her",
          "terms",
          "where",
          "may",
          "more",
          "--",
          "into",
          "now",
          "do",
          "out",
          "so",
          "than",
          "along",
          "such",
          "copyright",
          "forth",
          "!",
          "side",
          "might",
          ")",
          "under",
          "them",
          "agreement",
          "(",
          "great",
          "then",
          "full",
          "these",
          "before",
          "air",
          "states",
          "when",
          "himself",
          "those",
          "without",
          "away",
          "head",
          "we",
          "every",
          "sleepy",
          "can",
          "license",
          "bridge",
          "too",
          "how",
          "still",
          "however",
          "only",
          "being",
          "donations",
          "must",
          "way",
          "whole",
          "tassel",
          "literary",
          "church",
          "brom",
          "road",
          "heard",
          "through",
          "brook",
          "just",
          "bones",
          "archive",
          "story",
          "horse",
          "neighborhood",
          "trees",
          "united",
          "among",
          "trademark",
          "heart",
          "dutch",
          "night",
          "man",
          ":",
          "use",
          "part",
          "made",
          "mind",
          "copy",
          "school",
          "your",
          "many",
          "found",
          "set",
          "while",
          "access",
          "after",
          "name",
          "paragraph",
          "small",
          "very",
          "tree",
          "good",
          "make",
          "often",
          "steed",
          "new",
          "eyes",
          "black",
          "even",
          "schoolhouse",
          "refund",
          "against",
          "kind",
          "state",
          "behind",
          "place",
          "round",
          "always",
          "almost",
          "laws",
          "foot",
          "agree",
          "seen",
          "including",
          "two",
          "crane",
          "scene",
          "should",
          "has",
          "long",
          "end",
          "haunted",
          "will",
          "favorite",
          "law",
          "saddle",
          "could",
          "what",
          "gunpowder",
          "off",
          "hand",
          "received",
          "ripper",
          "white",
          "hans",
          "did",
          "half",
          "fee",
          "goblin",
          "thought",
          "schoolmaster",
          "cakes",
          "our",
          "within",
          "life",
          "whom",
          "evening",
          "though",
          "came",
          "tales",
          "see",
          "give",
          "certain",
          "ever",
          "master",
          "several",
          "carried",
          "high",
          "information",
          "day",
          "passed",
          "large",
          "days",
          "people",
          "associated",
          "much",
          "rich",
          "huge",
          "hessian",
          "section",
          "something",
          "rival",
          "therefore",
          "appearance",
          "ebooks",
          "door",
          "fearful",
          "u.s.",
          "down",
          "turned",
          "stood",
          "sound",
          "left",
          "own",
          "dark",
          "ghosts",
          "moment",
          "eye",
          "distributing",
          "ebook",
          "hero",
          "copies",
          "known",
          "help",
          "horseman",
          "having",
          "provide",
          "stream",
          "?",
          "fire",
          "wild",
          "person",
          "sometimes",
          "form",
          "told",
          "pedagogue",
          "hung",
          "ghost",
          "look",
          "water",
          "put",
          "called",
          "thus",
          "idea",
          "children",
          "wings",
          "late",
          "blue",
          "*",
          "turn",
          "rustic",
          "permission",
          "nature",
          "charge",
          "yet",
          "paid",
          "beheld",
          "distribute",
          "fine",
          "same",
          "rather",
          "broad",
          "fact",
          "path",
          "valley",
          "sides",
          "stories",
          "short",
          "far",
          "following",
          "neighboring",
          "hudson",
          "tax",
          "spectre",
          "began",
          "others",
          "ready",
          "hat",
          "looked",
          "given",
          "distribution",
          "partly",
          "spirit",
          "parts",
          "rider",
          "justice",
          "window",
          "another",
          "comply",
          "powers",
          "green",
          "hills",
          "land",
          "medium",
          "compliance",
          "taken",
          "gradually",
          "gave",
          "1.f.3",
          "using",
          "1.e.1",
          "free",
          "suddenly",
          "lady",
          "mission",
          "felt",
          "replacement",
          "located",
          "distant",
          "mounted",
          "winter",
          "farmhouse",
          "times",
          "rough",
          "distance",
          "indeed",
          "churchyard",
          "sunday",
          "opposite",
          "unfortunate",
          "midnight",
          "back",
          "laid",
          "headless",
          "entered",
          "world",
          "sky",
          "farmers",
          "nearly",
          "years",
          "according",
          "except",
          "companion",
          "together",
          "never",
          "beneath",
          "neck",
          "mere",
          "volunteers",
          "war",
          "whose",
          "region",
          "books",
          "money",
          "seemed",
          "true",
          "my",
          "tall",
          "she",
          "katrina",
          "each",
          "broke",
          "motion",
          "protected",
          "beset",
          "face",
          "galloping",
          "provided",
          "fields",
          "say",
          "sat",
          "psalm",
          "walk",
          "marvellous",
          "poor",
          "across",
          "hour",
          "right",
          "delight",
          "mixture",
          "limited"
         ],
         "type": "scatter",
         "x": [
          43.84078598022461,
          43.07704544067383,
          43.51253890991211,
          43.544857025146484,
          41.858551025390625,
          43.375282287597656,
          43.102622985839844,
          43.10635757446289,
          43.0233154296875,
          41.93037033081055,
          41.06223678588867,
          41.102291107177734,
          40.018001556396484,
          42.28636932373047,
          39.790435791015625,
          38.79170227050781,
          41.608665466308594,
          39.649383544921875,
          40.52719497680664,
          39.16529846191406,
          39.565208435058594,
          42.13876724243164,
          42.30060577392578,
          40.42240524291992,
          36.10635757446289,
          37.553955078125,
          39.10527038574219,
          34.30670928955078,
          36.28295135498047,
          38.95097351074219,
          38.85768508911133,
          39.23155975341797,
          39.78107833862305,
          37.410972595214844,
          30.830219268798828,
          36.74228286743164,
          31.853986740112305,
          33.54824447631836,
          34.982173919677734,
          39.83363342285156,
          34.935882568359375,
          33.84199905395508,
          38.38009262084961,
          40.1266975402832,
          37.3465461730957,
          38.47249221801758,
          34.31344985961914,
          34.28441619873047,
          28.072206497192383,
          39.43372344970703,
          40.31107711791992,
          37.75508117675781,
          33.38004684448242,
          31.764480590820312,
          36.497074127197266,
          30.920881271362305,
          34.17518615722656,
          29.188154220581055,
          32.61534881591797,
          32.59856033325195,
          26.2147274017334,
          34.84919738769531,
          31.831151962280273,
          33.48087692260742,
          27.55915641784668,
          27.818159103393555,
          25.432865142822266,
          32.19379806518555,
          35.773582458496094,
          24.094276428222656,
          22.528135299682617,
          33.258689880371094,
          24.99813461303711,
          34.989620208740234,
          28.43600082397461,
          28.139564514160156,
          33.91111373901367,
          28.637208938598633,
          24.624086380004883,
          29.08985137939453,
          32.3262939453125,
          21.764122009277344,
          21.105859756469727,
          29.754751205444336,
          30.15479850769043,
          21.63699722290039,
          23.83669662475586,
          20.83637237548828,
          19.599821090698242,
          28.87401580810547,
          21.941041946411133,
          19.955501556396484,
          21.642906188964844,
          22.204980850219727,
          22.896270751953125,
          23.273927688598633,
          20.9962100982666,
          27.21363639831543,
          20.464101791381836,
          7.977302551269531,
          25.594833374023438,
          15.239343643188477,
          26.533674240112305,
          8.798492431640625,
          24.99978256225586,
          25.314287185668945,
          13.507526397705078,
          16.34178924560547,
          25.362390518188477,
          28.901220321655273,
          4.066963195800781,
          28.59140968322754,
          23.276554107666016,
          29.656620025634766,
          23.20862579345703,
          16.615358352661133,
          14.333902359008789,
          4.663620471954346,
          26.038516998291016,
          22.48223304748535,
          10.546765327453613,
          15.591479301452637,
          0.2887902557849884,
          28.16299819946289,
          24.208162307739258,
          14.72537612915039,
          15.472493171691895,
          14.241902351379395,
          23.233251571655273,
          12.11742877960205,
          23.734838485717773,
          2.4356849193573,
          25.521427154541016,
          17.15064239501953,
          15.982926368713379,
          15.966198921203613,
          13.286974906921387,
          26.68104362487793,
          17.470956802368164,
          4.6494140625,
          17.4526309967041,
          6.341896057128906,
          18.051433563232422,
          20.444984436035156,
          -2.5329277515411377,
          -3.84358811378479,
          16.322799682617188,
          16.865276336669922,
          3.394561529159546,
          -2.2137486934661865,
          14.608464241027832,
          9.733223915100098,
          5.985586643218994,
          4.92592191696167,
          -3.665177583694458,
          -2.19781756401062,
          10.466256141662598,
          9.012470245361328,
          -2.720460891723633,
          16.981473922729492,
          -0.5891100168228149,
          8.02682113647461,
          11.023492813110352,
          5.5657196044921875,
          15.241085052490234,
          8.791059494018555,
          5.2062907218933105,
          2.7795073986053467,
          1.34951651096344,
          6.6442999839782715,
          15.79878044128418,
          5.088682174682617,
          6.132078170776367,
          14.143219947814941,
          9.923254013061523,
          3.0105607509613037,
          0.532336950302124,
          16.544727325439453,
          -4.075927734375,
          -27.024930953979492,
          4.763323783874512,
          9.680171012878418,
          -9.090474128723145,
          9.225273132324219,
          -2.8331055641174316,
          -11.637825012207031,
          13.377790451049805,
          -12.646089553833008,
          -21.115732192993164,
          10.150976181030273,
          -22.878559112548828,
          -12.807160377502441,
          -8.017627716064453,
          -4.6146063804626465,
          -1.9565845727920532,
          9.61771011352539,
          -7.437167167663574,
          -4.344918727874756,
          14.340400695800781,
          3.528303384780884,
          5.993496894836426,
          2.0976884365081787,
          -8.407419204711914,
          -14.125714302062988,
          2.516836643218994,
          -3.683001756668091,
          15.685785293579102,
          -18.648874282836914,
          6.368870258331299,
          13.800827026367188,
          -27.388587951660156,
          7.787867069244385,
          7.21051549911499,
          -3.0376334190368652,
          -8.005021095275879,
          -3.487056255340576,
          -2.4839415550231934,
          -25.812131881713867,
          1.5973079204559326,
          10.362980842590332,
          -6.515252113342285,
          -22.30866050720215,
          -13.770759582519531,
          10.101081848144531,
          8.961312294006348,
          -17.417381286621094,
          5.647989273071289,
          -30.39917755126953,
          -4.042333126068115,
          -12.317628860473633,
          0.532270610332489,
          -21.293550491333008,
          -4.1276984214782715,
          6.029987812042236,
          8.61451530456543,
          -5.090598106384277,
          -19.28658103942871,
          -12.061827659606934,
          9.776862144470215,
          -9.973285675048828,
          5.816318035125732,
          -36.55550003051758,
          -23.452062606811523,
          -11.265961647033691,
          -35.62897491455078,
          -0.2368411123752594,
          -40.29090881347656,
          -25.138811111450195,
          -23.217761993408203,
          -41.57857131958008,
          -14.991395950317383,
          4.3658976554870605,
          -22.584339141845703,
          -12.930842399597168,
          5.3478169441223145,
          -12.424696922302246,
          14.063544273376465,
          -16.582603454589844,
          -30.141481399536133,
          -18.08202362060547,
          -30.980281829833984,
          -28.992456436157227,
          -2.6728427410125732,
          -15.007392883300781,
          -4.4848809242248535,
          -15.96850872039795,
          -3.3940398693084717,
          -19.313276290893555,
          -8.678775787353516,
          -14.0044527053833,
          -7.951702117919922,
          12.511695861816406,
          -28.39560317993164,
          -7.485342502593994,
          -0.849478542804718,
          -31.04618263244629,
          -32.302425384521484,
          -9.940166473388672,
          -25.47830581665039,
          -22.283435821533203,
          -24.93250274658203,
          -11.5379638671875,
          -29.219289779663086,
          -34.49981689453125,
          -13.536386489868164,
          -15.18248462677002,
          -15.08984088897705,
          -16.299591064453125,
          -29.793434143066406,
          -18.21385383605957,
          -6.919870853424072,
          -39.40775680541992,
          -41.85725021362305,
          -28.129974365234375,
          -34.995059967041016,
          0.6996053457260132,
          3.3278372287750244,
          -20.547739028930664,
          -28.6787166595459,
          -29.540760040283203,
          -16.549274444580078,
          -2.971132278442383,
          -9.490678787231445,
          -15.507017135620117,
          -18.599153518676758,
          -41.59867858886719,
          -25.46892738342285,
          -1.6598188877105713,
          -32.749244689941406,
          -37.68347930908203,
          -32.582401275634766,
          -25.7419490814209,
          -30.333303451538086,
          -17.86412811279297,
          -40.014739990234375,
          -20.767623901367188,
          -23.316505432128906,
          -40.459957122802734,
          -37.27815628051758,
          -7.861035346984863,
          -12.011564254760742,
          -5.973088264465332,
          -37.0735969543457,
          -28.75040054321289,
          -23.556411743164062,
          -8.408281326293945,
          -32.900577545166016,
          -14.880987167358398,
          -28.272314071655273,
          -18.636886596679688,
          -18.223575592041016,
          -32.284549713134766,
          -37.20527648925781,
          -7.933261871337891,
          -40.50006103515625,
          -24.02474594116211,
          -38.11471939086914,
          -24.023168563842773,
          -10.973722457885742,
          -26.483091354370117,
          -30.6674861907959,
          -38.007991790771484,
          -22.651138305664062,
          -37.0889892578125,
          -21.313323974609375,
          -23.336973190307617,
          -34.362220764160156,
          -22.755626678466797,
          -7.509310722351074,
          -38.070289611816406,
          -16.84413719177246,
          -19.92593002319336,
          -28.519859313964844,
          -3.4809253215789795,
          -27.217086791992188,
          -24.970752716064453,
          -19.892574310302734,
          -29.295509338378906,
          -41.839202880859375,
          -36.92139434814453,
          -35.67832565307617,
          -17.779144287109375,
          -27.309114456176758,
          -38.900020599365234,
          -31.418750762939453,
          -17.048677444458008,
          -24.5742244720459,
          -37.93844985961914,
          -38.96211624145508,
          -40.66600036621094,
          -16.02767562866211,
          -36.5032844543457,
          -18.141008377075195,
          -31.756338119506836,
          -39.08049774169922,
          -34.169185638427734,
          -9.214601516723633,
          -39.48807907104492,
          -6.790193557739258,
          -32.8270263671875,
          -39.785396575927734,
          -36.541988372802734,
          -31.292896270751953,
          -37.06093978881836,
          -19.880285263061523,
          -34.36954116821289,
          -36.60830307006836,
          -33.660789489746094,
          -14.387811660766602,
          -36.19641876220703,
          -21.92901611328125,
          -38.73324203491211,
          -39.42925262451172,
          -24.404502868652344,
          -31.15483283996582,
          -35.32617950439453,
          -25.15546417236328,
          -31.19727897644043,
          -21.795875549316406,
          -31.39634132385254,
          -16.060224533081055,
          -7.95768928527832,
          -25.90712547302246,
          -14.89801025390625,
          -15.654346466064453,
          -21.29705047607422,
          -39.52907180786133,
          -27.82906150817871,
          -37.6118278503418,
          -28.716876983642578,
          -33.45130920410156,
          -9.414674758911133,
          -14.02535343170166,
          -30.088449478149414,
          -10.778521537780762,
          -22.278507232666016,
          -31.969057083129883,
          -38.35654067993164
         ],
         "y": [
          -1.2845304012298584,
          -1.1044210195541382,
          -1.2097477912902832,
          -1.3115791082382202,
          -1.4775758981704712,
          -1.5220043659210205,
          -1.5500049591064453,
          -1.0977624654769897,
          -1.536577582359314,
          -1.1383106708526611,
          -1.1590547561645508,
          -1.4272514581680298,
          -0.9137582182884216,
          -1.1874555349349976,
          -1.6473329067230225,
          -0.9298871159553528,
          -1.272539734840393,
          -1.678088665008545,
          -1.0758949518203735,
          -0.8438084721565247,
          -0.8606696724891663,
          -1.4464715719223022,
          -1.4699820280075073,
          -1.542891025543213,
          -1.1393847465515137,
          -1.1807887554168701,
          -0.9237936735153198,
          -1.3505345582962036,
          -1.1529289484024048,
          -1.5553767681121826,
          -1.4920189380645752,
          -1.8023375272750854,
          -0.8796868324279785,
          -1.1926277875900269,
          -0.8516639471054077,
          -1.1675716638565063,
          -0.8739741444587708,
          -0.7303439974784851,
          -1.2054028511047363,
          -1.5741357803344727,
          -1.3245019912719727,
          -0.9714080095291138,
          -1.1214888095855713,
          -0.8804292678833008,
          -1.1769156455993652,
          -1.3603105545043945,
          -1.3250128030776978,
          -0.7338289618492126,
          -0.4514096975326538,
          -1.3252261877059937,
          -1.550075650215149,
          -1.2238481044769287,
          -0.7987672090530396,
          -0.9418298602104187,
          -1.1515843868255615,
          -0.8650792241096497,
          -0.7299217581748962,
          -0.8339449167251587,
          -1.0529528856277466,
          -0.8301690220832825,
          -0.30272892117500305,
          -0.8784498572349548,
          -0.9843007922172546,
          -1.2876027822494507,
          -0.5629905462265015,
          -0.9144748449325562,
          -0.17690014839172363,
          -0.777515172958374,
          -1.1204725503921509,
          -0.12441351264715195,
          0.05089551582932472,
          -1.1852285861968994,
          -0.2552105188369751,
          -0.9113250970840454,
          -1.0224217176437378,
          -0.8644452691078186,
          -1.3714293241500854,
          -0.8885684609413147,
          -0.22061805427074432,
          -0.5143410563468933,
          -1.1226886510849,
          -0.23954740166664124,
          -0.11538535356521606,
          -0.7332904934883118,
          -0.8177275657653809,
          0.15606440603733063,
          -0.4191063642501831,
          0.0649842694401741,
          0.2125096321105957,
          -0.4665070176124573,
          -0.2079690843820572,
          0.17790114879608154,
          0.14029915630817413,
          0.13569276034832,
          -0.08461130410432816,
          0.06998058408498764,
          0.21391335129737854,
          -0.5624380707740784,
          0.1263347715139389,
          0.8092471361160278,
          -0.2550122141838074,
          0.6160874962806702,
          -0.5823422074317932,
          0.2615988552570343,
          -0.6187009215354919,
          -0.6940742135047913,
          0.6982060074806213,
          0.33604633808135986,
          -0.13921251893043518,
          -0.9791839122772217,
          0.6793702244758606,
          -0.36795100569725037,
          -0.4557306468486786,
          -0.8292610049247742,
          0.054969772696495056,
          0.8786118030548096,
          0.4317642152309418,
          1.3453916311264038,
          -0.5612504482269287,
          -0.3236602544784546,
          1.204993486404419,
          0.9753128886222839,
          0.8769512176513672,
          -0.40031296014785767,
          -0.4814516603946686,
          0.8477494120597839,
          1.1011308431625366,
          1.1412913799285889,
          -0.5276991724967957,
          0.8322018384933472,
          0.033512163907289505,
          0.7233356237411499,
          -0.6690465211868286,
          0.1212344542145729,
          0.9850866794586182,
          0.2189004123210907,
          0.6051701903343201,
          -0.538448691368103,
          0.48720070719718933,
          1.0953866243362427,
          0.5989986062049866,
          0.47033247351646423,
          0.36995482444763184,
          0.11492583900690079,
          0.9156622886657715,
          1.1817705631256104,
          0.9964852929115295,
          0.49078693985939026,
          1.1225942373275757,
          0.41859111189842224,
          0.37921079993247986,
          0.6901190280914307,
          0.1825396567583084,
          0.6956593990325928,
          0.05068539083003998,
          1.1415225267410278,
          1.2040116786956787,
          0.7567012310028076,
          0.11427833884954453,
          0.6576957106590271,
          0.7636317014694214,
          0.5367237329483032,
          0.7154691219329834,
          1.4749469757080078,
          0.26653608679771423,
          0.845100462436676,
          0.30604249238967896,
          0.7157015204429626,
          0.7290117740631104,
          0.39415425062179565,
          0.5629749894142151,
          0.5307099223136902,
          1.3743791580200195,
          0.6439183950424194,
          0.36502450704574585,
          1.2560793161392212,
          0.8015340566635132,
          0.17264245450496674,
          1.6215237379074097,
          -1.6574076414108276,
          0.035206858068704605,
          1.15189790725708,
          0.7159315943717957,
          0.3393558859825134,
          0.46639788150787354,
          -0.41735175251960754,
          0.4179646968841553,
          -1.132952094078064,
          -1.3221473693847656,
          1.0990869998931885,
          -0.9531316161155701,
          -0.440015971660614,
          0.7496599555015564,
          0.8958559632301331,
          1.2342383861541748,
          1.3957785367965698,
          0.31839337944984436,
          0.8457388281822205,
          0.41499337553977966,
          0.4133637547492981,
          1.1582603454589844,
          0.8612496852874756,
          0.35584014654159546,
          0.32834741473197937,
          0.8814892768859863,
          0.38774871826171875,
          0.11234311759471893,
          0.021425891667604446,
          1.1425576210021973,
          1.0611306428909302,
          -1.95748770236969,
          1.31816565990448,
          0.9786666631698608,
          1.4383940696716309,
          0.39927080273628235,
          0.9673050045967102,
          0.1565386950969696,
          -0.3382885456085205,
          1.188193678855896,
          0.5896783471107483,
          -0.09242239594459534,
          -1.6782116889953613,
          -0.3286118507385254,
          0.46770620346069336,
          1.4189926385879517,
          -1.4039188623428345,
          0.6615699529647827,
          -0.384699285030365,
          0.9963841438293457,
          -0.18150627613067627,
          0.780612587928772,
          -0.8523720502853394,
          -0.08854008466005325,
          0.6839033961296082,
          1.324972152709961,
          0.697214663028717,
          0.11616767197847366,
          0.38414108753204346,
          0.8099792003631592,
          0.5443169474601746,
          1.2294247150421143,
          -0.161906436085701,
          -1.2204891443252563,
          -0.783076286315918,
          -0.4693126678466797,
          0.7403650879859924,
          -0.2420937418937683,
          -0.13535982370376587,
          -0.3807050287723541,
          -0.6287193298339844,
          -0.8610593676567078,
          0.8657287359237671,
          -0.2330377697944641,
          -0.47161829471588135,
          1.5200037956237793,
          0.0677836686372757,
          1.1702032089233398,
          0.05682648718357086,
          -1.5037728548049927,
          -0.6090165376663208,
          -0.5718859434127808,
          -0.8124560713768005,
          1.205605149269104,
          -1.3524848222732544,
          0.18854571878910065,
          -0.7783622145652771,
          1.222204327583313,
          -1.133238434791565,
          0.7370708584785461,
          -1.1853430271148682,
          0.8148177862167358,
          0.7725531458854675,
          -1.6684833765029907,
          -0.11407963931560516,
          0.747706949710846,
          -1.5624967813491821,
          -1.1305819749832153,
          -0.4869493246078491,
          -1.8408480882644653,
          -1.8806027173995972,
          -1.6814903020858765,
          -0.3317417800426483,
          -1.7580173015594482,
          -1.285888910293579,
          0.18195903301239014,
          0.28089848160743713,
          0.7175746560096741,
          -0.5279491543769836,
          -1.8096481561660767,
          -1.071627140045166,
          0.5768166780471802,
          -0.7908512949943542,
          -0.6645837426185608,
          -0.737470805644989,
          -0.7795730233192444,
          0.7752763032913208,
          0.834912121295929,
          -0.7967043519020081,
          -1.138878345489502,
          -2.1573407649993896,
          -0.5656899213790894,
          0.41989412903785706,
          0.19057157635688782,
          0.24979396164417267,
          -1.3953323364257812,
          -0.6350340247154236,
          -0.9379976987838745,
          0.5355291962623596,
          -0.5643910765647888,
          -0.1944376528263092,
          -1.3912404775619507,
          -0.19858106970787048,
          -0.14504019916057587,
          -0.2022865116596222,
          0.054785847663879395,
          -1.577276349067688,
          -0.6708042025566101,
          -0.7218911051750183,
          -0.008809177204966545,
          0.626646101474762,
          -0.7046623826026917,
          0.5738982558250427,
          -0.4502399265766144,
          0.0238652341067791,
          0.41979068517684937,
          -0.34195253252983093,
          -0.6467207074165344,
          -0.3688009977340698,
          -0.12860903143882751,
          -1.210076093673706,
          -0.8627024292945862,
          -0.3781210482120514,
          -1.3648171424865723,
          -0.4021076261997223,
          -0.5070006847381592,
          -1.271878957748413,
          -0.010340864770114422,
          -0.40683478116989136,
          -0.06322504580020905,
          -1.3961925506591797,
          -2.1792795658111572,
          -1.030570149421692,
          0.16234661638736725,
          -1.333292841911316,
          -0.7151941061019897,
          0.22652515769004822,
          -0.4274515211582184,
          -0.8988316655158997,
          0.8457155823707581,
          -0.9727036952972412,
          -1.037093162536621,
          -1.6973090171813965,
          -1.364091396331787,
          0.5312352180480957,
          -0.9951198697090149,
          -0.8629262447357178,
          -1.1314032077789307,
          -0.7987326383590698,
          -0.6636892557144165,
          0.12669332325458527,
          -1.2473922967910767,
          0.39978113770484924,
          -1.5546780824661255,
          0.05378999933600426,
          -2.352449655532837,
          -0.5656387209892273,
          -0.21374773979187012,
          -1.1780749559402466,
          -0.41531839966773987,
          -0.48827630281448364,
          -0.36982572078704834,
          -0.8784009218215942,
          0.05211421847343445,
          -1.575209617614746,
          -0.4591851234436035,
          -1.0696794986724854,
          -0.08223987370729446,
          -0.9972183704376221,
          0.5181818008422852,
          -0.12381599843502045,
          -0.9199082255363464,
          -0.6196039915084839,
          -1.6862260103225708,
          -0.23025350272655487,
          -0.12618878483772278,
          -0.3056578040122986,
          -1.1207501888275146,
          -1.1583607196807861,
          -0.6417088508605957,
          0.2927737534046173,
          -1.632887601852417,
          -0.956699550151825,
          0.018663888797163963,
          -1.8421576023101807,
          -0.722133457660675,
          -0.189079150557518,
          -0.7359036803245544,
          -0.9560226202011108,
          -0.4413098692893982,
          -1.2159277200698853,
          -0.00813403632491827,
          -0.1572253257036209,
          -1.6255367994308472,
          -1.240190029144287,
          -0.9176002740859985,
          0.11901431530714035,
          -0.07585769891738892,
          -0.25540226697921753,
          -0.5949167609214783,
          -0.538023829460144,
          -1.2679011821746826,
          -0.37821251153945923,
          -0.46667972207069397,
          -0.5539981722831726,
          0.12221137434244156,
          -1.6426185369491577,
          -0.9265177845954895,
          -0.40487658977508545
         ]
        }
       ],
       "layout": {
        "template": {
         "data": {
          "bar": [
           {
            "error_x": {
             "color": "#2a3f5f"
            },
            "error_y": {
             "color": "#2a3f5f"
            },
            "marker": {
             "line": {
              "color": "#E5ECF6",
              "width": 0.5
             },
             "pattern": {
              "fillmode": "overlay",
              "size": 10,
              "solidity": 0.2
             }
            },
            "type": "bar"
           }
          ],
          "barpolar": [
           {
            "marker": {
             "line": {
              "color": "#E5ECF6",
              "width": 0.5
             },
             "pattern": {
              "fillmode": "overlay",
              "size": 10,
              "solidity": 0.2
             }
            },
            "type": "barpolar"
           }
          ],
          "carpet": [
           {
            "aaxis": {
             "endlinecolor": "#2a3f5f",
             "gridcolor": "white",
             "linecolor": "white",
             "minorgridcolor": "white",
             "startlinecolor": "#2a3f5f"
            },
            "baxis": {
             "endlinecolor": "#2a3f5f",
             "gridcolor": "white",
             "linecolor": "white",
             "minorgridcolor": "white",
             "startlinecolor": "#2a3f5f"
            },
            "type": "carpet"
           }
          ],
          "choropleth": [
           {
            "colorbar": {
             "outlinewidth": 0,
             "ticks": ""
            },
            "type": "choropleth"
           }
          ],
          "contour": [
           {
            "colorbar": {
             "outlinewidth": 0,
             "ticks": ""
            },
            "colorscale": [
             [
              0,
              "#0d0887"
             ],
             [
              0.1111111111111111,
              "#46039f"
             ],
             [
              0.2222222222222222,
              "#7201a8"
             ],
             [
              0.3333333333333333,
              "#9c179e"
             ],
             [
              0.4444444444444444,
              "#bd3786"
             ],
             [
              0.5555555555555556,
              "#d8576b"
             ],
             [
              0.6666666666666666,
              "#ed7953"
             ],
             [
              0.7777777777777778,
              "#fb9f3a"
             ],
             [
              0.8888888888888888,
              "#fdca26"
             ],
             [
              1,
              "#f0f921"
             ]
            ],
            "type": "contour"
           }
          ],
          "contourcarpet": [
           {
            "colorbar": {
             "outlinewidth": 0,
             "ticks": ""
            },
            "type": "contourcarpet"
           }
          ],
          "heatmap": [
           {
            "colorbar": {
             "outlinewidth": 0,
             "ticks": ""
            },
            "colorscale": [
             [
              0,
              "#0d0887"
             ],
             [
              0.1111111111111111,
              "#46039f"
             ],
             [
              0.2222222222222222,
              "#7201a8"
             ],
             [
              0.3333333333333333,
              "#9c179e"
             ],
             [
              0.4444444444444444,
              "#bd3786"
             ],
             [
              0.5555555555555556,
              "#d8576b"
             ],
             [
              0.6666666666666666,
              "#ed7953"
             ],
             [
              0.7777777777777778,
              "#fb9f3a"
             ],
             [
              0.8888888888888888,
              "#fdca26"
             ],
             [
              1,
              "#f0f921"
             ]
            ],
            "type": "heatmap"
           }
          ],
          "heatmapgl": [
           {
            "colorbar": {
             "outlinewidth": 0,
             "ticks": ""
            },
            "colorscale": [
             [
              0,
              "#0d0887"
             ],
             [
              0.1111111111111111,
              "#46039f"
             ],
             [
              0.2222222222222222,
              "#7201a8"
             ],
             [
              0.3333333333333333,
              "#9c179e"
             ],
             [
              0.4444444444444444,
              "#bd3786"
             ],
             [
              0.5555555555555556,
              "#d8576b"
             ],
             [
              0.6666666666666666,
              "#ed7953"
             ],
             [
              0.7777777777777778,
              "#fb9f3a"
             ],
             [
              0.8888888888888888,
              "#fdca26"
             ],
             [
              1,
              "#f0f921"
             ]
            ],
            "type": "heatmapgl"
           }
          ],
          "histogram": [
           {
            "marker": {
             "pattern": {
              "fillmode": "overlay",
              "size": 10,
              "solidity": 0.2
             }
            },
            "type": "histogram"
           }
          ],
          "histogram2d": [
           {
            "colorbar": {
             "outlinewidth": 0,
             "ticks": ""
            },
            "colorscale": [
             [
              0,
              "#0d0887"
             ],
             [
              0.1111111111111111,
              "#46039f"
             ],
             [
              0.2222222222222222,
              "#7201a8"
             ],
             [
              0.3333333333333333,
              "#9c179e"
             ],
             [
              0.4444444444444444,
              "#bd3786"
             ],
             [
              0.5555555555555556,
              "#d8576b"
             ],
             [
              0.6666666666666666,
              "#ed7953"
             ],
             [
              0.7777777777777778,
              "#fb9f3a"
             ],
             [
              0.8888888888888888,
              "#fdca26"
             ],
             [
              1,
              "#f0f921"
             ]
            ],
            "type": "histogram2d"
           }
          ],
          "histogram2dcontour": [
           {
            "colorbar": {
             "outlinewidth": 0,
             "ticks": ""
            },
            "colorscale": [
             [
              0,
              "#0d0887"
             ],
             [
              0.1111111111111111,
              "#46039f"
             ],
             [
              0.2222222222222222,
              "#7201a8"
             ],
             [
              0.3333333333333333,
              "#9c179e"
             ],
             [
              0.4444444444444444,
              "#bd3786"
             ],
             [
              0.5555555555555556,
              "#d8576b"
             ],
             [
              0.6666666666666666,
              "#ed7953"
             ],
             [
              0.7777777777777778,
              "#fb9f3a"
             ],
             [
              0.8888888888888888,
              "#fdca26"
             ],
             [
              1,
              "#f0f921"
             ]
            ],
            "type": "histogram2dcontour"
           }
          ],
          "mesh3d": [
           {
            "colorbar": {
             "outlinewidth": 0,
             "ticks": ""
            },
            "type": "mesh3d"
           }
          ],
          "parcoords": [
           {
            "line": {
             "colorbar": {
              "outlinewidth": 0,
              "ticks": ""
             }
            },
            "type": "parcoords"
           }
          ],
          "pie": [
           {
            "automargin": true,
            "type": "pie"
           }
          ],
          "scatter": [
           {
            "fillpattern": {
             "fillmode": "overlay",
             "size": 10,
             "solidity": 0.2
            },
            "type": "scatter"
           }
          ],
          "scatter3d": [
           {
            "line": {
             "colorbar": {
              "outlinewidth": 0,
              "ticks": ""
             }
            },
            "marker": {
             "colorbar": {
              "outlinewidth": 0,
              "ticks": ""
             }
            },
            "type": "scatter3d"
           }
          ],
          "scattercarpet": [
           {
            "marker": {
             "colorbar": {
              "outlinewidth": 0,
              "ticks": ""
             }
            },
            "type": "scattercarpet"
           }
          ],
          "scattergeo": [
           {
            "marker": {
             "colorbar": {
              "outlinewidth": 0,
              "ticks": ""
             }
            },
            "type": "scattergeo"
           }
          ],
          "scattergl": [
           {
            "marker": {
             "colorbar": {
              "outlinewidth": 0,
              "ticks": ""
             }
            },
            "type": "scattergl"
           }
          ],
          "scattermapbox": [
           {
            "marker": {
             "colorbar": {
              "outlinewidth": 0,
              "ticks": ""
             }
            },
            "type": "scattermapbox"
           }
          ],
          "scatterpolar": [
           {
            "marker": {
             "colorbar": {
              "outlinewidth": 0,
              "ticks": ""
             }
            },
            "type": "scatterpolar"
           }
          ],
          "scatterpolargl": [
           {
            "marker": {
             "colorbar": {
              "outlinewidth": 0,
              "ticks": ""
             }
            },
            "type": "scatterpolargl"
           }
          ],
          "scatterternary": [
           {
            "marker": {
             "colorbar": {
              "outlinewidth": 0,
              "ticks": ""
             }
            },
            "type": "scatterternary"
           }
          ],
          "surface": [
           {
            "colorbar": {
             "outlinewidth": 0,
             "ticks": ""
            },
            "colorscale": [
             [
              0,
              "#0d0887"
             ],
             [
              0.1111111111111111,
              "#46039f"
             ],
             [
              0.2222222222222222,
              "#7201a8"
             ],
             [
              0.3333333333333333,
              "#9c179e"
             ],
             [
              0.4444444444444444,
              "#bd3786"
             ],
             [
              0.5555555555555556,
              "#d8576b"
             ],
             [
              0.6666666666666666,
              "#ed7953"
             ],
             [
              0.7777777777777778,
              "#fb9f3a"
             ],
             [
              0.8888888888888888,
              "#fdca26"
             ],
             [
              1,
              "#f0f921"
             ]
            ],
            "type": "surface"
           }
          ],
          "table": [
           {
            "cells": {
             "fill": {
              "color": "#EBF0F8"
             },
             "line": {
              "color": "white"
             }
            },
            "header": {
             "fill": {
              "color": "#C8D4E3"
             },
             "line": {
              "color": "white"
             }
            },
            "type": "table"
           }
          ]
         },
         "layout": {
          "annotationdefaults": {
           "arrowcolor": "#2a3f5f",
           "arrowhead": 0,
           "arrowwidth": 1
          },
          "autotypenumbers": "strict",
          "coloraxis": {
           "colorbar": {
            "outlinewidth": 0,
            "ticks": ""
           }
          },
          "colorscale": {
           "diverging": [
            [
             0,
             "#8e0152"
            ],
            [
             0.1,
             "#c51b7d"
            ],
            [
             0.2,
             "#de77ae"
            ],
            [
             0.3,
             "#f1b6da"
            ],
            [
             0.4,
             "#fde0ef"
            ],
            [
             0.5,
             "#f7f7f7"
            ],
            [
             0.6,
             "#e6f5d0"
            ],
            [
             0.7,
             "#b8e186"
            ],
            [
             0.8,
             "#7fbc41"
            ],
            [
             0.9,
             "#4d9221"
            ],
            [
             1,
             "#276419"
            ]
           ],
           "sequential": [
            [
             0,
             "#0d0887"
            ],
            [
             0.1111111111111111,
             "#46039f"
            ],
            [
             0.2222222222222222,
             "#7201a8"
            ],
            [
             0.3333333333333333,
             "#9c179e"
            ],
            [
             0.4444444444444444,
             "#bd3786"
            ],
            [
             0.5555555555555556,
             "#d8576b"
            ],
            [
             0.6666666666666666,
             "#ed7953"
            ],
            [
             0.7777777777777778,
             "#fb9f3a"
            ],
            [
             0.8888888888888888,
             "#fdca26"
            ],
            [
             1,
             "#f0f921"
            ]
           ],
           "sequentialminus": [
            [
             0,
             "#0d0887"
            ],
            [
             0.1111111111111111,
             "#46039f"
            ],
            [
             0.2222222222222222,
             "#7201a8"
            ],
            [
             0.3333333333333333,
             "#9c179e"
            ],
            [
             0.4444444444444444,
             "#bd3786"
            ],
            [
             0.5555555555555556,
             "#d8576b"
            ],
            [
             0.6666666666666666,
             "#ed7953"
            ],
            [
             0.7777777777777778,
             "#fb9f3a"
            ],
            [
             0.8888888888888888,
             "#fdca26"
            ],
            [
             1,
             "#f0f921"
            ]
           ]
          },
          "colorway": [
           "#636efa",
           "#EF553B",
           "#00cc96",
           "#ab63fa",
           "#FFA15A",
           "#19d3f3",
           "#FF6692",
           "#B6E880",
           "#FF97FF",
           "#FECB52"
          ],
          "font": {
           "color": "#2a3f5f"
          },
          "geo": {
           "bgcolor": "white",
           "lakecolor": "white",
           "landcolor": "#E5ECF6",
           "showlakes": true,
           "showland": true,
           "subunitcolor": "white"
          },
          "hoverlabel": {
           "align": "left"
          },
          "hovermode": "closest",
          "mapbox": {
           "style": "light"
          },
          "paper_bgcolor": "white",
          "plot_bgcolor": "#E5ECF6",
          "polar": {
           "angularaxis": {
            "gridcolor": "white",
            "linecolor": "white",
            "ticks": ""
           },
           "bgcolor": "#E5ECF6",
           "radialaxis": {
            "gridcolor": "white",
            "linecolor": "white",
            "ticks": ""
           }
          },
          "scene": {
           "xaxis": {
            "backgroundcolor": "#E5ECF6",
            "gridcolor": "white",
            "gridwidth": 2,
            "linecolor": "white",
            "showbackground": true,
            "ticks": "",
            "zerolinecolor": "white"
           },
           "yaxis": {
            "backgroundcolor": "#E5ECF6",
            "gridcolor": "white",
            "gridwidth": 2,
            "linecolor": "white",
            "showbackground": true,
            "ticks": "",
            "zerolinecolor": "white"
           },
           "zaxis": {
            "backgroundcolor": "#E5ECF6",
            "gridcolor": "white",
            "gridwidth": 2,
            "linecolor": "white",
            "showbackground": true,
            "ticks": "",
            "zerolinecolor": "white"
           }
          },
          "shapedefaults": {
           "line": {
            "color": "#2a3f5f"
           }
          },
          "ternary": {
           "aaxis": {
            "gridcolor": "white",
            "linecolor": "white",
            "ticks": ""
           },
           "baxis": {
            "gridcolor": "white",
            "linecolor": "white",
            "ticks": ""
           },
           "bgcolor": "#E5ECF6",
           "caxis": {
            "gridcolor": "white",
            "linecolor": "white",
            "ticks": ""
           }
          },
          "title": {
           "x": 0.05
          },
          "xaxis": {
           "automargin": true,
           "gridcolor": "white",
           "linecolor": "white",
           "ticks": "",
           "title": {
            "standoff": 15
           },
           "zerolinecolor": "white",
           "zerolinewidth": 2
          },
          "yaxis": {
           "automargin": true,
           "gridcolor": "white",
           "linecolor": "white",
           "ticks": "",
           "title": {
            "standoff": 15
           },
           "zerolinecolor": "white",
           "zerolinewidth": 2
          }
         }
        }
       }
      },
      "text/html": [
       "<div>                            <div id=\"3bbedd89-9a69-4963-ba6f-54a0643d60c7\" class=\"plotly-graph-div\" style=\"height:525px; width:100%;\"></div>            <script type=\"text/javascript\">                require([\"plotly\"], function(Plotly) {                    window.PLOTLYENV=window.PLOTLYENV || {};                                    if (document.getElementById(\"3bbedd89-9a69-4963-ba6f-54a0643d60c7\")) {                    Plotly.newPlot(                        \"3bbedd89-9a69-4963-ba6f-54a0643d60c7\",                        [{\"mode\":\"text\",\"text\":[\",\",\"the\",\"of\",\"and\",\".\",\"a\",\"to\",\"in\",\"his\",\"was\",\"he\",\"with\",\";\",\"that\",\"or\",\"it\",\"by\",\"on\",\"for\",\"as\",\"at\",\"this\",\"project\",\"had\",\"from\",\"which\",\"you\",\"but\",\"all\",\"not\",\"is\",\"gutenberg\\u2122\",\"be\",\"who\",\"their\",\"any\",\"ichabod\",\"were\",\"one\",\"have\",\"work\",\"him\",\"an\",\"\\u2019\",\"some\",\"are\",\"if\",\"s\",\"there\",\"upon\",\"they\",\"about\",\"old\",\"\\u201c\",\"been\",\"works\",\"\\u201d\",\"country\",\"up\",\"no\",\"other\",\"over\",\"gutenberg\",\"i\",\"its\",\"electronic\",\"like\",\"would\",\"van\",\"time\",\"little\",\"foundation\",\"most\",\"hollow\",\"her\",\"terms\",\"where\",\"may\",\"more\",\"--\",\"into\",\"now\",\"do\",\"out\",\"so\",\"than\",\"along\",\"such\",\"copyright\",\"forth\",\"!\",\"side\",\"might\",\")\",\"under\",\"them\",\"agreement\",\"(\",\"great\",\"then\",\"full\",\"these\",\"before\",\"air\",\"states\",\"when\",\"himself\",\"those\",\"without\",\"away\",\"head\",\"we\",\"every\",\"sleepy\",\"can\",\"license\",\"bridge\",\"too\",\"how\",\"still\",\"however\",\"only\",\"being\",\"donations\",\"must\",\"way\",\"whole\",\"tassel\",\"literary\",\"church\",\"brom\",\"road\",\"heard\",\"through\",\"brook\",\"just\",\"bones\",\"archive\",\"story\",\"horse\",\"neighborhood\",\"trees\",\"united\",\"among\",\"trademark\",\"heart\",\"dutch\",\"night\",\"man\",\":\",\"use\",\"part\",\"made\",\"mind\",\"copy\",\"school\",\"your\",\"many\",\"found\",\"set\",\"while\",\"access\",\"after\",\"name\",\"paragraph\",\"small\",\"very\",\"tree\",\"good\",\"make\",\"often\",\"steed\",\"new\",\"eyes\",\"black\",\"even\",\"schoolhouse\",\"refund\",\"against\",\"kind\",\"state\",\"behind\",\"place\",\"round\",\"always\",\"almost\",\"laws\",\"foot\",\"agree\",\"seen\",\"including\",\"two\",\"crane\",\"scene\",\"should\",\"has\",\"long\",\"end\",\"haunted\",\"will\",\"favorite\",\"law\",\"saddle\",\"could\",\"what\",\"gunpowder\",\"off\",\"hand\",\"received\",\"ripper\",\"white\",\"hans\",\"did\",\"half\",\"fee\",\"goblin\",\"thought\",\"schoolmaster\",\"cakes\",\"our\",\"within\",\"life\",\"whom\",\"evening\",\"though\",\"came\",\"tales\",\"see\",\"give\",\"certain\",\"ever\",\"master\",\"several\",\"carried\",\"high\",\"information\",\"day\",\"passed\",\"large\",\"days\",\"people\",\"associated\",\"much\",\"rich\",\"huge\",\"hessian\",\"section\",\"something\",\"rival\",\"therefore\",\"appearance\",\"ebooks\",\"door\",\"fearful\",\"u.s.\",\"down\",\"turned\",\"stood\",\"sound\",\"left\",\"own\",\"dark\",\"ghosts\",\"moment\",\"eye\",\"distributing\",\"ebook\",\"hero\",\"copies\",\"known\",\"help\",\"horseman\",\"having\",\"provide\",\"stream\",\"?\",\"fire\",\"wild\",\"person\",\"sometimes\",\"form\",\"told\",\"pedagogue\",\"hung\",\"ghost\",\"look\",\"water\",\"put\",\"called\",\"thus\",\"idea\",\"children\",\"wings\",\"late\",\"blue\",\"*\",\"turn\",\"rustic\",\"permission\",\"nature\",\"charge\",\"yet\",\"paid\",\"beheld\",\"distribute\",\"fine\",\"same\",\"rather\",\"broad\",\"fact\",\"path\",\"valley\",\"sides\",\"stories\",\"short\",\"far\",\"following\",\"neighboring\",\"hudson\",\"tax\",\"spectre\",\"began\",\"others\",\"ready\",\"hat\",\"looked\",\"given\",\"distribution\",\"partly\",\"spirit\",\"parts\",\"rider\",\"justice\",\"window\",\"another\",\"comply\",\"powers\",\"green\",\"hills\",\"land\",\"medium\",\"compliance\",\"taken\",\"gradually\",\"gave\",\"1.f.3\",\"using\",\"1.e.1\",\"free\",\"suddenly\",\"lady\",\"mission\",\"felt\",\"replacement\",\"located\",\"distant\",\"mounted\",\"winter\",\"farmhouse\",\"times\",\"rough\",\"distance\",\"indeed\",\"churchyard\",\"sunday\",\"opposite\",\"unfortunate\",\"midnight\",\"back\",\"laid\",\"headless\",\"entered\",\"world\",\"sky\",\"farmers\",\"nearly\",\"years\",\"according\",\"except\",\"companion\",\"together\",\"never\",\"beneath\",\"neck\",\"mere\",\"volunteers\",\"war\",\"whose\",\"region\",\"books\",\"money\",\"seemed\",\"true\",\"my\",\"tall\",\"she\",\"katrina\",\"each\",\"broke\",\"motion\",\"protected\",\"beset\",\"face\",\"galloping\",\"provided\",\"fields\",\"say\",\"sat\",\"psalm\",\"walk\",\"marvellous\",\"poor\",\"across\",\"hour\",\"right\",\"delight\",\"mixture\",\"limited\"],\"x\":[43.84078598022461,43.07704544067383,43.51253890991211,43.544857025146484,41.858551025390625,43.375282287597656,43.102622985839844,43.10635757446289,43.0233154296875,41.93037033081055,41.06223678588867,41.102291107177734,40.018001556396484,42.28636932373047,39.790435791015625,38.79170227050781,41.608665466308594,39.649383544921875,40.52719497680664,39.16529846191406,39.565208435058594,42.13876724243164,42.30060577392578,40.42240524291992,36.10635757446289,37.553955078125,39.10527038574219,34.30670928955078,36.28295135498047,38.95097351074219,38.85768508911133,39.23155975341797,39.78107833862305,37.410972595214844,30.830219268798828,36.74228286743164,31.853986740112305,33.54824447631836,34.982173919677734,39.83363342285156,34.935882568359375,33.84199905395508,38.38009262084961,40.1266975402832,37.3465461730957,38.47249221801758,34.31344985961914,34.28441619873047,28.072206497192383,39.43372344970703,40.31107711791992,37.75508117675781,33.38004684448242,31.764480590820312,36.497074127197266,30.920881271362305,34.17518615722656,29.188154220581055,32.61534881591797,32.59856033325195,26.2147274017334,34.84919738769531,31.831151962280273,33.48087692260742,27.55915641784668,27.818159103393555,25.432865142822266,32.19379806518555,35.773582458496094,24.094276428222656,22.528135299682617,33.258689880371094,24.99813461303711,34.989620208740234,28.43600082397461,28.139564514160156,33.91111373901367,28.637208938598633,24.624086380004883,29.08985137939453,32.3262939453125,21.764122009277344,21.105859756469727,29.754751205444336,30.15479850769043,21.63699722290039,23.83669662475586,20.83637237548828,19.599821090698242,28.87401580810547,21.941041946411133,19.955501556396484,21.642906188964844,22.204980850219727,22.896270751953125,23.273927688598633,20.9962100982666,27.21363639831543,20.464101791381836,7.977302551269531,25.594833374023438,15.239343643188477,26.533674240112305,8.798492431640625,24.99978256225586,25.314287185668945,13.507526397705078,16.34178924560547,25.362390518188477,28.901220321655273,4.066963195800781,28.59140968322754,23.276554107666016,29.656620025634766,23.20862579345703,16.615358352661133,14.333902359008789,4.663620471954346,26.038516998291016,22.48223304748535,10.546765327453613,15.591479301452637,0.2887902557849884,28.16299819946289,24.208162307739258,14.72537612915039,15.472493171691895,14.241902351379395,23.233251571655273,12.11742877960205,23.734838485717773,2.4356849193573,25.521427154541016,17.15064239501953,15.982926368713379,15.966198921203613,13.286974906921387,26.68104362487793,17.470956802368164,4.6494140625,17.4526309967041,6.341896057128906,18.051433563232422,20.444984436035156,-2.5329277515411377,-3.84358811378479,16.322799682617188,16.865276336669922,3.394561529159546,-2.2137486934661865,14.608464241027832,9.733223915100098,5.985586643218994,4.92592191696167,-3.665177583694458,-2.19781756401062,10.466256141662598,9.012470245361328,-2.720460891723633,16.981473922729492,-0.5891100168228149,8.02682113647461,11.023492813110352,5.5657196044921875,15.241085052490234,8.791059494018555,5.2062907218933105,2.7795073986053467,1.34951651096344,6.6442999839782715,15.79878044128418,5.088682174682617,6.132078170776367,14.143219947814941,9.923254013061523,3.0105607509613037,0.532336950302124,16.544727325439453,-4.075927734375,-27.024930953979492,4.763323783874512,9.680171012878418,-9.090474128723145,9.225273132324219,-2.8331055641174316,-11.637825012207031,13.377790451049805,-12.646089553833008,-21.115732192993164,10.150976181030273,-22.878559112548828,-12.807160377502441,-8.017627716064453,-4.6146063804626465,-1.9565845727920532,9.61771011352539,-7.437167167663574,-4.344918727874756,14.340400695800781,3.528303384780884,5.993496894836426,2.0976884365081787,-8.407419204711914,-14.125714302062988,2.516836643218994,-3.683001756668091,15.685785293579102,-18.648874282836914,6.368870258331299,13.800827026367188,-27.388587951660156,7.787867069244385,7.21051549911499,-3.0376334190368652,-8.005021095275879,-3.487056255340576,-2.4839415550231934,-25.812131881713867,1.5973079204559326,10.362980842590332,-6.515252113342285,-22.30866050720215,-13.770759582519531,10.101081848144531,8.961312294006348,-17.417381286621094,5.647989273071289,-30.39917755126953,-4.042333126068115,-12.317628860473633,0.532270610332489,-21.293550491333008,-4.1276984214782715,6.029987812042236,8.61451530456543,-5.090598106384277,-19.28658103942871,-12.061827659606934,9.776862144470215,-9.973285675048828,5.816318035125732,-36.55550003051758,-23.452062606811523,-11.265961647033691,-35.62897491455078,-0.2368411123752594,-40.29090881347656,-25.138811111450195,-23.217761993408203,-41.57857131958008,-14.991395950317383,4.3658976554870605,-22.584339141845703,-12.930842399597168,5.3478169441223145,-12.424696922302246,14.063544273376465,-16.582603454589844,-30.141481399536133,-18.08202362060547,-30.980281829833984,-28.992456436157227,-2.6728427410125732,-15.007392883300781,-4.4848809242248535,-15.96850872039795,-3.3940398693084717,-19.313276290893555,-8.678775787353516,-14.0044527053833,-7.951702117919922,12.511695861816406,-28.39560317993164,-7.485342502593994,-0.849478542804718,-31.04618263244629,-32.302425384521484,-9.940166473388672,-25.47830581665039,-22.283435821533203,-24.93250274658203,-11.5379638671875,-29.219289779663086,-34.49981689453125,-13.536386489868164,-15.18248462677002,-15.08984088897705,-16.299591064453125,-29.793434143066406,-18.21385383605957,-6.919870853424072,-39.40775680541992,-41.85725021362305,-28.129974365234375,-34.995059967041016,0.6996053457260132,3.3278372287750244,-20.547739028930664,-28.6787166595459,-29.540760040283203,-16.549274444580078,-2.971132278442383,-9.490678787231445,-15.507017135620117,-18.599153518676758,-41.59867858886719,-25.46892738342285,-1.6598188877105713,-32.749244689941406,-37.68347930908203,-32.582401275634766,-25.7419490814209,-30.333303451538086,-17.86412811279297,-40.014739990234375,-20.767623901367188,-23.316505432128906,-40.459957122802734,-37.27815628051758,-7.861035346984863,-12.011564254760742,-5.973088264465332,-37.0735969543457,-28.75040054321289,-23.556411743164062,-8.408281326293945,-32.900577545166016,-14.880987167358398,-28.272314071655273,-18.636886596679688,-18.223575592041016,-32.284549713134766,-37.20527648925781,-7.933261871337891,-40.50006103515625,-24.02474594116211,-38.11471939086914,-24.023168563842773,-10.973722457885742,-26.483091354370117,-30.6674861907959,-38.007991790771484,-22.651138305664062,-37.0889892578125,-21.313323974609375,-23.336973190307617,-34.362220764160156,-22.755626678466797,-7.509310722351074,-38.070289611816406,-16.84413719177246,-19.92593002319336,-28.519859313964844,-3.4809253215789795,-27.217086791992188,-24.970752716064453,-19.892574310302734,-29.295509338378906,-41.839202880859375,-36.92139434814453,-35.67832565307617,-17.779144287109375,-27.309114456176758,-38.900020599365234,-31.418750762939453,-17.048677444458008,-24.5742244720459,-37.93844985961914,-38.96211624145508,-40.66600036621094,-16.02767562866211,-36.5032844543457,-18.141008377075195,-31.756338119506836,-39.08049774169922,-34.169185638427734,-9.214601516723633,-39.48807907104492,-6.790193557739258,-32.8270263671875,-39.785396575927734,-36.541988372802734,-31.292896270751953,-37.06093978881836,-19.880285263061523,-34.36954116821289,-36.60830307006836,-33.660789489746094,-14.387811660766602,-36.19641876220703,-21.92901611328125,-38.73324203491211,-39.42925262451172,-24.404502868652344,-31.15483283996582,-35.32617950439453,-25.15546417236328,-31.19727897644043,-21.795875549316406,-31.39634132385254,-16.060224533081055,-7.95768928527832,-25.90712547302246,-14.89801025390625,-15.654346466064453,-21.29705047607422,-39.52907180786133,-27.82906150817871,-37.6118278503418,-28.716876983642578,-33.45130920410156,-9.414674758911133,-14.02535343170166,-30.088449478149414,-10.778521537780762,-22.278507232666016,-31.969057083129883,-38.35654067993164],\"y\":[-1.2845304012298584,-1.1044210195541382,-1.2097477912902832,-1.3115791082382202,-1.4775758981704712,-1.5220043659210205,-1.5500049591064453,-1.0977624654769897,-1.536577582359314,-1.1383106708526611,-1.1590547561645508,-1.4272514581680298,-0.9137582182884216,-1.1874555349349976,-1.6473329067230225,-0.9298871159553528,-1.272539734840393,-1.678088665008545,-1.0758949518203735,-0.8438084721565247,-0.8606696724891663,-1.4464715719223022,-1.4699820280075073,-1.542891025543213,-1.1393847465515137,-1.1807887554168701,-0.9237936735153198,-1.3505345582962036,-1.1529289484024048,-1.5553767681121826,-1.4920189380645752,-1.8023375272750854,-0.8796868324279785,-1.1926277875900269,-0.8516639471054077,-1.1675716638565063,-0.8739741444587708,-0.7303439974784851,-1.2054028511047363,-1.5741357803344727,-1.3245019912719727,-0.9714080095291138,-1.1214888095855713,-0.8804292678833008,-1.1769156455993652,-1.3603105545043945,-1.3250128030776978,-0.7338289618492126,-0.4514096975326538,-1.3252261877059937,-1.550075650215149,-1.2238481044769287,-0.7987672090530396,-0.9418298602104187,-1.1515843868255615,-0.8650792241096497,-0.7299217581748962,-0.8339449167251587,-1.0529528856277466,-0.8301690220832825,-0.30272892117500305,-0.8784498572349548,-0.9843007922172546,-1.2876027822494507,-0.5629905462265015,-0.9144748449325562,-0.17690014839172363,-0.777515172958374,-1.1204725503921509,-0.12441351264715195,0.05089551582932472,-1.1852285861968994,-0.2552105188369751,-0.9113250970840454,-1.0224217176437378,-0.8644452691078186,-1.3714293241500854,-0.8885684609413147,-0.22061805427074432,-0.5143410563468933,-1.1226886510849,-0.23954740166664124,-0.11538535356521606,-0.7332904934883118,-0.8177275657653809,0.15606440603733063,-0.4191063642501831,0.0649842694401741,0.2125096321105957,-0.4665070176124573,-0.2079690843820572,0.17790114879608154,0.14029915630817413,0.13569276034832,-0.08461130410432816,0.06998058408498764,0.21391335129737854,-0.5624380707740784,0.1263347715139389,0.8092471361160278,-0.2550122141838074,0.6160874962806702,-0.5823422074317932,0.2615988552570343,-0.6187009215354919,-0.6940742135047913,0.6982060074806213,0.33604633808135986,-0.13921251893043518,-0.9791839122772217,0.6793702244758606,-0.36795100569725037,-0.4557306468486786,-0.8292610049247742,0.054969772696495056,0.8786118030548096,0.4317642152309418,1.3453916311264038,-0.5612504482269287,-0.3236602544784546,1.204993486404419,0.9753128886222839,0.8769512176513672,-0.40031296014785767,-0.4814516603946686,0.8477494120597839,1.1011308431625366,1.1412913799285889,-0.5276991724967957,0.8322018384933472,0.033512163907289505,0.7233356237411499,-0.6690465211868286,0.1212344542145729,0.9850866794586182,0.2189004123210907,0.6051701903343201,-0.538448691368103,0.48720070719718933,1.0953866243362427,0.5989986062049866,0.47033247351646423,0.36995482444763184,0.11492583900690079,0.9156622886657715,1.1817705631256104,0.9964852929115295,0.49078693985939026,1.1225942373275757,0.41859111189842224,0.37921079993247986,0.6901190280914307,0.1825396567583084,0.6956593990325928,0.05068539083003998,1.1415225267410278,1.2040116786956787,0.7567012310028076,0.11427833884954453,0.6576957106590271,0.7636317014694214,0.5367237329483032,0.7154691219329834,1.4749469757080078,0.26653608679771423,0.845100462436676,0.30604249238967896,0.7157015204429626,0.7290117740631104,0.39415425062179565,0.5629749894142151,0.5307099223136902,1.3743791580200195,0.6439183950424194,0.36502450704574585,1.2560793161392212,0.8015340566635132,0.17264245450496674,1.6215237379074097,-1.6574076414108276,0.035206858068704605,1.15189790725708,0.7159315943717957,0.3393558859825134,0.46639788150787354,-0.41735175251960754,0.4179646968841553,-1.132952094078064,-1.3221473693847656,1.0990869998931885,-0.9531316161155701,-0.440015971660614,0.7496599555015564,0.8958559632301331,1.2342383861541748,1.3957785367965698,0.31839337944984436,0.8457388281822205,0.41499337553977966,0.4133637547492981,1.1582603454589844,0.8612496852874756,0.35584014654159546,0.32834741473197937,0.8814892768859863,0.38774871826171875,0.11234311759471893,0.021425891667604446,1.1425576210021973,1.0611306428909302,-1.95748770236969,1.31816565990448,0.9786666631698608,1.4383940696716309,0.39927080273628235,0.9673050045967102,0.1565386950969696,-0.3382885456085205,1.188193678855896,0.5896783471107483,-0.09242239594459534,-1.6782116889953613,-0.3286118507385254,0.46770620346069336,1.4189926385879517,-1.4039188623428345,0.6615699529647827,-0.384699285030365,0.9963841438293457,-0.18150627613067627,0.780612587928772,-0.8523720502853394,-0.08854008466005325,0.6839033961296082,1.324972152709961,0.697214663028717,0.11616767197847366,0.38414108753204346,0.8099792003631592,0.5443169474601746,1.2294247150421143,-0.161906436085701,-1.2204891443252563,-0.783076286315918,-0.4693126678466797,0.7403650879859924,-0.2420937418937683,-0.13535982370376587,-0.3807050287723541,-0.6287193298339844,-0.8610593676567078,0.8657287359237671,-0.2330377697944641,-0.47161829471588135,1.5200037956237793,0.0677836686372757,1.1702032089233398,0.05682648718357086,-1.5037728548049927,-0.6090165376663208,-0.5718859434127808,-0.8124560713768005,1.205605149269104,-1.3524848222732544,0.18854571878910065,-0.7783622145652771,1.222204327583313,-1.133238434791565,0.7370708584785461,-1.1853430271148682,0.8148177862167358,0.7725531458854675,-1.6684833765029907,-0.11407963931560516,0.747706949710846,-1.5624967813491821,-1.1305819749832153,-0.4869493246078491,-1.8408480882644653,-1.8806027173995972,-1.6814903020858765,-0.3317417800426483,-1.7580173015594482,-1.285888910293579,0.18195903301239014,0.28089848160743713,0.7175746560096741,-0.5279491543769836,-1.8096481561660767,-1.071627140045166,0.5768166780471802,-0.7908512949943542,-0.6645837426185608,-0.737470805644989,-0.7795730233192444,0.7752763032913208,0.834912121295929,-0.7967043519020081,-1.138878345489502,-2.1573407649993896,-0.5656899213790894,0.41989412903785706,0.19057157635688782,0.24979396164417267,-1.3953323364257812,-0.6350340247154236,-0.9379976987838745,0.5355291962623596,-0.5643910765647888,-0.1944376528263092,-1.3912404775619507,-0.19858106970787048,-0.14504019916057587,-0.2022865116596222,0.054785847663879395,-1.577276349067688,-0.6708042025566101,-0.7218911051750183,-0.008809177204966545,0.626646101474762,-0.7046623826026917,0.5738982558250427,-0.4502399265766144,0.0238652341067791,0.41979068517684937,-0.34195253252983093,-0.6467207074165344,-0.3688009977340698,-0.12860903143882751,-1.210076093673706,-0.8627024292945862,-0.3781210482120514,-1.3648171424865723,-0.4021076261997223,-0.5070006847381592,-1.271878957748413,-0.010340864770114422,-0.40683478116989136,-0.06322504580020905,-1.3961925506591797,-2.1792795658111572,-1.030570149421692,0.16234661638736725,-1.333292841911316,-0.7151941061019897,0.22652515769004822,-0.4274515211582184,-0.8988316655158997,0.8457155823707581,-0.9727036952972412,-1.037093162536621,-1.6973090171813965,-1.364091396331787,0.5312352180480957,-0.9951198697090149,-0.8629262447357178,-1.1314032077789307,-0.7987326383590698,-0.6636892557144165,0.12669332325458527,-1.2473922967910767,0.39978113770484924,-1.5546780824661255,0.05378999933600426,-2.352449655532837,-0.5656387209892273,-0.21374773979187012,-1.1780749559402466,-0.41531839966773987,-0.48827630281448364,-0.36982572078704834,-0.8784009218215942,0.05211421847343445,-1.575209617614746,-0.4591851234436035,-1.0696794986724854,-0.08223987370729446,-0.9972183704376221,0.5181818008422852,-0.12381599843502045,-0.9199082255363464,-0.6196039915084839,-1.6862260103225708,-0.23025350272655487,-0.12618878483772278,-0.3056578040122986,-1.1207501888275146,-1.1583607196807861,-0.6417088508605957,0.2927737534046173,-1.632887601852417,-0.956699550151825,0.018663888797163963,-1.8421576023101807,-0.722133457660675,-0.189079150557518,-0.7359036803245544,-0.9560226202011108,-0.4413098692893982,-1.2159277200698853,-0.00813403632491827,-0.1572253257036209,-1.6255367994308472,-1.240190029144287,-0.9176002740859985,0.11901431530714035,-0.07585769891738892,-0.25540226697921753,-0.5949167609214783,-0.538023829460144,-1.2679011821746826,-0.37821251153945923,-0.46667972207069397,-0.5539981722831726,0.12221137434244156,-1.6426185369491577,-0.9265177845954895,-0.40487658977508545],\"type\":\"scatter\"}],                        {\"template\":{\"data\":{\"barpolar\":[{\"marker\":{\"line\":{\"color\":\"#E5ECF6\",\"width\":0.5},\"pattern\":{\"fillmode\":\"overlay\",\"size\":10,\"solidity\":0.2}},\"type\":\"barpolar\"}],\"bar\":[{\"error_x\":{\"color\":\"#2a3f5f\"},\"error_y\":{\"color\":\"#2a3f5f\"},\"marker\":{\"line\":{\"color\":\"#E5ECF6\",\"width\":0.5},\"pattern\":{\"fillmode\":\"overlay\",\"size\":10,\"solidity\":0.2}},\"type\":\"bar\"}],\"carpet\":[{\"aaxis\":{\"endlinecolor\":\"#2a3f5f\",\"gridcolor\":\"white\",\"linecolor\":\"white\",\"minorgridcolor\":\"white\",\"startlinecolor\":\"#2a3f5f\"},\"baxis\":{\"endlinecolor\":\"#2a3f5f\",\"gridcolor\":\"white\",\"linecolor\":\"white\",\"minorgridcolor\":\"white\",\"startlinecolor\":\"#2a3f5f\"},\"type\":\"carpet\"}],\"choropleth\":[{\"colorbar\":{\"outlinewidth\":0,\"ticks\":\"\"},\"type\":\"choropleth\"}],\"contourcarpet\":[{\"colorbar\":{\"outlinewidth\":0,\"ticks\":\"\"},\"type\":\"contourcarpet\"}],\"contour\":[{\"colorbar\":{\"outlinewidth\":0,\"ticks\":\"\"},\"colorscale\":[[0.0,\"#0d0887\"],[0.1111111111111111,\"#46039f\"],[0.2222222222222222,\"#7201a8\"],[0.3333333333333333,\"#9c179e\"],[0.4444444444444444,\"#bd3786\"],[0.5555555555555556,\"#d8576b\"],[0.6666666666666666,\"#ed7953\"],[0.7777777777777778,\"#fb9f3a\"],[0.8888888888888888,\"#fdca26\"],[1.0,\"#f0f921\"]],\"type\":\"contour\"}],\"heatmapgl\":[{\"colorbar\":{\"outlinewidth\":0,\"ticks\":\"\"},\"colorscale\":[[0.0,\"#0d0887\"],[0.1111111111111111,\"#46039f\"],[0.2222222222222222,\"#7201a8\"],[0.3333333333333333,\"#9c179e\"],[0.4444444444444444,\"#bd3786\"],[0.5555555555555556,\"#d8576b\"],[0.6666666666666666,\"#ed7953\"],[0.7777777777777778,\"#fb9f3a\"],[0.8888888888888888,\"#fdca26\"],[1.0,\"#f0f921\"]],\"type\":\"heatmapgl\"}],\"heatmap\":[{\"colorbar\":{\"outlinewidth\":0,\"ticks\":\"\"},\"colorscale\":[[0.0,\"#0d0887\"],[0.1111111111111111,\"#46039f\"],[0.2222222222222222,\"#7201a8\"],[0.3333333333333333,\"#9c179e\"],[0.4444444444444444,\"#bd3786\"],[0.5555555555555556,\"#d8576b\"],[0.6666666666666666,\"#ed7953\"],[0.7777777777777778,\"#fb9f3a\"],[0.8888888888888888,\"#fdca26\"],[1.0,\"#f0f921\"]],\"type\":\"heatmap\"}],\"histogram2dcontour\":[{\"colorbar\":{\"outlinewidth\":0,\"ticks\":\"\"},\"colorscale\":[[0.0,\"#0d0887\"],[0.1111111111111111,\"#46039f\"],[0.2222222222222222,\"#7201a8\"],[0.3333333333333333,\"#9c179e\"],[0.4444444444444444,\"#bd3786\"],[0.5555555555555556,\"#d8576b\"],[0.6666666666666666,\"#ed7953\"],[0.7777777777777778,\"#fb9f3a\"],[0.8888888888888888,\"#fdca26\"],[1.0,\"#f0f921\"]],\"type\":\"histogram2dcontour\"}],\"histogram2d\":[{\"colorbar\":{\"outlinewidth\":0,\"ticks\":\"\"},\"colorscale\":[[0.0,\"#0d0887\"],[0.1111111111111111,\"#46039f\"],[0.2222222222222222,\"#7201a8\"],[0.3333333333333333,\"#9c179e\"],[0.4444444444444444,\"#bd3786\"],[0.5555555555555556,\"#d8576b\"],[0.6666666666666666,\"#ed7953\"],[0.7777777777777778,\"#fb9f3a\"],[0.8888888888888888,\"#fdca26\"],[1.0,\"#f0f921\"]],\"type\":\"histogram2d\"}],\"histogram\":[{\"marker\":{\"pattern\":{\"fillmode\":\"overlay\",\"size\":10,\"solidity\":0.2}},\"type\":\"histogram\"}],\"mesh3d\":[{\"colorbar\":{\"outlinewidth\":0,\"ticks\":\"\"},\"type\":\"mesh3d\"}],\"parcoords\":[{\"line\":{\"colorbar\":{\"outlinewidth\":0,\"ticks\":\"\"}},\"type\":\"parcoords\"}],\"pie\":[{\"automargin\":true,\"type\":\"pie\"}],\"scatter3d\":[{\"line\":{\"colorbar\":{\"outlinewidth\":0,\"ticks\":\"\"}},\"marker\":{\"colorbar\":{\"outlinewidth\":0,\"ticks\":\"\"}},\"type\":\"scatter3d\"}],\"scattercarpet\":[{\"marker\":{\"colorbar\":{\"outlinewidth\":0,\"ticks\":\"\"}},\"type\":\"scattercarpet\"}],\"scattergeo\":[{\"marker\":{\"colorbar\":{\"outlinewidth\":0,\"ticks\":\"\"}},\"type\":\"scattergeo\"}],\"scattergl\":[{\"marker\":{\"colorbar\":{\"outlinewidth\":0,\"ticks\":\"\"}},\"type\":\"scattergl\"}],\"scattermapbox\":[{\"marker\":{\"colorbar\":{\"outlinewidth\":0,\"ticks\":\"\"}},\"type\":\"scattermapbox\"}],\"scatterpolargl\":[{\"marker\":{\"colorbar\":{\"outlinewidth\":0,\"ticks\":\"\"}},\"type\":\"scatterpolargl\"}],\"scatterpolar\":[{\"marker\":{\"colorbar\":{\"outlinewidth\":0,\"ticks\":\"\"}},\"type\":\"scatterpolar\"}],\"scatter\":[{\"fillpattern\":{\"fillmode\":\"overlay\",\"size\":10,\"solidity\":0.2},\"type\":\"scatter\"}],\"scatterternary\":[{\"marker\":{\"colorbar\":{\"outlinewidth\":0,\"ticks\":\"\"}},\"type\":\"scatterternary\"}],\"surface\":[{\"colorbar\":{\"outlinewidth\":0,\"ticks\":\"\"},\"colorscale\":[[0.0,\"#0d0887\"],[0.1111111111111111,\"#46039f\"],[0.2222222222222222,\"#7201a8\"],[0.3333333333333333,\"#9c179e\"],[0.4444444444444444,\"#bd3786\"],[0.5555555555555556,\"#d8576b\"],[0.6666666666666666,\"#ed7953\"],[0.7777777777777778,\"#fb9f3a\"],[0.8888888888888888,\"#fdca26\"],[1.0,\"#f0f921\"]],\"type\":\"surface\"}],\"table\":[{\"cells\":{\"fill\":{\"color\":\"#EBF0F8\"},\"line\":{\"color\":\"white\"}},\"header\":{\"fill\":{\"color\":\"#C8D4E3\"},\"line\":{\"color\":\"white\"}},\"type\":\"table\"}]},\"layout\":{\"annotationdefaults\":{\"arrowcolor\":\"#2a3f5f\",\"arrowhead\":0,\"arrowwidth\":1},\"autotypenumbers\":\"strict\",\"coloraxis\":{\"colorbar\":{\"outlinewidth\":0,\"ticks\":\"\"}},\"colorscale\":{\"diverging\":[[0,\"#8e0152\"],[0.1,\"#c51b7d\"],[0.2,\"#de77ae\"],[0.3,\"#f1b6da\"],[0.4,\"#fde0ef\"],[0.5,\"#f7f7f7\"],[0.6,\"#e6f5d0\"],[0.7,\"#b8e186\"],[0.8,\"#7fbc41\"],[0.9,\"#4d9221\"],[1,\"#276419\"]],\"sequential\":[[0.0,\"#0d0887\"],[0.1111111111111111,\"#46039f\"],[0.2222222222222222,\"#7201a8\"],[0.3333333333333333,\"#9c179e\"],[0.4444444444444444,\"#bd3786\"],[0.5555555555555556,\"#d8576b\"],[0.6666666666666666,\"#ed7953\"],[0.7777777777777778,\"#fb9f3a\"],[0.8888888888888888,\"#fdca26\"],[1.0,\"#f0f921\"]],\"sequentialminus\":[[0.0,\"#0d0887\"],[0.1111111111111111,\"#46039f\"],[0.2222222222222222,\"#7201a8\"],[0.3333333333333333,\"#9c179e\"],[0.4444444444444444,\"#bd3786\"],[0.5555555555555556,\"#d8576b\"],[0.6666666666666666,\"#ed7953\"],[0.7777777777777778,\"#fb9f3a\"],[0.8888888888888888,\"#fdca26\"],[1.0,\"#f0f921\"]]},\"colorway\":[\"#636efa\",\"#EF553B\",\"#00cc96\",\"#ab63fa\",\"#FFA15A\",\"#19d3f3\",\"#FF6692\",\"#B6E880\",\"#FF97FF\",\"#FECB52\"],\"font\":{\"color\":\"#2a3f5f\"},\"geo\":{\"bgcolor\":\"white\",\"lakecolor\":\"white\",\"landcolor\":\"#E5ECF6\",\"showlakes\":true,\"showland\":true,\"subunitcolor\":\"white\"},\"hoverlabel\":{\"align\":\"left\"},\"hovermode\":\"closest\",\"mapbox\":{\"style\":\"light\"},\"paper_bgcolor\":\"white\",\"plot_bgcolor\":\"#E5ECF6\",\"polar\":{\"angularaxis\":{\"gridcolor\":\"white\",\"linecolor\":\"white\",\"ticks\":\"\"},\"bgcolor\":\"#E5ECF6\",\"radialaxis\":{\"gridcolor\":\"white\",\"linecolor\":\"white\",\"ticks\":\"\"}},\"scene\":{\"xaxis\":{\"backgroundcolor\":\"#E5ECF6\",\"gridcolor\":\"white\",\"gridwidth\":2,\"linecolor\":\"white\",\"showbackground\":true,\"ticks\":\"\",\"zerolinecolor\":\"white\"},\"yaxis\":{\"backgroundcolor\":\"#E5ECF6\",\"gridcolor\":\"white\",\"gridwidth\":2,\"linecolor\":\"white\",\"showbackground\":true,\"ticks\":\"\",\"zerolinecolor\":\"white\"},\"zaxis\":{\"backgroundcolor\":\"#E5ECF6\",\"gridcolor\":\"white\",\"gridwidth\":2,\"linecolor\":\"white\",\"showbackground\":true,\"ticks\":\"\",\"zerolinecolor\":\"white\"}},\"shapedefaults\":{\"line\":{\"color\":\"#2a3f5f\"}},\"ternary\":{\"aaxis\":{\"gridcolor\":\"white\",\"linecolor\":\"white\",\"ticks\":\"\"},\"baxis\":{\"gridcolor\":\"white\",\"linecolor\":\"white\",\"ticks\":\"\"},\"bgcolor\":\"#E5ECF6\",\"caxis\":{\"gridcolor\":\"white\",\"linecolor\":\"white\",\"ticks\":\"\"}},\"title\":{\"x\":0.05},\"xaxis\":{\"automargin\":true,\"gridcolor\":\"white\",\"linecolor\":\"white\",\"ticks\":\"\",\"title\":{\"standoff\":15},\"zerolinecolor\":\"white\",\"zerolinewidth\":2},\"yaxis\":{\"automargin\":true,\"gridcolor\":\"white\",\"linecolor\":\"white\",\"ticks\":\"\",\"title\":{\"standoff\":15},\"zerolinecolor\":\"white\",\"zerolinewidth\":2}}}},                        {\"responsive\": true}                    ).then(function(){\n",
       "                            \n",
       "var gd = document.getElementById('3bbedd89-9a69-4963-ba6f-54a0643d60c7');\n",
       "var x = new MutationObserver(function (mutations, observer) {{\n",
       "        var display = window.getComputedStyle(gd).display;\n",
       "        if (!display || display === 'none') {{\n",
       "            console.log([gd, 'removed!']);\n",
       "            Plotly.purge(gd);\n",
       "            observer.disconnect();\n",
       "        }}\n",
       "}});\n",
       "\n",
       "// Listen for the removal of the full notebook cells\n",
       "var notebookContainer = gd.closest('#notebook-container');\n",
       "if (notebookContainer) {{\n",
       "    x.observe(notebookContainer, {childList: true});\n",
       "}}\n",
       "\n",
       "// Listen for the clearing of the current output cell\n",
       "var outputEl = gd.closest('.output');\n",
       "if (outputEl) {{\n",
       "    x.observe(outputEl, {childList: true});\n",
       "}}\n",
       "\n",
       "                        })                };                });            </script>        </div>"
      ]
     },
     "metadata": {},
     "output_type": "display_data"
    }
   ],
   "source": [
    "def plot_with_plotly(x_vals, y_vals, labels, plot_in_notebook=True):\n",
    "    from plotly.offline import init_notebook_mode, iplot, plot\n",
    "    import plotly.graph_objs as go\n",
    "\n",
    "    trace = go.Scatter(x=x_vals, y=y_vals, mode='text', text=labels)\n",
    "    data = [trace]\n",
    "\n",
    "    if plot_in_notebook:\n",
    "        init_notebook_mode(connected=True)\n",
    "        iplot(data, filename='word-embedding-plot')\n",
    "    else:\n",
    "        plot(data, filename='word-embedding-plot.html')\n",
    "\n",
    "\n",
    "def plot_with_matplotlib(x_vals, y_vals, labels):\n",
    "    import matplotlib.pyplot as plt\n",
    "    import random\n",
    "\n",
    "    random.seed(0)\n",
    "\n",
    "    plt.figure(figsize=(12, 12))\n",
    "    plt.scatter(x_vals, y_vals)\n",
    "\n",
    "    #\n",
    "    # Label randomly subsampled 25 data points\n",
    "    #\n",
    "    indices = list(range(len(labels)))\n",
    "    selected_indices = random.sample(indices, 25)\n",
    "    for i in selected_indices:\n",
    "        plt.annotate(labels[i], (x_vals[i], y_vals[i]))\n",
    "\n",
    "try:\n",
    "    get_ipython()\n",
    "except Exception:\n",
    "    plot_function = plot_with_matplotlib\n",
    "else:\n",
    "    plot_function = plot_with_plotly\n",
    "\n",
    "plot_function(x_vals, y_vals, labels)"
   ]
  },
  {
   "cell_type": "code",
   "execution_count": 48,
   "id": "a4c0f7c3",
   "metadata": {},
   "outputs": [],
   "source": [
    "import numpy as np\n",
    "from scipy import spatial\n",
    "import matplotlib.pyplot as plt\n",
    "from sklearn.manifold import TSNE"
   ]
  },
  {
   "cell_type": "code",
   "execution_count": 51,
   "id": "495ae66b",
   "metadata": {},
   "outputs": [],
   "source": [
    "#establish an empty dictionary\n",
    "embeddings_dict = {}\n",
    "\n",
    "#open the file and read it into the dictionary\n",
    "with open(\"C:\\\\Users\\\\Jonathan A\\\\OneDrive\\\\Desktop\\\\glove.6B\\\\glove.6B.100d.txt\", 'r', encoding=\"utf-8\") as f:\n",
    "    for line in f:\n",
    "        values = line.split()\n",
    "        word = values[0]\n",
    "        vector = np.asarray(values[1:], \"float32\")\n",
    "        embeddings_dict[word] = vector"
   ]
  },
  {
   "cell_type": "code",
   "execution_count": 52,
   "id": "2bff8f1f",
   "metadata": {},
   "outputs": [],
   "source": [
    "#find the Euclidean distance between the vectors for words and 1 or more other words.\n",
    "#sort the resulting word distances.\n",
    "def find_closest_embeddings(embedding):\n",
    "    return sorted(embeddings_dict.keys(), key=lambda word: \n",
    "                  spatial.distance.euclidean(embeddings_dict[word], embedding))"
   ]
  },
  {
   "cell_type": "code",
   "execution_count": 54,
   "id": "0d1750e9",
   "metadata": {},
   "outputs": [
    {
     "name": "stdout",
     "output_type": "stream",
     "text": [
      "['ghost', 'shadow', 'haunted', 'ghosts', 'witch', 'monster', 'beast', 'stranger', 'shadows', 'fairy', 'demon', 'cat', 'vampire', 'wandering', 'dragon', 'phantom', 'www.slarmy.org', 'twilight', 'nameless', '__________________________________']\n"
     ]
    }
   ],
   "source": [
    "print(find_closest_embeddings(\n",
    "    embeddings_dict[\"ghost\"]\n",
    ")[:20])"
   ]
  },
  {
   "cell_type": "code",
   "execution_count": 56,
   "id": "fadc85b5",
   "metadata": {},
   "outputs": [
    {
     "name": "stdout",
     "output_type": "stream",
     "text": [
      "['fabric', 'cloth', 'woven', 'fabrics', 'patterned', 'linen', 'silk', 'tapestry', 'drapery', 'nylon', 'upholstery', 'mesh', 'canvas', 'yarn', 'knitted', 'wallpaper', 'swatches', 'weave', 'stitching', 'wool']\n"
     ]
    }
   ],
   "source": [
    "print(find_closest_embeddings(\n",
    "    embeddings_dict[\"fabric\"]\n",
    ")[:20])"
   ]
  },
  {
   "cell_type": "code",
   "execution_count": 57,
   "id": "7450abe8",
   "metadata": {},
   "outputs": [
    {
     "name": "stdout",
     "output_type": "stream",
     "text": [
      "['house', 'ghost', 'room', 'white', 'where', 'shadow', 'houses', 'mansion', 'once', 'hill', 'office', 'lady', 'home', 'little', 'one', 'finds', 'appears', 'door', 'story', 'haunted']\n"
     ]
    }
   ],
   "source": [
    "print(find_closest_embeddings(\n",
    "    embeddings_dict[\"ghost\"] + embeddings_dict[\"house\"]\n",
    ")[:20])"
   ]
  },
  {
   "cell_type": "code",
   "execution_count": 58,
   "id": "97826bae",
   "metadata": {},
   "outputs": [
    {
     "name": "stdout",
     "output_type": "stream",
     "text": [
      "['house', 'life', 'own', 'little', '``', 'no', 'public', 'there', 'one', 'story', 'what', 'it', 'sense', 'this', 'some', 'that', 'moral', 'kind', 'even', 'not']\n"
     ]
    }
   ],
   "source": [
    "print(find_closest_embeddings(\n",
    "    embeddings_dict[\"ghost\"] + embeddings_dict[\"house\"] + embeddings_dict[\"moral\"]\n",
    ")[:20])"
   ]
  },
  {
   "cell_type": "code",
   "execution_count": 59,
   "id": "cd071b02",
   "metadata": {},
   "outputs": [],
   "source": [
    "words =  list(embeddings_dict.keys())\n",
    "vectors = [embeddings_dict[word] for word in words]\n",
    "X = np.asarray(vectors)"
   ]
  },
  {
   "cell_type": "code",
   "execution_count": 60,
   "id": "9a59cd68",
   "metadata": {},
   "outputs": [],
   "source": [
    "tsne = TSNE(n_components=2, random_state=0)\n",
    "Y = tsne.fit_transform(X[:1000])"
   ]
  },
  {
   "cell_type": "code",
   "execution_count": 61,
   "id": "5d6a22bb",
   "metadata": {},
   "outputs": [
    {
     "data": {
      "text/plain": [
       "<matplotlib.collections.PathCollection at 0x2418dd3faf0>"
      ]
     },
     "execution_count": 61,
     "metadata": {},
     "output_type": "execute_result"
    },
    {
     "data": {
      "image/png": "[encoded data removed]",
      "text/plain": [
       "<Figure size 640x480 with 1 Axes>"
      ]
     },
     "metadata": {},
     "output_type": "display_data"
    }
   ],
   "source": [
    "plt.scatter(Y[:, 0], Y[:, 1])"
   ]
  },
  {
   "cell_type": "code",
   "execution_count": 62,
   "id": "aeed5413",
   "metadata": {},
   "outputs": [
    {
     "data": {
      "image/png": "[encoded data removed]",
      "text/plain": [
       "<Figure size 640x480 with 1 Axes>"
      ]
     },
     "metadata": {},
     "output_type": "display_data"
    }
   ],
   "source": [
    "for label, x, y in zip(words, X[:, 0], Y[:, 1]):\n",
    "    plt.annotate(label, xy=(x, y), xytext=(0, 0), textcoords=\"offset points\")\n",
    "plt.show()"
   ]
  },
  {
   "cell_type": "code",
   "execution_count": null,
   "id": "d7298f4d",
   "metadata": {},
   "outputs": [],
   "source": []
  }
 ],
 "metadata": {
  "kernelspec": {
   "display_name": "Python 3 (ipykernel)",
   "language": "python",
   "name": "python3"
  },
  "language_info": {
   "codemirror_mode": {
    "name": "ipython",
    "version": 3
   },
   "file_extension": ".py",
   "mimetype": "text/x-python",
   "name": "python",
   "nbconvert_exporter": "python",
   "pygments_lexer": "ipython3",
   "version": "3.10.9"
  }
 },
 "nbformat": 4,
 "nbformat_minor": 5
}
