{
 "cells": [
  {
   "cell_type": "code",
   "execution_count": 1,
   "id": "f45c52d6",
   "metadata": {},
   "outputs": [],
   "source": [
    "import re\n",
    "import nltk\n",
    "import numpy as np\n",
    "import matplotlib.pyplot as plt\n",
    "import random\n",
    "\n",
    "from gensim.models import Word2Vec\n",
    "\n",
    "from sklearn.decomposition import IncrementalPCA   \n",
    "from sklearn.manifold import TSNE   "
   ]
  },
  {
   "cell_type": "code",
   "execution_count": 33,
   "id": "76bc084e",
   "metadata": {
    "scrolled": true
   },
   "outputs": [
    {
     "name": "stdout",
     "output_type": "stream",
     "text": [
      "﻿The Project Gutenberg eBook of The Legend of Sleepy Hollow        This ebook is for the use of anyo\n"
     ]
    }
   ],
   "source": [
    "# read a file you have stored locally\n",
    "# I added the Hunger Games for simplicity\n",
    "import requests\n",
    "\n",
    "# Define the URL\n",
    "url = \"https://www.gutenberg.org/cache/epub/41/pg41.txt\"\n",
    "\n",
    "# Send an HTTP GET request to the URL\n",
    "file = requests.get(url)\n",
    "file_content = file.text\n",
    "\n",
    "# first, remove unwanted new line and tab characters from the text\n",
    "for char in [\"\\n\", \"\\r\", \"\\d\", \"\\t\"]:\n",
    "    file_content = file_content.replace(char, \" \")\n",
    "\n",
    "# check\n",
    "print(file_content[:100])"
   ]
  },
  {
   "cell_type": "code",
   "execution_count": 34,
   "id": "b5758c6e",
   "metadata": {},
   "outputs": [
    {
     "name": "stdout",
     "output_type": "stream",
     "text": [
      "   In the bosom of one of those spacious coves which indent the eastern  shore of the Hudson, at that broad expansion of the river denominated  by the ancient Dutch navigators the Tappan Zee, and where they always  prudently shortened sail and implored the protection of St. Nicholas  when they crossed, there lies a small market town or rural port, which  by some is called Greensburgh, but which is more generally and properly  known by the name of Tarry Town. This name was given, we are told, in  former days, by the good housewives of the adjacent country, from the  inveterate propensity of their husbands to linger about the village  tavern on market days. Be that as it may, I do not vouch for the fact,  but merely advert to it, for the sake of being precise and authentic.  Not far from this village, perhaps about two miles, there is a little  valley or rather lap of land among high hills, which is one of the  quietest places in the whole world. A small brook glides through it,  with just murmur enough to lull one to repose; and the occasional  whistle of a quail or tapping of a woodpecker is almost the only sound  that ever breaks in upon the uniform tranquillity.    I recollect that, when a stripling, my first exploit in  squirrel-shooting was in a grove of tall walnut-trees that shades one  side of the valley. I had wandered into it at noontime, when all nature  is peculiarly quiet, and was startled by the roar of my own gun, as it  broke the Sabbath stillness around and was prolonged and reverberated  by the angry echoes. If ever I should wish for a retreat whither I might  steal from the world and its distractions, and dream quietly away the  remnant of a troubled life, I know of none more promising than this  little valley.    From the listless repose of the place, and the peculiar character of its  inhabitants, who are descendants from the original Dutch settlers, this  sequestered glen has long been known by the name of SLEEPY HOLLOW, and  its rustic lads are called the Sleepy Hollow Boys throughout all the  neighboring country. A drowsy, dreamy influence seems to hang over the  land, and to pervade the very atmosphere. Some say that the place  was bewitched by a High German doctor, during the early days of the  settlement; others, that an old Indian chief, the prophet or wizard of  his tribe, held his powwows there before the country was discovered by  Master Hendrick Hudson. Certain it is, the place still continues under  the sway of some witching power, that holds a spell over the minds of  the good people, causing them to walk in a continual reverie. They are  given to all kinds of marvellous beliefs, are subject to trances and  visions, and frequently see strange sights, and hear music and voices in  the air. The whole neighborhood abounds with local tales, haunted spots,  and twilight superstitions; stars shoot and meteors glare oftener across  the valley than in any other part of the country, and the nightmare,  with her whole ninefold, seems to make it the favorite scene of her  gambols.    The dominant spirit, however, that haunts this enchanted region, and  seems to be commander-in-chief of all the powers of the air, is the  apparition of a figure on horseback, without a head. It is said by some  to be the ghost of a Hessian trooper, whose head had been carried away  by a cannon-ball, in some nameless battle during the Revolutionary War,  and who is ever and anon seen by the country folk hurrying along in  the gloom of night, as if on the wings of the wind. His haunts are not  confined to the valley, but extend at times to the adjacent roads, and  especially to the vicinity of a church at no great distance. Indeed,  certain of the most authentic historians of those parts, who have been  careful in collecting and collating the floating facts concerning this  spectre, allege that the body of the trooper having been buried in the  churchyard, the ghost rides forth to the scene of battle in nightly  quest of his head, and that the rushing speed with which he sometimes  passes along the Hollow, like a midnight blast, is owing to his being  belated, and in a hurry to get back to the churchyard before daybreak.    Such is the general purport of this legendary superstition, which has  furnished materials for many a wild story in that region of shadows; and  the spectre is known at all the country firesides, by the name of the  Headless Horseman of Sleepy Hollow.    It is remarkable that the visionary propensity I have mentioned is not  confined to the native inhabitants of the valley, but is unconsciously  imbibed by every one who resides there for a time. However wide awake  they may have been before they entered that sleepy region, they are  sure, in a little time, to inhale the witching influence of the air, and  begin to grow imaginative, to dream dreams, and see apparitions.    I mention this peaceful spot with all possible laud, for it is in such  little retired Dutch valleys, found here and there embosomed in the  great State of New York, that population, manners, and customs remain  fixed, while the great torrent of migration and improvement, which is  making such incessant changes in other parts of this restless country,  sweeps by them unobserved. They are like those little nooks of still  water, which border a rapid stream, where we may see the straw and  bubble riding quietly at anchor, or slowly revolving in their mimic  harbor, undisturbed by the rush of the passing current. Though many  years have elapsed since I trod the drowsy shades of Sleepy Hollow, yet  I question whether I should not still find the same trees and the same  families vegetating in its sheltered bosom.    In this by-place of nature there abode, in a remote period of American  history, that is to say, some thirty years since, a worthy wight of the  name of Ichabod Crane, who sojourned, or, as he expressed it, “tarried,”   in Sleepy Hollow, for the purpose of instructing the children of the  vicinity. He was a native of Connecticut, a State which supplies the  Union with pioneers for the mind as well as for the forest, and sends  forth yearly its legions of frontier woodmen and country schoolmasters.  The cognomen of Crane was not inapplicable to his person. He was tall,  but exceedingly lank, with narrow shoulders, long arms and legs, hands  that dangled a mile out of his sleeves, feet that might have served for  shovels, and his whole frame most loosely hung together. His head was  small, and flat at top, with huge ears, large green glassy eyes, and a  long snipe nose, so that it looked like a weather-cock perched upon his  spindle neck to tell which way the wind blew. To see him striding along  the profile of a hill on a windy day, with his clothes bagging and  fluttering about him, one might have mistaken him for the genius of  famine descending upon the earth, or some scarecrow eloped from a  cornfield.    His schoolhouse was a low building of one large room, rudely constructed  of logs; the windows partly glazed, and partly patched with leaves of  old copybooks. It was most ingeniously secured at vacant hours, by a  withe twisted in the handle of the door, and stakes set against the  window shutters; so that though a thief might get in with perfect ease,  he would find some embarrassment in getting out,--an idea most probably  borrowed by the architect, Yost Van Houten, from the mystery of an  eelpot. The schoolhouse stood in a rather lonely but pleasant situation,  just at the foot of a woody hill, with a brook running close by, and  a formidable birch-tree growing at one end of it. From hence the low  murmur of his pupils’ voices, conning over their lessons, might be heard  in a drowsy summer’s day, like the hum of a beehive; interrupted now and  then by the authoritative voice of the master, in the tone of menace or  command, or, peradventure, by the appalling sound of the birch, as he  urged some tardy loiterer along the flowery path of knowledge. Truth to  say, he was a conscientious man, and ever bore in mind the golden maxim,  “Spare the rod and spoil the child.” Ichabod Crane’s scholars certainly  were not spoiled.    I would not have it imagined, however, that he was one of those cruel  potentates of the school who joy in the smart of their subjects; on  the contrary, he administered justice with discrimination rather than  severity; taking the burden off the backs of the weak, and laying it on  those of the strong. Your mere puny stripling, that winced at the least  flourish of the rod, was passed by with indulgence; but the claims of  justice were satisfied by inflicting a double portion on some little  tough wrong-headed, broad-skirted Dutch urchin, who sulked and swelled  and grew dogged and sullen beneath the birch. All this he called “doing  his duty by their parents;” and he never inflicted a chastisement  without following it by the assurance, so consolatory to the smarting  urchin, that “he would remember it and thank him for it the longest day  he had to live.”    When school hours were over, he was even the companion and playmate  of the larger boys; and on holiday afternoons would convoy some of  the smaller ones home, who happened to have pretty sisters, or good  housewives for mothers, noted for the comforts of the cupboard. Indeed,  it behooved him to keep on good terms with his pupils. The revenue  arising from his school was small, and would have been scarcely  sufficient to furnish him with daily bread, for he was a huge feeder,  and, though lank, had the dilating powers of an anaconda; but to help  out his maintenance, he was, according to country custom in those  parts, boarded and lodged at the houses of the farmers whose children  he instructed. With these he lived successively a week at a time, thus  going the rounds of the neighborhood, with all his worldly effects tied  up in a cotton handkerchief.    That all this might not be too onerous on the purses of his rustic  patrons, who are apt to consider the costs of schooling a grievous  burden, and schoolmasters as mere drones, he had various ways of  rendering himself both useful and agreeable. He assisted the farmers  occasionally in the lighter labors of their farms, helped to make  hay, mended the fences, took the horses to water, drove the cows from  pasture, and cut wood for the winter fire. He laid aside, too, all the  dominant dignity and absolute sway with which he lorded it in his little  empire, the school, and became wonderfully gentle and ingratiating.  He found favor in the eyes of the mothers by petting the children,  particularly the youngest; and like the lion bold, which whilom so  magnanimously the lamb did hold, he would sit with a child on one knee,  and rock a cradle with his foot for whole hours together.    In addition to his other vocations, he was the singing-master of the  neighborhood, and picked up many bright shillings by instructing the  young folks in psalmody. It was a matter of no little vanity to him on  Sundays, to take his station in front of the church gallery, with a band  of chosen singers; where, in his own mind, he completely carried away  the palm from the parson. Certain it is, his voice resounded far above  all the rest of the congregation; and there are peculiar quavers still  to be heard in that church, and which may even be heard half a mile off,  quite to the opposite side of the millpond, on a still Sunday morning,  which are said to be legitimately descended from the nose of Ichabod  Crane. Thus, by divers little makeshifts, in that ingenious way which is  commonly denominated “by hook and by crook,” the worthy pedagogue got on  tolerably enough, and was thought, by all who understood nothing of the  labor of headwork, to have a wonderfully easy life of it.    The schoolmaster is generally a man of some importance in the female  circle of a rural neighborhood; being considered a kind of idle,  gentlemanlike personage, of vastly superior taste and accomplishments to  the rough country swains, and, indeed, inferior in learning only to the  parson. His appearance, therefore, is apt to occasion some little stir  at the tea-table of a farmhouse, and the addition of a supernumerary  dish of cakes or sweetmeats, or, peradventure, the parade of a silver  teapot. Our man of letters, therefore, was peculiarly happy in the  smiles of all the country damsels. How he would figure among them in the  churchyard, between services on Sundays; gathering grapes for them from  the wild vines that overran the surrounding trees; reciting for their  amusement all the epitaphs on the tombstones; or sauntering, with a  whole bevy of them, along the banks of the adjacent millpond; while the  more bashful country bumpkins hung sheepishly back, envying his superior  elegance and address.    From his half-itinerant life, also, he was a kind of travelling gazette,  carrying the whole budget of local gossip from house to house, so that  his appearance was always greeted with satisfaction. He was, moreover,  esteemed by the women as a man of great erudition, for he had read  several books quite through, and was a perfect master of Cotton Mather’s  “History of New England Witchcraft,” in which, by the way, he most  firmly and potently believed.    He was, in fact, an odd mixture of small shrewdness and simple  credulity. His appetite for the marvellous, and his powers of digesting  it, were equally extraordinary; and both had been increased by his  residence in this spell-bound region. No tale was too gross or monstrous  for his capacious swallow. It was often his delight, after his school  was dismissed in the afternoon, to stretch himself on the rich bed of  clover bordering the little brook that whimpered by his schoolhouse, and  there con over old Mather’s direful tales, until the gathering dusk of  evening made the printed page a mere mist before his eyes. Then, as he  wended his way by swamp and stream and awful woodland, to the farmhouse  where he happened to be quartered, every sound of nature, at that  witching hour, fluttered his excited imagination,--the moan of the  whip-poor-will from the hillside, the boding cry of the tree toad, that  harbinger of storm, the dreary hooting of the screech owl, or the  sudden rustling in the thicket of birds frightened from their roost. The  fireflies, too, which sparkled most vividly in the darkest places, now  and then startled him, as one of uncommon brightness would stream across  his path; and if, by chance, a huge blockhead of a beetle came winging  his blundering flight against him, the poor varlet was ready to give up  the ghost, with the idea that he was struck with a witch’s token. His  only resource on such occasions, either to drown thought or drive away  evil spirits, was to sing psalm tunes and the good people of Sleepy  Hollow, as they sat by their doors of an evening, were often filled with  awe at hearing his nasal melody, “in linked sweetness long drawn out,”   floating from the distant hill, or along the dusky road.    Another of his sources of fearful pleasure was to pass long winter  evenings with the old Dutch wives, as they sat spinning by the fire,  with a row of apples roasting and spluttering along the hearth, and  listen to their marvellous tales of ghosts and goblins, and haunted  fields, and haunted brooks, and haunted bridges, and haunted houses,  and particularly of the headless horseman, or Galloping Hessian of the  Hollow, as they sometimes called him. He would delight them equally by  his anecdotes of witchcraft, and of the direful omens and portentous  sights and sounds in the air, which prevailed in the earlier times of  Connecticut; and would frighten them woefully with speculations upon  comets and shooting stars; and with the alarming fact that the world did  absolutely turn round, and that they were half the time topsy-turvy!    But if there was a pleasure in all this, while snugly cuddling in  the chimney corner of a chamber that was all of a ruddy glow from the  crackling wood fire, and where, of course, no spectre dared to show  its face, it was dearly purchased by the terrors of his subsequent walk  homewards. What fearful shapes and shadows beset his path, amidst the  dim and ghastly glare of a snowy night! With what wistful look did he  eye every trembling ray of light streaming across the waste fields from  some distant window! How often was he appalled by some shrub covered  with snow, which, like a sheeted spectre, beset his very path! How often  did he shrink with curdling awe at the sound of his own steps on the  frosty crust beneath his feet; and dread to look over his shoulder, lest  he should behold some uncouth being tramping close behind him! And how  often was he thrown into complete dismay by some rushing blast, howling  among the trees, in the idea that it was the Galloping Hessian on one of  his nightly scourings!    All these, however, were mere terrors of the night, phantoms of the mind  that walk in darkness; and though he had seen many spectres in his time,  and been more than once beset by Satan in divers shapes, in his lonely  perambulations, yet daylight put an end to all these evils; and he would  have passed a pleasant life of it, in despite of the Devil and all his  works, if his path had not been crossed by a being that causes more  perplexity to mortal man than ghosts, goblins, and the whole race of  witches put together, and that was--a woman.    Among the musical disciples who assembled, one evening in each week,  to receive his instructions in psalmody, was Katrina Van Tassel,  the daughter and only child of a substantial Dutch farmer. She was a  blooming lass of fresh eighteen; plump as a partridge; ripe and melting  and rosy-cheeked as one of her father’s peaches, and universally famed,  not merely for her beauty, but her vast expectations. She was withal a  little of a coquette, as might be perceived even in her dress, which was  a mixture of ancient and modern fashions, as most suited to set off  her charms. She wore the ornaments of pure yellow gold, which her  great-great-grandmother had brought over from Saardam; the tempting  stomacher of the olden time, and withal a provokingly short petticoat,  to display the prettiest foot and ankle in the country round.    Ichabod Crane had a soft and foolish heart towards the sex; and it is  not to be wondered at that so tempting a morsel soon found favor in his  eyes, more especially after he had visited her in her paternal mansion.  Old Baltus Van Tassel was a perfect picture of a thriving, contented,  liberal-hearted farmer. He seldom, it is true, sent either his eyes or  his thoughts beyond the boundaries of his own farm; but within those  everything was snug, happy and well-conditioned. He was satisfied with  his wealth, but not proud of it; and piqued himself upon the hearty  abundance, rather than the style in which he lived. His stronghold was  situated on the banks of the Hudson, in one of those green, sheltered,  fertile nooks in which the Dutch farmers are so fond of nestling. A  great elm tree spread its broad branches over it, at the foot of which  bubbled up a spring of the softest and sweetest water, in a little well  formed of a barrel; and then stole sparkling away through the grass, to  a neighboring brook, that babbled along among alders and dwarf willows.  Hard by the farmhouse was a vast barn, that might have served for a  church; every window and crevice of which seemed bursting forth with the  treasures of the farm; the flail was busily resounding within it from  morning to night; swallows and martins skimmed twittering about the  eaves; and rows of pigeons, some with one eye turned up, as if watching  the weather, some with their heads under their wings or buried in their  bosoms, and others swelling, and cooing, and bowing about their dames,  were enjoying the sunshine on the roof. Sleek unwieldy porkers were  grunting in the repose and abundance of their pens, from whence sallied  forth, now and then, troops of sucking pigs, as if to snuff the air.  A stately squadron of snowy geese were riding in an adjoining pond,  convoying whole fleets of ducks; regiments of turkeys were gobbling  through the farmyard, and Guinea fowls fretting about it, like  ill-tempered housewives, with their peevish, discontented cry. Before  the barn door strutted the gallant cock, that pattern of a husband, a  warrior and a fine gentleman, clapping his burnished wings and crowing  in the pride and gladness of his heart,--sometimes tearing up the earth  with his feet, and then generously calling his ever-hungry family of  wives and children to enjoy the rich morsel which he had discovered.    The pedagogue’s mouth watered as he looked upon this sumptuous promise  of luxurious winter fare. In his devouring mind’s eye, he pictured to  himself every roasting-pig running about with a pudding in his belly,  and an apple in his mouth; the pigeons were snugly put to bed in a  comfortable pie, and tucked in with a coverlet of crust; the geese were  swimming in their own gravy; and the ducks pairing cosily in dishes,  like snug married couples, with a decent competency of onion sauce. In  the porkers he saw carved out the future sleek side of bacon, and juicy  relishing ham; not a turkey but he beheld daintily trussed up, with  its gizzard under its wing, and, peradventure, a necklace of savory  sausages; and even bright chanticleer himself lay sprawling on his back,  in a side dish, with uplifted claws, as if craving that quarter which  his chivalrous spirit disdained to ask while living.    As the enraptured Ichabod fancied all this, and as he rolled his great  green eyes over the fat meadow lands, the rich fields of wheat, of rye,  of buckwheat, and Indian corn, and the orchards burdened with ruddy  fruit, which surrounded the warm tenement of Van Tassel, his heart  yearned after the damsel who was to inherit these domains, and his  imagination expanded with the idea, how they might be readily turned  into cash, and the money invested in immense tracts of wild land, and  shingle palaces in the wilderness. Nay, his busy fancy already realized  his hopes, and presented to him the blooming Katrina, with a whole  family of children, mounted on the top of a wagon loaded with household  trumpery, with pots and kettles dangling beneath; and he beheld himself  bestriding a pacing mare, with a colt at her heels, setting out for  Kentucky, Tennessee,--or the Lord knows where!    When he entered the house, the conquest of his heart was complete. It  was one of those spacious farmhouses, with high-ridged but lowly sloping  roofs, built in the style handed down from the first Dutch settlers; the  low projecting eaves forming a piazza along the front, capable of being  closed up in bad weather. Under this were hung flails, harness, various  utensils of husbandry, and nets for fishing in the neighboring  river. Benches were built along the sides for summer use; and a great  spinning-wheel at one end, and a churn at the other, showed the various  uses to which this important porch might be devoted. From this piazza  the wondering Ichabod entered the hall, which formed the centre of the  mansion, and the place of usual residence. Here rows of resplendent  pewter, ranged on a long dresser, dazzled his eyes. In one corner  stood a huge bag of wool, ready to be spun; in another, a quantity of  linsey-woolsey just from the loom; ears of Indian corn, and strings of  dried apples and peaches, hung in gay festoons along the walls, mingled  with the gaud of red peppers; and a door left ajar gave him a peep into  the best parlor, where the claw-footed chairs and dark mahogany tables  shone like mirrors; andirons, with their accompanying shovel and  tongs, glistened from their covert of asparagus tops; mock-oranges and  conch-shells decorated the mantelpiece; strings of various-colored birds  eggs were suspended above it; a great ostrich egg was hung from  the centre of the room, and a corner cupboard, knowingly left open,  displayed immense treasures of old silver and well-mended china.    From the moment Ichabod laid his eyes upon these regions of delight, the  peace of his mind was at an end, and his only study was how to gain the  affections of the peerless daughter of Van Tassel. In this enterprise,  however, he had more real difficulties than generally fell to the lot of  a knight-errant of yore, who seldom had anything but giants, enchanters,  fiery dragons, and such like easily conquered adversaries, to contend  with and had to make his way merely through gates of iron and brass,  and walls of adamant to the castle keep, where the lady of his heart was  confined; all which he achieved as easily as a man would carve his way  to the centre of a Christmas pie; and then the lady gave him her hand as  a matter of course. Ichabod, on the contrary, had to win his way to  the heart of a country coquette, beset with a labyrinth of whims  and caprices, which were forever presenting new difficulties and  impediments; and he had to encounter a host of fearful adversaries of  real flesh and blood, the numerous rustic admirers, who beset every  portal to her heart, keeping a watchful and angry eye upon each other,  but ready to fly out in the common cause against any new competitor.    Among these, the most formidable was a burly, roaring, roystering blade,  of the name of Abraham, or, according to the Dutch abbreviation, Brom  Van Brunt, the hero of the country round, which rang with his feats of  strength and hardihood. He was broad-shouldered and double-jointed,  with short curly black hair, and a bluff but not unpleasant countenance,  having a mingled air of fun and arrogance. From his Herculean frame  and great powers of limb he had received the nickname of BROM BONES,  by which he was universally known. He was famed for great knowledge and  skill in horsemanship, being as dexterous on horseback as a Tartar.  He was foremost at all races and cock fights; and, with the ascendancy  which bodily strength always acquires in rustic life, was the umpire in  all disputes, setting his hat on one side, and giving his decisions with  an air and tone that admitted of no gainsay or appeal. He was always  ready for either a fight or a frolic; but had more mischief than  ill-will in his composition; and with all his overbearing roughness,  there was a strong dash of waggish good humor at bottom. He had three or  four boon companions, who regarded him as their model, and at the  head of whom he scoured the country, attending every scene of feud or  merriment for miles round. In cold weather he was distinguished by a  fur cap, surmounted with a flaunting fox’s tail; and when the folks at a  country gathering descried this well-known crest at a distance, whisking  about among a squad of hard riders, they always stood by for a squall.  Sometimes his crew would be heard dashing along past the farmhouses at  midnight, with whoop and halloo, like a troop of Don Cossacks; and the  old dames, startled out of their sleep, would listen for a moment till  the hurry-scurry had clattered by, and then exclaim, “Ay, there goes  Brom Bones and his gang!” The neighbors looked upon him with a mixture  of awe, admiration, and good-will; and, when any madcap prank or rustic  brawl occurred in the vicinity, always shook their heads, and warranted  Brom Bones was at the bottom of it.    This rantipole hero had for some time singled out the blooming Katrina  for the object of his uncouth gallantries, and though his amorous  toyings were something like the gentle caresses and endearments of a  bear, yet it was whispered that she did not altogether discourage his  hopes. Certain it is, his advances were signals for rival candidates to  retire, who felt no inclination to cross a lion in his amours; insomuch,  that when his horse was seen tied to Van Tassel’s paling, on a Sunday  night, a sure sign that his master was courting, or, as it is termed,  “sparking,” within, all other suitors passed by in despair, and carried  the war into other quarters.    Such was the formidable rival with whom Ichabod Crane had to contend,  and, considering all things, a stouter man than he would have shrunk  from the competition, and a wiser man would have despaired. He had,  however, a happy mixture of pliability and perseverance in his nature;  he was in form and spirit like a supple-jack--yielding, but tough;  though he bent, he never broke; and though he bowed beneath the  slightest pressure, yet, the moment it was away--jerk!--he was as erect,  and carried his head as high as ever.    To have taken the field openly against his rival would have been  madness; for he was not a man to be thwarted in his amours, any more  than that stormy lover, Achilles. Ichabod, therefore, made his advances  in a quiet and gently insinuating manner. Under cover of his character  of singing-master, he made frequent visits at the farmhouse; not that he  had anything to apprehend from the meddlesome interference of parents,  which is so often a stumbling-block in the path of lovers. Balt Van  Tassel was an easy indulgent soul; he loved his daughter better even  than his pipe, and, like a reasonable man and an excellent father, let  her have her way in everything. His notable little wife, too, had enough  to do to attend to her housekeeping and manage her poultry; for, as she  sagely observed, ducks and geese are foolish things, and must be looked  after, but girls can take care of themselves. Thus, while the busy dame  bustled about the house, or plied her spinning-wheel at one end of the  piazza, honest Balt would sit smoking his evening pipe at the other,  watching the achievements of a little wooden warrior, who, armed with a  sword in each hand, was most valiantly fighting the wind on the pinnacle  of the barn. In the mean time, Ichabod would carry on his suit with the  daughter by the side of the spring under the great elm, or sauntering  along in the twilight, that hour so favorable to the lover’s eloquence.    I profess not to know how women’s hearts are wooed and won. To me they  have always been matters of riddle and admiration. Some seem to have but  one vulnerable point, or door of access; while others have a thousand  avenues, and may be captured in a thousand different ways. It is a  great triumph of skill to gain the former, but a still greater proof of  generalship to maintain possession of the latter, for man must battle  for his fortress at every door and window. He who wins a thousand common  hearts is therefore entitled to some renown; but he who keeps undisputed  sway over the heart of a coquette is indeed a hero. Certain it is, this  was not the case with the redoubtable Brom Bones; and from the moment  Ichabod Crane made his advances, the interests of the former evidently  declined: his horse was no longer seen tied to the palings on Sunday  nights, and a deadly feud gradually arose between him and the preceptor  of Sleepy Hollow.    Brom, who had a degree of rough chivalry in his nature, would fain have  carried matters to open warfare and have settled their pretensions  to the lady, according to the mode of those most concise and simple  reasoners, the knights-errant of yore,--by single combat; but Ichabod  was too conscious of the superior might of his adversary to enter the  lists against him; he had overheard a boast of Bones, that he would  “double the schoolmaster up, and lay him on a shelf of his own  schoolhouse;” and he was too wary to give him an opportunity. There was  something extremely provoking in this obstinately pacific system; it  left Brom no alternative but to draw upon the funds of rustic waggery in  his disposition, and to play off boorish practical jokes upon his rival.  Ichabod became the object of whimsical persecution to Bones and his gang  of rough riders. They harried his hitherto peaceful domains; smoked  out his singing school by stopping up the chimney; broke into the  schoolhouse at night, in spite of its formidable fastenings of withe  and window stakes, and turned everything topsy-turvy, so that the poor  schoolmaster began to think all the witches in the country held  their meetings there. But what was still more annoying, Brom took all  opportunities of turning him into ridicule in presence of his mistress,  and had a scoundrel dog whom he taught to whine in the most ludicrous  manner, and introduced as a rival of Ichabod’s, to instruct her in  psalmody.    In this way matters went on for some time, without producing any  material effect on the relative situations of the contending powers. On  a fine autumnal afternoon, Ichabod, in pensive mood, sat enthroned on  the lofty stool from whence he usually watched all the concerns of his  little literary realm. In his hand he swayed a ferule, that sceptre of  despotic power; the birch of justice reposed on three nails behind the  throne, a constant terror to evil doers, while on the desk before  him might be seen sundry contraband articles and prohibited weapons,  detected upon the persons of idle urchins, such as half-munched apples,  popguns, whirligigs, fly-cages, and whole legions of rampant little  paper gamecocks. Apparently there had been some appalling act of justice  recently inflicted, for his scholars were all busily intent upon their  books, or slyly whispering behind them with one eye kept upon the  master; and a kind of buzzing stillness reigned throughout the  schoolroom. It was suddenly interrupted by the appearance of a negro in  tow-cloth jacket and trowsers, a round-crowned fragment of a hat,  like the cap of Mercury, and mounted on the back of a ragged, wild,  half-broken colt, which he managed with a rope by way of halter. He came  clattering up to the school door with an invitation to Ichabod to attend  a merry-making or “quilting frolic,” to be held that evening at  Mynheer Van Tassel’s; and having delivered his message with that air of  importance, and effort at fine language, which a negro is apt to display  on petty embassies of the kind, he dashed over the brook, and was seen  scampering away up the hollow, full of the importance and hurry of his  mission.    All was now bustle and hubbub in the late quiet schoolroom. The scholars  were hurried through their lessons without stopping at trifles; those  who were nimble skipped over half with impunity, and those who were  tardy had a smart application now and then in the rear, to quicken their  speed or help them over a tall word. Books were flung aside without  being put away on the shelves, inkstands were overturned, benches thrown  down, and the whole school was turned loose an hour before the usual  time, bursting forth like a legion of young imps, yelping and racketing  about the green in joy at their early emancipation.    The gallant Ichabod now spent at least an extra half hour at his toilet,  brushing and furbishing up his best, and indeed only suit of rusty  black, and arranging his locks by a bit of broken looking-glass that  hung up in the schoolhouse. That he might make his appearance before his  mistress in the true style of a cavalier, he borrowed a horse from the  farmer with whom he was domiciliated, a choleric old Dutchman of the  name of Hans Van Ripper, and, thus gallantly mounted, issued forth like  a knight-errant in quest of adventures. But it is meet I should, in  the true spirit of romantic story, give some account of the looks  and equipments of my hero and his steed. The animal he bestrode was  a broken-down plow-horse, that had outlived almost everything but its  viciousness. He was gaunt and shagged, with a ewe neck, and a head like  a hammer; his rusty mane and tail were tangled and knotted with burs;  one eye had lost its pupil, and was glaring and spectral, but the other  had the gleam of a genuine devil in it. Still he must have had fire and  mettle in his day, if we may judge from the name he bore of Gunpowder.  He had, in fact, been a favorite steed of his master’s, the choleric Van  Ripper, who was a furious rider, and had infused, very probably, some of  his own spirit into the animal; for, old and broken-down as he looked,  there was more of the lurking devil in him than in any young filly in  the country.    Ichabod was a suitable figure for such a steed. He rode with short  stirrups, which brought his knees nearly up to the pommel of the saddle;  his sharp elbows stuck out like grasshoppers’; he carried his whip  perpendicularly in his hand, like a sceptre, and as his horse jogged on,  the motion of his arms was not unlike the flapping of a pair of wings. A  small wool hat rested on the top of his nose, for so his scanty strip of  forehead might be called, and the skirts of his black coat fluttered out  almost to the horses tail. Such was the appearance of Ichabod and his  steed as they shambled out of the gate of Hans Van Ripper, and it was  altogether such an apparition as is seldom to be met with in broad  daylight.    It was, as I have said, a fine autumnal day; the sky was clear and  serene, and nature wore that rich and golden livery which we always  associate with the idea of abundance. The forests had put on their sober  brown and yellow, while some trees of the tenderer kind had been nipped  by the frosts into brilliant dyes of orange, purple, and scarlet.  Streaming files of wild ducks began to make their appearance high in the  air; the bark of the squirrel might be heard from the groves of beech  and hickory-nuts, and the pensive whistle of the quail at intervals from  the neighboring stubble field.    The small birds were taking their farewell banquets. In the fullness  of their revelry, they fluttered, chirping and frolicking from bush to  bush, and tree to tree, capricious from the very profusion and variety  around them. There was the honest cock robin, the favorite game of  stripling sportsmen, with its loud querulous note; and the twittering  blackbirds flying in sable clouds; and the golden-winged woodpecker with  his crimson crest, his broad black gorget, and splendid plumage; and the  cedar bird, with its red-tipt wings and yellow-tipt tail and its little  monteiro cap of feathers; and the blue jay, that noisy coxcomb, in his  gay light blue coat and white underclothes, screaming and chattering,  nodding and bobbing and bowing, and pretending to be on good terms with  every songster of the grove.    As Ichabod jogged slowly on his way, his eye, ever open to every symptom  of culinary abundance, ranged with delight over the treasures of jolly  autumn. On all sides he beheld vast store of apples; some hanging in  oppressive opulence on the trees; some gathered into baskets and barrels  for the market; others heaped up in rich piles for the cider-press.  Farther on he beheld great fields of Indian corn, with its golden ears  peeping from their leafy coverts, and holding out the promise of cakes  and hasty-pudding; and the yellow pumpkins lying beneath them, turning  up their fair round bellies to the sun, and giving ample prospects of  the most luxurious of pies; and anon he passed the fragrant buckwheat  fields breathing the odor of the beehive, and as he beheld them, soft  anticipations stole over his mind of dainty slapjacks, well buttered,  and garnished with honey or treacle, by the delicate little dimpled hand  of Katrina Van Tassel.    Thus feeding his mind with many sweet thoughts and “sugared  suppositions,” he journeyed along the sides of a range of hills which  look out upon some of the goodliest scenes of the mighty Hudson. The sun  gradually wheeled his broad disk down in the west. The wide bosom of the  Tappan Zee lay motionless and glassy, excepting that here and there a  gentle undulation waved and prolonged the blue shadow of the distant  mountain. A few amber clouds floated in the sky, without a breath of air  to move them. The horizon was of a fine golden tint, changing gradually  into a pure apple green, and from that into the deep blue of the  mid-heaven. A slanting ray lingered on the woody crests of the  precipices that overhung some parts of the river, giving greater depth  to the dark gray and purple of their rocky sides. A sloop was loitering  in the distance, dropping slowly down with the tide, her sail hanging  uselessly against the mast; and as the reflection of the sky gleamed  along the still water, it seemed as if the vessel was suspended in the  air.    It was toward evening that Ichabod arrived at the castle of the Heer  Van Tassel, which he found thronged with the pride and flower of the  adjacent country. Old farmers, a spare leathern-faced race, in homespun  coats and breeches, blue stockings, huge shoes, and magnificent pewter  buckles. Their brisk, withered little dames, in close-crimped caps,  long-waisted short gowns, homespun petticoats, with scissors and  pincushions, and gay calico pockets hanging on the outside. Buxom  lasses, almost as antiquated as their mothers, excepting where a straw  hat, a fine ribbon, or perhaps a white frock, gave symptoms of city  innovation. The sons, in short square-skirted coats, with rows of  stupendous brass buttons, and their hair generally queued in the fashion  of the times, especially if they could procure an eel-skin for the  purpose, it being esteemed throughout the country as a potent nourisher  and strengthener of the hair.    Brom Bones, however, was the hero of the scene, having come to the  gathering on his favorite steed Daredevil, a creature, like himself,  full of mettle and mischief, and which no one but himself could manage.  He was, in fact, noted for preferring vicious animals, given to all  kinds of tricks which kept the rider in constant risk of his neck, for  he held a tractable, well-broken horse as unworthy of a lad of spirit.    Fain would I pause to dwell upon the world of charms that burst upon  the enraptured gaze of my hero, as he entered the state parlor of Van  Tassel’s mansion. Not those of the bevy of buxom lasses, with their  luxurious display of red and white; but the ample charms of a genuine  Dutch country tea-table, in the sumptuous time of autumn. Such heaped up  platters of cakes of various and almost indescribable kinds, known only  to experienced Dutch housewives! There was the doughty doughnut, the  tender oly koek, and the crisp and crumbling cruller; sweet cakes and  short cakes, ginger cakes and honey cakes, and the whole family of  cakes. And then there were apple pies, and peach pies, and pumpkin pies;  besides slices of ham and smoked beef; and moreover delectable dishes  of preserved plums, and peaches, and pears, and quinces; not to mention  broiled shad and roasted chickens; together with bowls of milk and  cream, all mingled higgledy-piggledy, pretty much as I have enumerated  them, with the motherly teapot sending up its clouds of vapor from the  midst--Heaven bless the mark! I want breath and time to discuss this  banquet as it deserves, and am too eager to get on with my story.  Happily, Ichabod Crane was not in so great a hurry as his historian, but  did ample justice to every dainty.    He was a kind and thankful creature, whose heart dilated in proportion  as his skin was filled with good cheer, and whose spirits rose with  eating, as some men’s do with drink. He could not help, too, rolling his  large eyes round him as he ate, and chuckling with the possibility that  he might one day be lord of all this scene of almost unimaginable luxury  and splendor. Then, he thought, how soon he’d turn his back upon the old  schoolhouse; snap his fingers in the face of Hans Van Ripper, and every  other niggardly patron, and kick any itinerant pedagogue out of doors  that should dare to call him comrade!    Old Baltus Van Tassel moved about among his guests with a face dilated  with content and good humor, round and jolly as the harvest moon. His  hospitable attentions were brief, but expressive, being confined to a  shake of the hand, a slap on the shoulder, a loud laugh, and a pressing  invitation to “fall to, and help themselves.”    And now the sound of the music from the common room, or hall, summoned  to the dance. The musician was an old gray-headed negro, who had  been the itinerant orchestra of the neighborhood for more than half a  century. His instrument was as old and battered as himself. The greater  part of the time he scraped on two or three strings, accompanying every  movement of the bow with a motion of the head; bowing almost to the  ground, and stamping with his foot whenever a fresh couple were to  start.    Ichabod prided himself upon his dancing as much as upon his vocal  powers. Not a limb, not a fibre about him was idle; and to have seen his  loosely hung frame in full motion, and clattering about the room, you  would have thought St. Vitus himself, that blessed patron of the dance,  was figuring before you in person. He was the admiration of all the  negroes; who, having gathered, of all ages and sizes, from the farm  and the neighborhood, stood forming a pyramid of shining black faces at  every door and window, gazing with delight at the scene, rolling their  white eyeballs, and showing grinning rows of ivory from ear to ear. How  could the flogger of urchins be otherwise than animated and joyous? The  lady of his heart was his partner in the dance, and smiling graciously  in reply to all his amorous oglings; while Brom Bones, sorely smitten  with love and jealousy, sat brooding by himself in one corner.    When the dance was at an end, Ichabod was attracted to a knot of the  sager folks, who, with Old Van Tassel, sat smoking at one end of the  piazza, gossiping over former times, and drawing out long stories about  the war.    This neighborhood, at the time of which I am speaking, was one of those  highly favored places which abound with chronicle and great men. The  British and American line had run near it during the war; it had,  therefore, been the scene of marauding and infested with refugees,  cowboys, and all kinds of border chivalry. Just sufficient time had  elapsed to enable each storyteller to dress up his tale with a little  becoming fiction, and, in the indistinctness of his recollection, to  make himself the hero of every exploit.    There was the story of Doffue Martling, a large blue-bearded Dutchman,  who had nearly taken a British frigate with an old iron nine-pounder  from a mud breastwork, only that his gun burst at the sixth discharge.  And there was an old gentleman who shall be nameless, being too rich  a mynheer to be lightly mentioned, who, in the battle of White Plains,  being an excellent master of defence, parried a musket-ball with a small  sword, insomuch that he absolutely felt it whiz round the blade, and  glance off at the hilt; in proof of which he was ready at any time to  show the sword, with the hilt a little bent. There were several more  that had been equally great in the field, not one of whom but was  persuaded that he had a considerable hand in bringing the war to a happy  termination.    But all these were nothing to the tales of ghosts and apparitions that  succeeded. The neighborhood is rich in legendary treasures of the  kind. Local tales and superstitions thrive best in these sheltered,  long-settled retreats; but are trampled under foot by the shifting  throng that forms the population of most of our country places. Besides,  there is no encouragement for ghosts in most of our villages, for they  have scarcely had time to finish their first nap and turn themselves in  their graves, before their surviving friends have travelled away from  the neighborhood; so that when they turn out at night to walk their  rounds, they have no acquaintance left to call upon. This is perhaps the  reason why we so seldom hear of ghosts except in our long-established  Dutch communities.    The immediate cause, however, of the prevalence of supernatural stories  in these parts, was doubtless owing to the vicinity of Sleepy Hollow.  There was a contagion in the very air that blew from that haunted  region; it breathed forth an atmosphere of dreams and fancies infecting  all the land. Several of the Sleepy Hollow people were present at  Van Tassel’s, and, as usual, were doling out their wild and wonderful  legends. Many dismal tales were told about funeral trains, and mourning  cries and wailings heard and seen about the great tree where the  unfortunate Major André was taken, and which stood in the neighborhood.  Some mention was made also of the woman in white, that haunted the  dark glen at Raven Rock, and was often heard to shriek on winter nights  before a storm, having perished there in the snow. The chief part of the  stories, however, turned upon the favorite spectre of Sleepy Hollow, the  Headless Horseman, who had been heard several times of late, patrolling  the country; and, it was said, tethered his horse nightly among the  graves in the churchyard.    The sequestered situation of this church seems always to have made it a  favorite haunt of troubled spirits. It stands on a knoll, surrounded by  locust-trees and lofty elms, from among which its decent, whitewashed  walls shine modestly forth, like Christian purity beaming through the  shades of retirement. A gentle slope descends from it to a silver sheet  of water, bordered by high trees, between which, peeps may be caught at  the blue hills of the Hudson. To look upon its grass-grown yard, where  the sunbeams seem to sleep so quietly, one would think that there at  least the dead might rest in peace. On one side of the church extends a  wide woody dell, along which raves a large brook among broken rocks and  trunks of fallen trees. Over a deep black part of the stream, not far  from the church, was formerly thrown a wooden bridge; the road that led  to it, and the bridge itself, were thickly shaded by overhanging trees,  which cast a gloom about it, even in the daytime; but occasioned a  fearful darkness at night. Such was one of the favorite haunts of  the Headless Horseman, and the place where he was most frequently  encountered. The tale was told of old Brouwer, a most heretical  disbeliever in ghosts, how he met the Horseman returning from his foray  into Sleepy Hollow, and was obliged to get up behind him; how they  galloped over bush and brake, over hill and swamp, until they reached  the bridge; when the Horseman suddenly turned into a skeleton, threw old  Brouwer into the brook, and sprang away over the tree-tops with a clap  of thunder.    This story was immediately matched by a thrice marvellous adventure of  Brom Bones, who made light of the Galloping Hessian as an arrant jockey.  He affirmed that on returning one night from the neighboring village of  Sing Sing, he had been overtaken by this midnight trooper; that he had  offered to race with him for a bowl of punch, and should have won it  too, for Daredevil beat the goblin horse all hollow, but just as they  came to the church bridge, the Hessian bolted, and vanished in a flash  of fire.    All these tales, told in that drowsy undertone with which men talk in  the dark, the countenances of the listeners only now and then receiving  a casual gleam from the glare of a pipe, sank deep in the mind of  Ichabod. He repaid them in kind with large extracts from his invaluable  author, Cotton Mather, and added many marvellous events that had taken  place in his native State of Connecticut, and fearful sights which he  had seen in his nightly walks about Sleepy Hollow.    The revel now gradually broke up. The old farmers gathered together  their families in their wagons, and were heard for some time rattling  along the hollow roads, and over the distant hills. Some of the  damsels mounted on pillions behind their favorite swains, and their  light-hearted laughter, mingling with the clatter of hoofs, echoed along  the silent woodlands, sounding fainter and fainter, until they gradually  died away,--and the late scene of noise and frolic was all silent and  deserted. Ichabod only lingered behind, according to the custom of  country lovers, to have a tête-à-tête with the heiress; fully convinced  that he was now on the high road to success. What passed at this  interview I will not pretend to say, for in fact I do not know.  Something, however, I fear me, must have gone wrong, for he certainly  sallied forth, after no very great interval, with an air quite desolate  and chapfallen. Oh, these women! these women! Could that girl have been  playing off any of her coquettish tricks? Was her encouragement of the  poor pedagogue all a mere sham to secure her conquest of his rival?  Heaven only knows, not I! Let it suffice to say, Ichabod stole forth  with the air of one who had been sacking a henroost, rather than a fair  lady’s heart. Without looking to the right or left to notice the scene  of rural wealth, on which he had so often gloated, he went straight to  the stable, and with several hearty cuffs and kicks roused his steed  most uncourteously from the comfortable quarters in which he was soundly  sleeping, dreaming of mountains of corn and oats, and whole valleys of  timothy and clover.    It was the very witching time of night that Ichabod, heavy-hearted and  crestfallen, pursued his travels homewards, along the sides of the  lofty hills which rise above Tarry Town, and which he had traversed so  cheerily in the afternoon. The hour was as dismal as himself. Far below  him the Tappan Zee spread its dusky and indistinct waste of waters, with  here and there the tall mast of a sloop, riding quietly at anchor under  the land. In the dead hush of midnight, he could even hear the barking  of the watchdog from the opposite shore of the Hudson; but it was  so vague and faint as only to give an idea of his distance from this  faithful companion of man. Now and then, too, the long-drawn crowing  of a cock, accidentally awakened, would sound far, far off, from some  farmhouse away among the hills--but it was like a dreaming sound in his  ear. No signs of life occurred near him, but occasionally the melancholy  chirp of a cricket, or perhaps the guttural twang of a bullfrog from a  neighboring marsh, as if sleeping uncomfortably and turning suddenly in  his bed.    All the stories of ghosts and goblins that he had heard in the afternoon  now came crowding upon his recollection. The night grew darker and  darker; the stars seemed to sink deeper in the sky, and driving clouds  occasionally hid them from his sight. He had never felt so lonely and  dismal. He was, moreover, approaching the very place where many of the  scenes of the ghost stories had been laid. In the centre of the road  stood an enormous tulip-tree, which towered like a giant above all the  other trees of the neighborhood, and formed a kind of landmark. Its  limbs were gnarled and fantastic, large enough to form trunks for  ordinary trees, twisting down almost to the earth, and rising again into  the air. It was connected with the tragical story of the unfortunate  André, who had been taken prisoner hard by; and was universally known  by the name of Major André’s tree. The common people regarded it with a  mixture of respect and superstition, partly out of sympathy for the  fate of its ill-starred namesake, and partly from the tales of strange  sights, and doleful lamentations, told concerning it.    As Ichabod approached this fearful tree, he began to whistle; he thought  his whistle was answered; it was but a blast sweeping sharply through  the dry branches. As he approached a little nearer, he thought he saw  something white, hanging in the midst of the tree: he paused and ceased  whistling but, on looking more narrowly, perceived that it was a place  where the tree had been scathed by lightning, and the white wood laid  bare. Suddenly he heard a groan--his teeth chattered, and his knees  smote against the saddle: it was but the rubbing of one huge bough upon  another, as they were swayed about by the breeze. He passed the tree in  safety, but new perils lay before him.    About two hundred yards from the tree, a small brook crossed the road,  and ran into a marshy and thickly-wooded glen, known by the name of  Wiley’s Swamp. A few rough logs, laid side by side, served for a bridge  over this stream. On that side of the road where the brook entered the  wood, a group of oaks and chestnuts, matted thick with wild grape-vines,  threw a cavernous gloom over it. To pass this bridge was the severest  trial. It was at this identical spot that the unfortunate André was  captured, and under the covert of those chestnuts and vines were the  sturdy yeomen concealed who surprised him. This has ever since been  considered a haunted stream, and fearful are the feelings of the  schoolboy who has to pass it alone after dark.    As he approached the stream, his heart began to thump; he summoned up,  however, all his resolution, gave his horse half a score of kicks in the  ribs, and attempted to dash briskly across the bridge; but instead of  starting forward, the perverse old animal made a lateral movement, and  ran broadside against the fence. Ichabod, whose fears increased with the  delay, jerked the reins on the other side, and kicked lustily with the  contrary foot: it was all in vain; his steed started, it is true, but  it was only to plunge to the opposite side of the road into a thicket of  brambles and alder bushes. The schoolmaster now bestowed both whip and  heel upon the starveling ribs of old Gunpowder, who dashed forward,  snuffling and snorting, but came to a stand just by the bridge, with a  suddenness that had nearly sent his rider sprawling over his head.  Just at this moment a plashy tramp by the side of the bridge caught the  sensitive ear of Ichabod. In the dark shadow of the grove, on the margin  of the brook, he beheld something huge, misshapen and towering. It  stirred not, but seemed gathered up in the gloom, like some gigantic  monster ready to spring upon the traveller.    The hair of the affrighted pedagogue rose upon his head with terror.  What was to be done? To turn and fly was now too late; and besides,  what chance was there of escaping ghost or goblin, if such it was, which  could ride upon the wings of the wind? Summoning up, therefore, a  show of courage, he demanded in stammering accents, “Who are you?”   He received no reply. He repeated his demand in a still more agitated  voice. Still there was no answer. Once more he cudgelled the sides  of the inflexible Gunpowder, and, shutting his eyes, broke forth with  involuntary fervor into a psalm tune. Just then the shadowy object of  alarm put itself in motion, and with a scramble and a bound stood at  once in the middle of the road. Though the night was dark and dismal,  yet the form of the unknown might now in some degree be ascertained. He  appeared to be a horseman of large dimensions, and mounted on a black  horse of powerful frame. He made no offer of molestation or sociability,  but kept aloof on one side of the road, jogging along on the blind side  of old Gunpowder, who had now got over his fright and waywardness.    Ichabod, who had no relish for this strange midnight companion, and  bethought himself of the adventure of Brom Bones with the Galloping  Hessian, now quickened his steed in hopes of leaving him behind. The  stranger, however, quickened his horse to an equal pace. Ichabod pulled  up, and fell into a walk, thinking to lag behind,--the other did the  same. His heart began to sink within him; he endeavored to resume his  psalm tune, but his parched tongue clove to the roof of his mouth, and  he could not utter a stave. There was something in the moody and  dogged silence of this pertinacious companion that was mysterious and  appalling. It was soon fearfully accounted for. On mounting a rising  ground, which brought the figure of his fellow-traveller in relief  against the sky, gigantic in height, and muffled in a cloak, Ichabod was  horror-struck on perceiving that he was headless!--but his horror was  still more increased on observing that the head, which should have  rested on his shoulders, was carried before him on the pommel of his  saddle! His terror rose to desperation; he rained a shower of kicks and  blows upon Gunpowder, hoping by a sudden movement to give his companion  the slip; but the spectre started full jump with him. Away, then, they  dashed through thick and thin; stones flying and sparks flashing at  every bound. Ichabod’s flimsy garments fluttered in the air, as  he stretched his long lank body away over his horse’s head, in the  eagerness of his flight.    They had now reached the road which turns off to Sleepy Hollow; but  Gunpowder, who seemed possessed with a demon, instead of keeping up it,  made an opposite turn, and plunged headlong downhill to the left. This  road leads through a sandy hollow shaded by trees for about a quarter  of a mile, where it crosses the bridge famous in goblin story; and just  beyond swells the green knoll on which stands the whitewashed church.    As yet the panic of the steed had given his unskilful rider an apparent  advantage in the chase, but just as he had got half way through the  hollow, the girths of the saddle gave way, and he felt it slipping from  under him. He seized it by the pommel, and endeavored to hold it firm,  but in vain; and had just time to save himself by clasping old Gunpowder  round the neck, when the saddle fell to the earth, and he heard it  trampled under foot by his pursuer. For a moment the terror of Hans Van  Ripper’s wrath passed across his mind,--for it was his Sunday saddle;  but this was no time for petty fears; the goblin was hard on his  haunches; and (unskilful rider that he was!) he had much ado to maintain  his seat; sometimes slipping on one side, sometimes on another, and  sometimes jolted on the high ridge of his horse’s backbone, with a  violence that he verily feared would cleave him asunder.    An opening in the trees now cheered him with the hopes that the church  bridge was at hand. The wavering reflection of a silver star in the  bosom of the brook told him that he was not mistaken. He saw the walls  of the church dimly glaring under the trees beyond. He recollected the  place where Brom Bones’s ghostly competitor had disappeared. “If I can  but reach that bridge,” thought Ichabod, “I am safe.” Just then he heard  the black steed panting and blowing close behind him; he even fancied  that he felt his hot breath. Another convulsive kick in the ribs, and  old Gunpowder sprang upon the bridge; he thundered over the resounding  planks; he gained the opposite side; and now Ichabod cast a look behind  to see if his pursuer should vanish, according to rule, in a flash of  fire and brimstone. Just then he saw the goblin rising in his stirrups,  and in the very act of hurling his head at him. Ichabod endeavored to  dodge the horrible missile, but too late. It encountered his cranium  with a tremendous crash,--he was tumbled headlong into the dust, and  Gunpowder, the black steed, and the goblin rider, passed by like a  whirlwind.    The next morning the old horse was found without his saddle, and with  the bridle under his feet, soberly cropping the grass at his master’s  gate. Ichabod did not make his appearance at breakfast; dinner-hour  came, but no Ichabod. The boys assembled at the schoolhouse, and  strolled idly about the banks of the brook; but no schoolmaster. Hans  Van Ripper now began to feel some uneasiness about the fate of poor  Ichabod, and his saddle. An inquiry was set on foot, and after diligent  investigation they came upon his traces. In one part of the road leading  to the church was found the saddle trampled in the dirt; the tracks of  horses’ hoofs deeply dented in the road, and evidently at furious speed,  were traced to the bridge, beyond which, on the bank of a broad part of  the brook, where the water ran deep and black, was found the hat of the  unfortunate Ichabod, and close beside it a shattered pumpkin.    The brook was searched, but the body of the schoolmaster was not to  be discovered. Hans Van Ripper as executor of his estate, examined the  bundle which contained all his worldly effects. They consisted of two  shirts and a half; two stocks for the neck; a pair or two of worsted  stockings; an old pair of corduroy small-clothes; a rusty razor; a book  of psalm tunes full of dog’s-ears; and a broken pitch-pipe. As to the  books and furniture of the schoolhouse, they belonged to the community,  excepting Cotton Mather’s “History of Witchcraft,” a “New England  Almanac,” and a book of dreams and fortune-telling; in which last was  a sheet of foolscap much scribbled and blotted in several fruitless  attempts to make a copy of verses in honor of the heiress of Van Tassel.  These magic books and the poetic scrawl were forthwith consigned to the  flames by Hans Van Ripper; who, from that time forward, determined to  send his children no more to school, observing that he never knew  any good come of this same reading and writing. Whatever money the  schoolmaster possessed, and he had received his quarter’s pay but a  day or two before, he must have had about his person at the time of his  disappearance.    The mysterious event caused much speculation at the church on the  following Sunday. Knots of gazers and gossips were collected in the  churchyard, at the bridge, and at the spot where the hat and pumpkin  had been found. The stories of Brouwer, of Bones, and a whole budget of  others were called to mind; and when they had diligently considered them  all, and compared them with the symptoms of the present case, they shook  their heads, and came to the conclusion that Ichabod had been carried  off by the Galloping Hessian. As he was a bachelor, and in nobody’s  debt, nobody troubled his head any more about him; the school was  removed to a different quarter of the hollow, and another pedagogue  reigned in his stead.    It is true, an old farmer, who had been down to New York on a visit  several years after, and from whom this account of the ghostly adventure  was received, brought home the intelligence that Ichabod Crane was still  alive; that he had left the neighborhood partly through fear of the  goblin and Hans Van Ripper, and partly in mortification at having been  suddenly dismissed by the heiress; that he had changed his quarters to a  distant part of the country; had kept school and studied law at the same  time; had been admitted to the bar; turned politician; electioneered;  written for the newspapers; and finally had been made a justice of  the Ten Pound Court. Brom Bones, too, who, shortly after his rival’s  disappearance conducted the blooming Katrina in triumph to the altar,  was observed to look exceedingly knowing whenever the story of Ichabod  was related, and always burst into a hearty laugh at the mention of the  pumpkin; which led some to suspect that he knew more about the matter  than he chose to tell.    The old country wives, however, who are the best judges of these  matters, maintain to this day that Ichabod was spirited away by  supernatural means; and it is a favorite story often told about the  neighborhood round the winter evening fire. The bridge became more than  ever an object of superstitious awe; and that may be the reason why the  road has been altered of late years, so as to approach the church by  the border of the millpond. The schoolhouse being deserted soon fell to  decay, and was reported to be haunted by the ghost of the unfortunate  pedagogue and the plowboy, loitering homeward of a still summer evening,  has often fancied his voice at a distance, chanting a melancholy psalm  tune among the tranquil solitudes of Sleepy Hollow.        POSTSCRIPT.    FOUND IN THE HANDWRITING OF MR. KNICKERBOCKER.    The preceding tale is given almost in the precise words in which I  heard it related at a Corporation meeting at the ancient city of  Manhattoes, at which were present many of its sagest and most  illustrious burghers. The narrator was a pleasant, shabby, gentlemanly  old fellow, in pepper-and-salt clothes, with a sadly humourous face,  and one whom I strongly suspected of being poor--he made such efforts  to be entertaining. When his story was concluded, there was much  laughter and approbation, particularly from two or three deputy  aldermen, who had been asleep the greater part of the time. There was,  however, one tall, dry-looking old gentleman, with beetling eyebrows,  who maintained a grave and rather severe face throughout, now and then  folding his arms, inclining his head, and looking down upon the floor,  as if turning a doubt over in his mind. He was one of your wary men,  who never laugh but upon good grounds--when they have reason and law on  their side. When the mirth of the rest of the company had subsided, and  silence was restored, he leaned one arm on the elbow of his chair, and  sticking the other akimbo, demanded, with a slight, but exceedingly  sage motion of the head, and contraction of the brow, what was the  moral of the story, and what it went to prove?    The story-teller, who was just putting a glass of wine to his lips, as  a refreshment after his toils, paused for a moment, looked at his  inquirer with an air of infinite deference, and, lowering the glass  slowly to the table, observed that the story was intended most  logically to prove--    “That there is no situation in life but has its advantages and  pleasures--provided we will but take a joke as we find it:    “That, therefore, he that runs races with goblin troopers is likely to  have rough riding of it.    “Ergo, for a country schoolmaster to be refused the hand of a Dutch  heiress is a certain step to high preferment in the state.”    The cautious old gentleman knit his brows tenfold closer after this  explanation, being sorely puzzled by the ratiocination of the  syllogism, while, methought, the one in pepper-and-salt eyed him with  something of a triumphant leer. At length he observed that all this was  very well, but still he thought the story a little on the  extravagant--there were one or two points on which he had his doubts.    “Faith, sir,” replied the story-teller, “as to that matter, I don’t  believe one-half of it myself.”  D. K.    THE END.                                  *** END OF THE PROJECT GUTENBERG EBOOK THE LEGEND OF SLEEPY HOLLOW ***                      Updated editions will replace the previous one—the old editions will  be renamed.    Creating the works from print editions not protected by U.S. copyright  law means that no one owns a United States copyright in these works,  so the Foundation (and you!) can copy and distribute it in the United  States without permission and without paying copyright  royalties. Special rules, set forth in the General Terms of Use part  of this license, apply to copying and distributing Project  Gutenberg™ electronic works to protect the PROJECT GUTENBERG™  concept and trademark. Project Gutenberg is a registered trademark,  and may not be used if you charge for an eBook, except by following  the terms of the trademark license, including paying royalties for use  of the Project Gutenberg trademark. If you do not charge anything for  copies of this eBook, complying with the trademark license is very  easy. You may use this eBook for nearly any purpose such as creation  of derivative works, reports, performances and research. Project  Gutenberg eBooks may be modified and printed and given away—you may  do practically ANYTHING in the United States with eBooks not protected  by U.S. copyright law. Redistribution is subject to the trademark  license, especially commercial redistribution.      START: FULL LICENSE    THE FULL PROJECT GUTENBERG LICENSE    PLEASE READ THIS BEFORE YOU DISTRIBUTE OR USE THIS WORK    To protect the Project Gutenberg™ mission of promoting the free  distribution of electronic works, by using or distributing this work  (or any other work associated in any way with the phrase “Project  Gutenberg”), you agree to comply with all the terms of the Full  Project Gutenberg™ License available with this file or online at  www.gutenberg.org/license.    Section 1. General Terms of Use and Redistributing Project Gutenberg™  electronic works    1.A. By reading or using any part of this Project Gutenberg™  electronic work, you indicate that you have read, understand, agree to  and accept all the terms of this license and intellectual property  (trademark/copyright) agreement. If you do not agree to abide by all  the terms of this agreement, you must cease using and return or  destroy all copies of Project Gutenberg™ electronic works in your  possession. If you paid a fee for obtaining a copy of or access to a  Project Gutenberg™ electronic work and you do not agree to be bound  by the terms of this agreement, you may obtain a refund from the person  or entity to whom you paid the fee as set forth in paragraph 1.E.8.    1.B. “Project Gutenberg” is a registered trademark. It may only be  used on or associated in any way with an electronic work by people who  agree to be bound by the terms of this agreement. There are a few  things that you can do with most Project Gutenberg™ electronic works  even without complying with the full terms of this agreement. See  paragraph 1.C below. There are a lot of things you can do with Project  Gutenberg™ electronic works if you follow the terms of this  agreement and help preserve free future access to Project Gutenberg™  electronic works. See paragraph 1.E below.    1.C. The Project Gutenberg Literary Archive Foundation (“the  Foundation” or PGLAF), owns a compilation copyright in the collection  of Project Gutenberg™ electronic works. Nearly all the individual  works in the collection are in the public domain in the United  States. If an individual work is unprotected by copyright law in the  United States and you are located in the United States, we do not  claim a right to prevent you from copying, distributing, performing,  displaying or creating derivative works based on the work as long as  all references to Project Gutenberg are removed. Of course, we hope  that you will support the Project Gutenberg™ mission of promoting  free access to electronic works by freely sharing Project Gutenberg™  works in compliance with the terms of this agreement for keeping the  Project Gutenberg™ name associated with the work. You can easily  comply with the terms of this agreement by keeping this work in the  same format with its attached full Project Gutenberg™ License when  you share it without charge with others.    1.D. The copyright laws of the place where you are located also govern  what you can do with this work. Copyright laws in most countries are  in a constant state of change. If you are outside the United States,  check the laws of your country in addition to the terms of this  agreement before downloading, copying, displaying, performing,  distributing or creating derivative works based on this work or any  other Project Gutenberg™ work. The Foundation makes no  representations concerning the copyright status of any work in any  country other than the United States.    1.E. Unless you have removed all references to Project Gutenberg:    1.E.1. The following sentence, with active links to, or other  immediate access to, the full Project Gutenberg™ License must appear  prominently whenever any copy of a Project Gutenberg™ work (any work  on which the phrase “Project Gutenberg” appears, or with which the  phrase “Project Gutenberg” is associated) is accessed, displayed,  performed, viewed, copied or distributed:        This eBook is for the use of anyone anywhere in the United States and most      other parts of the world at no cost and with almost no restrictions      whatsoever. You may copy it, give it away or re-use it under the terms      of the Project Gutenberg License included with this eBook or online      at www.gutenberg.org. If you      are not located in the United States, you will have to check the laws      of the country where you are located before using this eBook.      1.E.2. If an individual Project Gutenberg™ electronic work is  derived from texts not protected by U.S. copyright law (does not  contain a notice indicating that it is posted with permission of the  copyright holder), the work can be copied and distributed to anyone in  the United States without paying any fees or charges. If you are  redistributing or providing access to a work with the phrase “Project  Gutenberg” associated with or appearing on the work, you must comply  either with the requirements of paragraphs 1.E.1 through 1.E.7 or  obtain permission for the use of the work and the Project Gutenberg™  trademark as set forth in paragraphs 1.E.8 or 1.E.9.    1.E.3. If an individual Project Gutenberg™ electronic work is posted  with the permission of the copyright holder, your use and distribution  must comply with both paragraphs 1.E.1 through 1.E.7 and any  additional terms imposed by the copyright holder. Additional terms  will be linked to the Project Gutenberg™ License for all works  posted with the permission of the copyright holder found at the  beginning of this work.    1.E.4. Do not unlink or detach or remove the full Project Gutenberg™  License terms from this work, or any files containing a part of this  work or any other work associated with Project Gutenberg™.    1.E.5. Do not copy, display, perform, distribute or redistribute this  electronic work, or any part of this electronic work, without  prominently displaying the sentence set forth in paragraph 1.E.1 with  active links or immediate access to the full terms of the Project  Gutenberg™ License.    1.E.6. You may convert to and distribute this work in any binary,  compressed, marked up, nonproprietary or proprietary form, including  any word processing or hypertext form. However, if you provide access  to or distribute copies of a Project Gutenberg™ work in a format  other than “Plain Vanilla ASCII” or other format used in the official  version posted on the official Project Gutenberg™ website  (www.gutenberg.org), you must, at no additional cost, fee or expense  to the user, provide a copy, a means of exporting a copy, or a means  of obtaining a copy upon request, of the work in its original “Plain  Vanilla ASCII” or other form. Any alternate format must include the  full Project Gutenberg™ License as specified in paragraph 1.E.1.    1.E.7. Do not charge a fee for access to, viewing, displaying,  performing, copying or distributing any Project Gutenberg™ works  unless you comply with paragraph 1.E.8 or 1.E.9.    1.E.8. You may charge a reasonable fee for copies of or providing  access to or distributing Project Gutenberg™ electronic works  provided that:        • You pay a royalty fee of 20% of the gross profits you derive from          the use of Project Gutenberg™ works calculated using the method          you already use to calculate your applicable taxes. The fee is owed          to the owner of the Project Gutenberg™ trademark, but he has          agreed to donate royalties under this paragraph to the Project          Gutenberg Literary Archive Foundation. Royalty payments must be paid          within 60 days following each date on which you prepare (or are          legally required to prepare) your periodic tax returns. Royalty          payments should be clearly marked as such and sent to the Project          Gutenberg Literary Archive Foundation at the address specified in          Section 4, “Information about donations to the Project Gutenberg          Literary Archive Foundation.”            • You provide a full refund of any money paid by a user who notifies          you in writing (or by e-mail) within 30 days of receipt that s/he          does not agree to the terms of the full Project Gutenberg™          License. You must require such a user to return or destroy all          copies of the works possessed in a physical medium and discontinue          all use of and all access to other copies of Project Gutenberg™          works.            • You provide, in accordance with paragraph 1.F.3, a full refund of          any money paid for a work or a replacement copy, if a defect in the          electronic work is discovered and reported to you within 90 days of          receipt of the work.            • You comply with all other terms of this agreement for free          distribution of Project Gutenberg™ works.          1.E.9. If you wish to charge a fee or distribute a Project  Gutenberg™ electronic work or group of works on different terms than  are set forth in this agreement, you must obtain permission in writing  from the Project Gutenberg Literary Archive Foundation, the manager of  the Project Gutenberg™ trademark. Contact the Foundation as set  forth in Section 3 below.    1.F.    1.F.1. Project Gutenberg volunteers and employees expend considerable  effort to identify, do copyright research on, transcribe and proofread  works not protected by U.S. copyright law in creating the Project  Gutenberg™ collection. Despite these efforts, Project Gutenberg™  electronic works, and the medium on which they may be stored, may  contain “Defects,” such as, but not limited to, incomplete, inaccurate  or corrupt data, transcription errors, a copyright or other  intellectual property infringement, a defective or damaged disk or  other medium, a computer virus, or computer codes that damage or  cannot be read by your equipment.    1.F.2. LIMITED WARRANTY, DISCLAIMER OF DAMAGES - Except for the “Right  of Replacement or Refund” described in paragraph 1.F.3, the Project  Gutenberg Literary Archive Foundation, the owner of the Project  Gutenberg™ trademark, and any other party distributing a Project  Gutenberg™ electronic work under this agreement, disclaim all  liability to you for damages, costs and expenses, including legal  fees. YOU AGREE THAT YOU HAVE NO REMEDIES FOR NEGLIGENCE, STRICT  LIABILITY, BREACH OF WARRANTY OR BREACH OF CONTRACT EXCEPT THOSE  PROVIDED IN PARAGRAPH 1.F.3. YOU AGREE THAT THE FOUNDATION, THE  TRADEMARK OWNER, AND ANY DISTRIBUTOR UNDER THIS AGREEMENT WILL NOT BE  LIABLE TO YOU FOR ACTUAL, DIRECT, INDIRECT, CONSEQUENTIAL, PUNITIVE OR  INCIDENTAL DAMAGES EVEN IF YOU GIVE NOTICE OF THE POSSIBILITY OF SUCH  DAMAGE.    1.F.3. LIMITED RIGHT OF REPLACEMENT OR REFUND - If you discover a  defect in this electronic work within 90 days of receiving it, you can  receive a refund of the money (if any) you paid for it by sending a  written explanation to the person you received the work from. If you  received the work on a physical medium, you must return the medium  with your written explanation. The person or entity that provided you  with the defective work may elect to provide a replacement copy in  lieu of a refund. If you received the work electronically, the person  or entity providing it to you may choose to give you a second  opportunity to receive the work electronically in lieu of a refund. If  the second copy is also defective, you may demand a refund in writing  without further opportunities to fix the problem.    1.F.4. Except for the limited right of replacement or refund set forth  in paragraph 1.F.3, this work is provided to you ‘AS-IS’, WITH NO  OTHER WARRANTIES OF ANY KIND, EXPRESS OR IMPLIED, INCLUDING BUT NOT  LIMITED TO WARRANTIES OF MERCHANTABILITY OR FITNESS FOR ANY PURPOSE.    1.F.5. Some states do not allow disclaimers of certain implied  warranties or the exclusion or limitation of certain types of  damages. If any disclaimer or limitation set forth in this agreement  violates the law of the state applicable to this agreement, the  agreement shall be interpreted to make the maximum disclaimer or  limitation permitted by the applicable state law. The invalidity or  unenforceability of any provision of this agreement shall not void the  remaining provisions.    1.F.6. INDEMNITY - You agree to indemnify and hold the Foundation, the  trademark owner, any agent or employee of the Foundation, anyone  providing copies of Project Gutenberg™ electronic works in  accordance with this agreement, and any volunteers associated with the  production, promotion and distribution of Project Gutenberg™  electronic works, harmless from all liability, costs and expenses,  including legal fees, that arise directly or indirectly from any of  the following which you do or cause to occur: (a) distribution of this  or any Project Gutenberg™ work, (b) alteration, modification, or  additions or deletions to any Project Gutenberg™ work, and (c) any  Defect you cause.    Section 2. Information about the Mission of Project Gutenberg™    Project Gutenberg™ is synonymous with the free distribution of  electronic works in formats readable by the widest variety of  computers including obsolete, old, middle-aged and new computers. It  exists because of the efforts of hundreds of volunteers and donations  from people in all walks of life.    Volunteers and financial support to provide volunteers with the  assistance they need are critical to reaching Project Gutenberg™’s  goals and ensuring that the Project Gutenberg™ collection will  remain freely available for generations to come. In 2001, the Project  Gutenberg Literary Archive Foundation was created to provide a secure  and permanent future for Project Gutenberg™ and future  generations. To learn more about the Project Gutenberg Literary  Archive Foundation and how your efforts and donations can help, see  Sections 3 and 4 and the Foundation information page at www.gutenberg.org.    Section 3. Information about the Project Gutenberg Literary Archive Foundation    The Project Gutenberg Literary Archive Foundation is a non-profit  501(c)(3) educational corporation organized under the laws of the  state of Mississippi and granted tax exempt status by the Internal  Revenue Service. The Foundation’s EIN or federal tax identification  number is 64-6221541. Contributions to the Project Gutenberg Literary  Archive Foundation are tax deductible to the full extent permitted by  U.S. federal laws and your state’s laws.    The Foundation’s business office is located at 809 North 1500 West,  Salt Lake City, UT 84116, (801) 596-1887. Email contact links and up  to date contact information can be found at the Foundation’s website  and official page at www.gutenberg.org/contact    Section 4. Information about Donations to the Project Gutenberg  Literary Archive Foundation    Project Gutenberg™ depends upon and cannot survive without widespread  public support and donations to carry out its mission of  increasing the number of public domain and licensed works that can be  freely distributed in machine-readable form accessible by the widest  array of equipment including outdated equipment. Many small donations  ($1 to $5,000) are particularly important to maintaining tax exempt  status with the IRS.    The Foundation is committed to complying with the laws regulating  charities and charitable donations in all 50 states of the United  States. Compliance requirements are not uniform and it takes a  considerable effort, much paperwork and many fees to meet and keep up  with these requirements. We do not solicit donations in locations  where we have not received written confirmation of compliance. To SEND  DONATIONS or determine the status of compliance for any particular state  visit www.gutenberg.org/donate.    While we cannot and do not solicit contributions from states where we  have not met the solicitation requirements, we know of no prohibition  against accepting unsolicited donations from donors in such states who  approach us with offers to donate.    International donations are gratefully accepted, but we cannot make  any statements concerning tax treatment of donations received from  outside the United States. U.S. laws alone swamp our small staff.    Please check the Project Gutenberg web pages for current donation  methods and addresses. Donations are accepted in a number of other  ways including checks, online payments and credit card donations. To  donate, please visit: www.gutenberg.org/donate.    Section 5. General Information About Project Gutenberg™ electronic works    Professor Michael S. Hart was the originator of the Project  Gutenberg™ concept of a library of electronic works that could be  freely shared with anyone. For forty years, he produced and  distributed Project Gutenberg™ eBooks with only a loose network of  volunteer support.    Project Gutenberg™ eBooks are often created from several printed  editions, all of which are confirmed as not protected by copyright in  the U.S. unless a copyright notice is included. Thus, we do not  necessarily keep eBooks in compliance with any particular paper  edition.    Most people start at our website which has the main PG search  facility: www.gutenberg.org.    This website includes information about Project Gutenberg™,  including how to make donations to the Project Gutenberg Literary  Archive Foundation, how to help produce our new eBooks, and how to  subscribe to our email newsletter to hear about new eBooks.      \n"
     ]
    }
   ],
   "source": [
    "file_content = file_content[1185:]\n",
    "print(file_content)"
   ]
  },
  {
   "cell_type": "code",
   "execution_count": 35,
   "id": "63b48d42",
   "metadata": {},
   "outputs": [
    {
     "name": "stdout",
     "output_type": "stream",
     "text": [
      "[['in', 'the', 'bosom', 'of', 'one', 'of', 'those', 'spacious', 'coves', 'which', 'indent', 'the', 'eastern', 'shore', 'of', 'the', 'hudson', ',', 'at', 'that', 'broad', 'expansion', 'of', 'the', 'river', 'denominated', 'by', 'the', 'ancient', 'dutch', 'navigators', 'the', 'tappan', 'zee', ',', 'and', 'where', 'they', 'always', 'prudently', 'shortened', 'sail', 'and', 'implored', 'the', 'protection', 'of', 'st.', 'nicholas', 'when', 'they', 'crossed', ',', 'there', 'lies', 'a', 'small', 'market', 'town', 'or', 'rural', 'port', ',', 'which', 'by', 'some', 'is', 'called', 'greensburgh', ',', 'but', 'which', 'is', 'more', 'generally', 'and', 'properly', 'known', 'by', 'the', 'name', 'of', 'tarry', 'town', '.'], ['this', 'name', 'was', 'given', ',', 'we', 'are', 'told', ',', 'in', 'former', 'days', ',', 'by', 'the', 'good', 'housewives', 'of', 'the', 'adjacent', 'country', ',', 'from', 'the', 'inveterate', 'propensity', 'of', 'their', 'husbands', 'to', 'linger', 'about', 'the', 'village', 'tavern', 'on', 'market', 'days', '.'], ['be', 'that', 'as', 'it', 'may', ',', 'i', 'do', 'not', 'vouch', 'for', 'the', 'fact', ',', 'but', 'merely', 'advert', 'to', 'it', ',', 'for', 'the', 'sake', 'of', 'being', 'precise', 'and', 'authentic', '.'], ['not', 'far', 'from', 'this', 'village', ',', 'perhaps', 'about', 'two', 'miles', ',', 'there', 'is', 'a', 'little', 'valley', 'or', 'rather', 'lap', 'of', 'land', 'among', 'high', 'hills', ',', 'which', 'is', 'one', 'of', 'the', 'quietest', 'places', 'in', 'the', 'whole', 'world', '.'], ['a', 'small', 'brook', 'glides', 'through', 'it', ',', 'with', 'just', 'murmur', 'enough', 'to', 'lull', 'one', 'to', 'repose', ';', 'and', 'the', 'occasional', 'whistle', 'of', 'a', 'quail', 'or', 'tapping', 'of', 'a', 'woodpecker', 'is', 'almost', 'the', 'only', 'sound', 'that', 'ever', 'breaks', 'in', 'upon', 'the', 'uniform', 'tranquillity', '.'], ['i', 'recollect', 'that', ',', 'when', 'a', 'stripling', ',', 'my', 'first', 'exploit', 'in', 'squirrel-shooting', 'was', 'in', 'a', 'grove', 'of', 'tall', 'walnut-trees', 'that', 'shades', 'one', 'side', 'of', 'the', 'valley', '.'], ['i', 'had', 'wandered', 'into', 'it', 'at', 'noontime', ',', 'when', 'all', 'nature', 'is', 'peculiarly', 'quiet', ',', 'and', 'was', 'startled', 'by', 'the', 'roar', 'of', 'my', 'own', 'gun', ',', 'as', 'it', 'broke', 'the', 'sabbath', 'stillness', 'around', 'and', 'was', 'prolonged', 'and', 'reverberated', 'by', 'the', 'angry', 'echoes', '.'], ['if', 'ever', 'i', 'should', 'wish', 'for', 'a', 'retreat', 'whither', 'i', 'might', 'steal', 'from', 'the', 'world', 'and', 'its', 'distractions', ',', 'and', 'dream', 'quietly', 'away', 'the', 'remnant', 'of', 'a', 'troubled', 'life', ',', 'i', 'know', 'of', 'none', 'more', 'promising', 'than', 'this', 'little', 'valley', '.'], ['from', 'the', 'listless', 'repose', 'of', 'the', 'place', ',', 'and', 'the', 'peculiar', 'character', 'of', 'its', 'inhabitants', ',', 'who', 'are', 'descendants', 'from', 'the', 'original', 'dutch', 'settlers', ',', 'this', 'sequestered', 'glen', 'has', 'long', 'been', 'known', 'by', 'the', 'name', 'of', 'sleepy', 'hollow', ',', 'and', 'its', 'rustic', 'lads', 'are', 'called', 'the', 'sleepy', 'hollow', 'boys', 'throughout', 'all', 'the', 'neighboring', 'country', '.'], ['a', 'drowsy', ',', 'dreamy', 'influence', 'seems', 'to', 'hang', 'over', 'the', 'land', ',', 'and', 'to', 'pervade', 'the', 'very', 'atmosphere', '.']]\n"
     ]
    }
   ],
   "source": [
    "# this is simplified for demonstration\n",
    "def sample_clean_text(text: str):\n",
    "    # step 1: tokenize the text into sentences\n",
    "    sentences = nltk.sent_tokenize(text)\n",
    "\n",
    "    # step 2: tokenize each sentence into words\n",
    "    tokenized_sentences = [nltk.word_tokenize(sent) for sent in sentences]\n",
    "\n",
    "    # step 3: convert each word to lowercase\n",
    "    tokenized_text = [[word.lower() for word in sent] for sent in tokenized_sentences]\n",
    "    \n",
    "    # return your tokens\n",
    "    return tokenized_text\n",
    "\n",
    "# call the function\n",
    "tokens = sample_clean_text(text = file_content)\n",
    "\n",
    "# check\n",
    "print(tokens[:10])"
   ]
  },
  {
   "cell_type": "code",
   "execution_count": 36,
   "id": "1c281ffb",
   "metadata": {},
   "outputs": [],
   "source": [
    "model = Word2Vec(tokens,vector_size=100)"
   ]
  },
  {
   "cell_type": "code",
   "execution_count": 37,
   "id": "5263f6ce",
   "metadata": {},
   "outputs": [
    {
     "data": {
      "text/plain": [
       "{',': 0,\n",
       " 'the': 1,\n",
       " 'of': 2,\n",
       " 'and': 3,\n",
       " '.': 4,\n",
       " 'a': 5,\n",
       " 'to': 6,\n",
       " 'in': 7,\n",
       " 'his': 8,\n",
       " 'was': 9,\n",
       " 'he': 10,\n",
       " 'with': 11,\n",
       " ';': 12,\n",
       " 'that': 13,\n",
       " 'or': 14,\n",
       " 'it': 15,\n",
       " 'by': 16,\n",
       " 'on': 17,\n",
       " 'for': 18,\n",
       " 'as': 19,\n",
       " 'at': 20,\n",
       " 'this': 21,\n",
       " 'project': 22,\n",
       " 'had': 23,\n",
       " 'from': 24,\n",
       " 'which': 25,\n",
       " 'you': 26,\n",
       " 'but': 27,\n",
       " 'all': 28,\n",
       " 'not': 29,\n",
       " 'is': 30,\n",
       " 'gutenberg™': 31,\n",
       " 'be': 32,\n",
       " 'who': 33,\n",
       " 'their': 34,\n",
       " 'any': 35,\n",
       " 'ichabod': 36,\n",
       " 'were': 37,\n",
       " 'one': 38,\n",
       " 'have': 39,\n",
       " 'work': 40,\n",
       " 'him': 41,\n",
       " 'an': 42,\n",
       " '’': 43,\n",
       " 'some': 44,\n",
       " 'are': 45,\n",
       " 'if': 46,\n",
       " 's': 47,\n",
       " 'there': 48,\n",
       " 'upon': 49,\n",
       " 'they': 50,\n",
       " 'about': 51,\n",
       " 'old': 52,\n",
       " '“': 53,\n",
       " 'been': 54,\n",
       " 'works': 55,\n",
       " '”': 56,\n",
       " 'country': 57,\n",
       " 'up': 58,\n",
       " 'no': 59,\n",
       " 'other': 60,\n",
       " 'over': 61,\n",
       " 'gutenberg': 62,\n",
       " 'i': 63,\n",
       " 'its': 64,\n",
       " 'electronic': 65,\n",
       " 'like': 66,\n",
       " 'would': 67,\n",
       " 'van': 68,\n",
       " 'time': 69,\n",
       " 'little': 70,\n",
       " 'foundation': 71,\n",
       " 'most': 72,\n",
       " 'hollow': 73,\n",
       " 'her': 74,\n",
       " 'terms': 75,\n",
       " 'where': 76,\n",
       " 'may': 77,\n",
       " 'more': 78,\n",
       " '--': 79,\n",
       " 'into': 80,\n",
       " 'now': 81,\n",
       " 'do': 82,\n",
       " 'out': 83,\n",
       " 'so': 84,\n",
       " 'than': 85,\n",
       " 'along': 86,\n",
       " 'such': 87,\n",
       " 'copyright': 88,\n",
       " 'forth': 89,\n",
       " '!': 90,\n",
       " 'side': 91,\n",
       " 'might': 92,\n",
       " ')': 93,\n",
       " 'under': 94,\n",
       " 'them': 95,\n",
       " 'agreement': 96,\n",
       " '(': 97,\n",
       " 'great': 98,\n",
       " 'then': 99,\n",
       " 'full': 100,\n",
       " 'these': 101,\n",
       " 'before': 102,\n",
       " 'air': 103,\n",
       " 'states': 104,\n",
       " 'when': 105,\n",
       " 'himself': 106,\n",
       " 'those': 107,\n",
       " 'without': 108,\n",
       " 'away': 109,\n",
       " 'head': 110,\n",
       " 'we': 111,\n",
       " 'every': 112,\n",
       " 'sleepy': 113,\n",
       " 'can': 114,\n",
       " 'license': 115,\n",
       " 'bridge': 116,\n",
       " 'too': 117,\n",
       " 'how': 118,\n",
       " 'still': 119,\n",
       " 'however': 120,\n",
       " 'only': 121,\n",
       " 'being': 122,\n",
       " 'donations': 123,\n",
       " 'must': 124,\n",
       " 'way': 125,\n",
       " 'whole': 126,\n",
       " 'tassel': 127,\n",
       " 'literary': 128,\n",
       " 'church': 129,\n",
       " 'brom': 130,\n",
       " 'road': 131,\n",
       " 'heard': 132,\n",
       " 'through': 133,\n",
       " 'brook': 134,\n",
       " 'just': 135,\n",
       " 'bones': 136,\n",
       " 'archive': 137,\n",
       " 'story': 138,\n",
       " 'horse': 139,\n",
       " 'neighborhood': 140,\n",
       " 'trees': 141,\n",
       " 'united': 142,\n",
       " 'among': 143,\n",
       " 'trademark': 144,\n",
       " 'heart': 145,\n",
       " 'dutch': 146,\n",
       " 'night': 147,\n",
       " 'man': 148,\n",
       " ':': 149,\n",
       " 'use': 150,\n",
       " 'part': 151,\n",
       " 'made': 152,\n",
       " 'mind': 153,\n",
       " 'copy': 154,\n",
       " 'school': 155,\n",
       " 'your': 156,\n",
       " 'many': 157,\n",
       " 'found': 158,\n",
       " 'set': 159,\n",
       " 'while': 160,\n",
       " 'access': 161,\n",
       " 'after': 162,\n",
       " 'name': 163,\n",
       " 'paragraph': 164,\n",
       " 'small': 165,\n",
       " 'very': 166,\n",
       " 'tree': 167,\n",
       " 'good': 168,\n",
       " 'make': 169,\n",
       " 'often': 170,\n",
       " 'steed': 171,\n",
       " 'new': 172,\n",
       " 'eyes': 173,\n",
       " 'black': 174,\n",
       " 'even': 175,\n",
       " 'schoolhouse': 176,\n",
       " 'refund': 177,\n",
       " 'against': 178,\n",
       " 'kind': 179,\n",
       " 'state': 180,\n",
       " 'behind': 181,\n",
       " 'place': 182,\n",
       " 'round': 183,\n",
       " 'always': 184,\n",
       " 'almost': 185,\n",
       " 'laws': 186,\n",
       " 'foot': 187,\n",
       " 'agree': 188,\n",
       " 'seen': 189,\n",
       " 'including': 190,\n",
       " 'two': 191,\n",
       " 'crane': 192,\n",
       " 'scene': 193,\n",
       " 'should': 194,\n",
       " 'has': 195,\n",
       " 'long': 196,\n",
       " 'end': 197,\n",
       " 'haunted': 198,\n",
       " 'will': 199,\n",
       " 'favorite': 200,\n",
       " 'law': 201,\n",
       " 'saddle': 202,\n",
       " 'could': 203,\n",
       " 'what': 204,\n",
       " 'gunpowder': 205,\n",
       " 'off': 206,\n",
       " 'hand': 207,\n",
       " 'received': 208,\n",
       " 'ripper': 209,\n",
       " 'white': 210,\n",
       " 'hans': 211,\n",
       " 'did': 212,\n",
       " 'half': 213,\n",
       " 'fee': 214,\n",
       " 'goblin': 215,\n",
       " 'thought': 216,\n",
       " 'schoolmaster': 217,\n",
       " 'cakes': 218,\n",
       " 'our': 219,\n",
       " 'within': 220,\n",
       " 'life': 221,\n",
       " 'whom': 222,\n",
       " 'evening': 223,\n",
       " 'though': 224,\n",
       " 'came': 225,\n",
       " 'tales': 226,\n",
       " 'see': 227,\n",
       " 'give': 228,\n",
       " 'certain': 229,\n",
       " 'ever': 230,\n",
       " 'master': 231,\n",
       " 'several': 232,\n",
       " 'carried': 233,\n",
       " 'high': 234,\n",
       " 'information': 235,\n",
       " 'day': 236,\n",
       " 'passed': 237,\n",
       " 'large': 238,\n",
       " 'days': 239,\n",
       " 'people': 240,\n",
       " 'associated': 241,\n",
       " 'much': 242,\n",
       " 'rich': 243,\n",
       " 'huge': 244,\n",
       " 'hessian': 245,\n",
       " 'section': 246,\n",
       " 'something': 247,\n",
       " 'rival': 248,\n",
       " 'therefore': 249,\n",
       " 'appearance': 250,\n",
       " 'ebooks': 251,\n",
       " 'door': 252,\n",
       " 'fearful': 253,\n",
       " 'u.s.': 254,\n",
       " 'down': 255,\n",
       " 'turned': 256,\n",
       " 'stood': 257,\n",
       " 'sound': 258,\n",
       " 'left': 259,\n",
       " 'own': 260,\n",
       " 'dark': 261,\n",
       " 'ghosts': 262,\n",
       " 'moment': 263,\n",
       " 'eye': 264,\n",
       " 'distributing': 265,\n",
       " 'ebook': 266,\n",
       " 'hero': 267,\n",
       " 'copies': 268,\n",
       " 'known': 269,\n",
       " 'help': 270,\n",
       " 'horseman': 271,\n",
       " 'having': 272,\n",
       " 'provide': 273,\n",
       " 'stream': 274,\n",
       " '?': 275,\n",
       " 'fire': 276,\n",
       " 'wild': 277,\n",
       " 'person': 278,\n",
       " 'sometimes': 279,\n",
       " 'form': 280,\n",
       " 'told': 281,\n",
       " 'pedagogue': 282,\n",
       " 'hung': 283,\n",
       " 'ghost': 284,\n",
       " 'look': 285,\n",
       " 'water': 286,\n",
       " 'put': 287,\n",
       " 'called': 288,\n",
       " 'thus': 289,\n",
       " 'idea': 290,\n",
       " 'children': 291,\n",
       " 'wings': 292,\n",
       " 'late': 293,\n",
       " 'blue': 294,\n",
       " '*': 295,\n",
       " 'turn': 296,\n",
       " 'rustic': 297,\n",
       " 'permission': 298,\n",
       " 'nature': 299,\n",
       " 'charge': 300,\n",
       " 'yet': 301,\n",
       " 'paid': 302,\n",
       " 'beheld': 303,\n",
       " 'distribute': 304,\n",
       " 'fine': 305,\n",
       " 'same': 306,\n",
       " 'rather': 307,\n",
       " 'broad': 308,\n",
       " 'fact': 309,\n",
       " 'path': 310,\n",
       " 'valley': 311,\n",
       " 'sides': 312,\n",
       " 'stories': 313,\n",
       " 'short': 314,\n",
       " 'far': 315,\n",
       " 'following': 316,\n",
       " 'neighboring': 317,\n",
       " 'hudson': 318,\n",
       " 'tax': 319,\n",
       " 'spectre': 320,\n",
       " 'began': 321,\n",
       " 'others': 322,\n",
       " 'ready': 323,\n",
       " 'hat': 324,\n",
       " 'looked': 325,\n",
       " 'given': 326,\n",
       " 'distribution': 327,\n",
       " 'partly': 328,\n",
       " 'spirit': 329,\n",
       " 'parts': 330,\n",
       " 'rider': 331,\n",
       " 'justice': 332,\n",
       " 'window': 333,\n",
       " 'another': 334,\n",
       " 'comply': 335,\n",
       " 'powers': 336,\n",
       " 'green': 337,\n",
       " 'hills': 338,\n",
       " 'land': 339,\n",
       " 'medium': 340,\n",
       " 'compliance': 341,\n",
       " 'taken': 342,\n",
       " 'gradually': 343,\n",
       " 'gave': 344,\n",
       " '1.f.3': 345,\n",
       " 'using': 346,\n",
       " '1.e.1': 347,\n",
       " 'free': 348,\n",
       " 'suddenly': 349,\n",
       " 'lady': 350,\n",
       " 'mission': 351,\n",
       " 'felt': 352,\n",
       " 'replacement': 353,\n",
       " 'located': 354,\n",
       " 'distant': 355,\n",
       " 'mounted': 356,\n",
       " 'winter': 357,\n",
       " 'farmhouse': 358,\n",
       " 'times': 359,\n",
       " 'rough': 360,\n",
       " 'distance': 361,\n",
       " 'indeed': 362,\n",
       " 'churchyard': 363,\n",
       " 'sunday': 364,\n",
       " 'opposite': 365,\n",
       " 'unfortunate': 366,\n",
       " 'midnight': 367,\n",
       " 'back': 368,\n",
       " 'laid': 369,\n",
       " 'headless': 370,\n",
       " 'entered': 371,\n",
       " 'world': 372,\n",
       " 'sky': 373,\n",
       " 'farmers': 374,\n",
       " 'nearly': 375,\n",
       " 'years': 376,\n",
       " 'according': 377,\n",
       " 'except': 378,\n",
       " 'companion': 379,\n",
       " 'together': 380,\n",
       " 'never': 381,\n",
       " 'beneath': 382,\n",
       " 'neck': 383,\n",
       " 'mere': 384,\n",
       " 'volunteers': 385,\n",
       " 'war': 386,\n",
       " 'whose': 387,\n",
       " 'region': 388,\n",
       " 'books': 389,\n",
       " 'money': 390,\n",
       " 'seemed': 391,\n",
       " 'true': 392,\n",
       " 'my': 393,\n",
       " 'tall': 394,\n",
       " 'she': 395,\n",
       " 'katrina': 396,\n",
       " 'each': 397,\n",
       " 'broke': 398,\n",
       " 'motion': 399,\n",
       " 'protected': 400,\n",
       " 'beset': 401,\n",
       " 'face': 402,\n",
       " 'galloping': 403,\n",
       " 'provided': 404,\n",
       " 'fields': 405,\n",
       " 'say': 406,\n",
       " 'sat': 407,\n",
       " 'psalm': 408,\n",
       " 'walk': 409,\n",
       " 'marvellous': 410,\n",
       " 'poor': 411,\n",
       " 'across': 412,\n",
       " 'hour': 413,\n",
       " 'right': 414,\n",
       " 'delight': 415,\n",
       " 'mixture': 416,\n",
       " 'limited': 417}"
      ]
     },
     "execution_count": 37,
     "metadata": {},
     "output_type": "execute_result"
    }
   ],
   "source": [
    "model.wv.key_to_index"
   ]
  },
  {
   "cell_type": "code",
   "execution_count": 39,
   "id": "0feb831a",
   "metadata": {},
   "outputs": [
    {
     "data": {
      "text/plain": [
       "array([-0.07674808,  0.07961038, -0.00243084,  0.03294911, -0.05016393,\n",
       "       -0.15905407,  0.07257261,  0.23984821, -0.12440128, -0.02801013,\n",
       "       -0.02247628, -0.12377815, -0.08196192,  0.02887518,  0.02693943,\n",
       "       -0.10341065,  0.09226907, -0.06660362, -0.12526454, -0.26036778,\n",
       "        0.04904052,  0.05111277,  0.10503238, -0.00438421,  0.02435092,\n",
       "       -0.03745606, -0.08937602, -0.12142327, -0.10820504,  0.03332509,\n",
       "        0.13256551, -0.04379289,  0.08808027, -0.15201466, -0.06333039,\n",
       "        0.1024157 ,  0.0612024 , -0.03940597, -0.02315756, -0.22426982,\n",
       "        0.05089146, -0.11725132, -0.0592141 , -0.00503607,  0.0710631 ,\n",
       "       -0.04532729, -0.12000186, -0.03798077,  0.07185876,  0.08971345,\n",
       "        0.04754249, -0.22377297, -0.05385923,  0.02745862, -0.06234169,\n",
       "        0.03225737,  0.08059254, -0.10868766, -0.15067686,  0.08190879,\n",
       "        0.06267489,  0.0094465 ,  0.13491777, -0.09518667, -0.13861367,\n",
       "        0.13463372,  0.06497922,  0.1388554 , -0.18127233,  0.11551607,\n",
       "        0.0011309 ,  0.07809725,  0.07569844,  0.00495675,  0.17057836,\n",
       "        0.03554238, -0.00545196,  0.01327006, -0.1431713 , -0.05163541,\n",
       "       -0.03876898, -0.07652326, -0.10905729,  0.18990797, -0.08652894,\n",
       "       -0.05779069, -0.00733238,  0.03763942,  0.13482924,  0.02497862,\n",
       "        0.19305414,  0.07597018,  0.01204073,  0.05964841,  0.16358979,\n",
       "        0.17516471,  0.03603151, -0.09706295,  0.00046288, -0.06381493],\n",
       "      dtype=float32)"
      ]
     },
     "execution_count": 39,
     "metadata": {},
     "output_type": "execute_result"
    }
   ],
   "source": [
    "model.wv.get_vector(\"all\", norm=True)"
   ]
  },
  {
   "cell_type": "code",
   "execution_count": 41,
   "id": "e490d23a",
   "metadata": {},
   "outputs": [
    {
     "data": {
      "text/plain": [
       "[('to', 0.9996576309204102),\n",
       " (',', 0.9995923042297363),\n",
       " ('in', 0.9995349049568176),\n",
       " ('by', 0.9995315670967102),\n",
       " ('was', 0.9995278120040894),\n",
       " ('as', 0.9995152950286865),\n",
       " ('this', 0.999509871006012),\n",
       " ('you', 0.9994956851005554),\n",
       " ('are', 0.9994872808456421),\n",
       " ('is', 0.9994744062423706)]"
      ]
     },
     "execution_count": 41,
     "metadata": {},
     "output_type": "execute_result"
    }
   ],
   "source": [
    "model.wv.most_similar('all')\n",
    "###Top 5 Words\n",
    "#1.'to'\n",
    "#2.','\n",
    "#3.'in'\n",
    "#4.'by'\n",
    "#5.'was'"
   ]
  },
  {
   "cell_type": "code",
   "execution_count": 42,
   "id": "55e3e711",
   "metadata": {},
   "outputs": [
    {
     "data": {
      "text/plain": [
       "0.9989868"
      ]
     },
     "execution_count": 42,
     "metadata": {},
     "output_type": "execute_result"
    }
   ],
   "source": [
    "model.wv.similarity('all', 'most')"
   ]
  },
  {
   "cell_type": "code",
   "execution_count": 43,
   "id": "0320abc3",
   "metadata": {},
   "outputs": [
    {
     "data": {
      "text/plain": [
       "0.9987352"
      ]
     },
     "execution_count": 43,
     "metadata": {},
     "output_type": "execute_result"
    }
   ],
   "source": [
    "model.wv.similarity('little', 'hollow')"
   ]
  },
  {
   "cell_type": "code",
   "execution_count": 46,
   "id": "72a88d65",
   "metadata": {},
   "outputs": [
    {
     "data": {
      "text/plain": [
       "<gensim.models.word2vec.Word2Vec at 0x241fb073910>"
      ]
     },
     "metadata": {},
     "output_type": "display_data"
    }
   ],
   "source": [
    "def reduce_dimensions(model):\n",
    "    num_dimensions = 2  # final num dimensions (2D, 3D, etc)\n",
    "\n",
    "    # extract the words & their vectors, as numpy arrays\n",
    "    vectors = np.asarray(model.wv.vectors)\n",
    "    labels = np.asarray(model.wv.index_to_key)  # fixed-width numpy strings\n",
    "\n",
    "    # reduce using t-SNE\n",
    "    tsne = TSNE(n_components=num_dimensions, random_state=0)\n",
    "    vectors = tsne.fit_transform(vectors)\n",
    "\n",
    "    x_vals = [v[0] for v in vectors]\n",
    "    y_vals = [v[1] for v in vectors]\n",
    "    return x_vals, y_vals, labels\n",
    "\n",
    "\n",
    "x_vals, y_vals, labels = reduce_dimensions(model)\n"
   ]
  },
  {
   "cell_type": "code",
   "execution_count": 47,
   "id": "1ee9e05d",
   "metadata": {},
   "outputs": [
    {
     "data": {
      "text/html": [
       "        <script type=\"text/javascript\">\n",
       "        window.PlotlyConfig = {MathJaxConfig: 'local'};\n",
       "        if (window.MathJax && window.MathJax.Hub && window.MathJax.Hub.Config) {window.MathJax.Hub.Config({SVG: {font: \"STIX-Web\"}});}\n",
       "        if (typeof require !== 'undefined') {\n",
       "        require.undef(\"plotly\");\n",
       "        requirejs.config({\n",
       "            paths: {\n",
       "                'plotly': ['https://cdn.plot.ly/plotly-2.12.1.min']\n",
       "            }\n",
       "        });\n",
       "        require(['plotly'], function(Plotly) {\n",
       "            window._Plotly = Plotly;\n",
       "        });\n",
       "        }\n",
       "        </script>\n",
       "        "
      ]
     },
     "metadata": {},
     "output_type": "display_data"
    },
    {
     "data": {
      "application/vnd.plotly.v1+json": {
       "config": {
        "linkText": "Export to plot.ly",
        "plotlyServerURL": "https://plot.ly",
        "showLink": false
       },
       "data": [
        {
         "mode": "text",
         "text": [
          ",",
          "the",
          "of",
          "and",
          ".",
          "a",
          "to",
          "in",
          "his",
          "was",
          "he",
          "with",
          ";",
          "that",
          "or",
          "it",
          "by",
          "on",
          "for",
          "as",
          "at",
          "this",
          "project",
          "had",
          "from",
          "which",
          "you",
          "but",
          "all",
          "not",
          "is",
          "gutenberg™",
          "be",
          "who",
          "their",
          "any",
          "ichabod",
          "were",
          "one",
          "have",
          "work",
          "him",
          "an",
          "’",
          "some",
          "are",
          "if",
          "s",
          "there",
          "upon",
          "they",
          "about",
          "old",
          "“",
          "been",
          "works",
          "”",
          "country",
          "up",
          "no",
          "other",
          "over",
          "gutenberg",
          "i",
          "its",
          "electronic",
          "like",
          "would",
          "van",
          "time",
          "little",
          "foundation",
          "most",
          "hollow",
          "her",
          "terms",
          "where",
          "may",
          "more",
          "--",
          "into",
          "now",
          "do",
          "out",
          "so",
          "than",
          "along",
          "such",
          "copyright",
          "forth",
          "!",
          "side",
          "might",
          ")",
          "under",
          "them",
          "agreement",
          "(",
          "great",
          "then",
          "full",
          "these",
          "before",
          "air",
          "states",
          "when",
          "himself",
          "those",
          "without",
          "away",
          "head",
          "we",
          "every",
          "sleepy",
          "can",
          "license",
          "bridge",
          "too",
          "how",
          "still",
          "however",
          "only",
          "being",
          "donations",
          "must",
          "way",
          "whole",
          "tassel",
          "literary",
          "church",
          "brom",
          "road",
          "heard",
          "through",
          "brook",
          "just",
          "bones",
          "archive",
          "story",
          "horse",
          "neighborhood",
          "trees",
          "united",
          "among",
          "trademark",
          "heart",
          "dutch",
          "night",
          "man",
          ":",
          "use",
          "part",
          "made",
          "mind",
          "copy",
          "school",
          "your",
          "many",
          "found",
          "set",
          "while",
          "access",
          "after",
          "name",
          "paragraph",
          "small",
          "very",
          "tree",
          "good",
          "make",
          "often",
          "steed",
          "new",
          "eyes",
          "black",
          "even",
          "schoolhouse",
          "refund",
          "against",
          "kind",
          "state",
          "behind",
          "place",
          "round",
          "always",
          "almost",
          "laws",
          "foot",
          "agree",
          "seen",
          "including",
          "two",
          "crane",
          "scene",
          "should",
          "has",
          "long",
          "end",
          "haunted",
          "will",
          "favorite",
          "law",
          "saddle",
          "could",
          "what",
          "gunpowder",
          "off",
          "hand",
          "received",
          "ripper",
          "white",
          "hans",
          "did",
          "half",
          "fee",
          "goblin",
          "thought",
          "schoolmaster",
          "cakes",
          "our",
          "within",
          "life",
          "whom",
          "evening",
          "though",
          "came",
          "tales",
          "see",
          "give",
          "certain",
          "ever",
          "master",
          "several",
          "carried",
          "high",
          "information",
          "day",
          "passed",
          "large",
          "days",
          "people",
          "associated",
          "much",
          "rich",
          "huge",
          "hessian",
          "section",
          "something",
          "rival",
          "therefore",
          "appearance",
          "ebooks",
          "door",
          "fearful",
          "u.s.",
          "down",
          "turned",
          "stood",
          "sound",
          "left",
          "own",
          "dark",
          "ghosts",
          "moment",
          "eye",
          "distributing",
          "ebook",
          "hero",
          "copies",
          "known",
          "help",
          "horseman",
          "having",
          "provide",
          "stream",
          "?",
          "fire",
          "wild",
          "person",
          "sometimes",
          "form",
          "told",
          "pedagogue",
          "hung",
          "ghost",
          "look",
          "water",
          "put",
          "called",
          "thus",
          "idea",
          "children",
          "wings",
          "late",
          "blue",
          "*",
          "turn",
          "rustic",
          "permission",
          "nature",
          "charge",
          "yet",
          "paid",
          "beheld",
          "distribute",
          "fine",
          "same",
          "rather",
          "broad",
          "fact",
          "path",
          "valley",
          "sides",
          "stories",
          "short",
          "far",
          "following",
          "neighboring",
          "hudson",
          "tax",
          "spectre",
          "began",
          "others",
          "ready",
          "hat",
          "looked",
          "given",
          "distribution",
          "partly",
          "spirit",
          "parts",
          "rider",
          "justice",
          "window",
          "another",
          "comply",
          "powers",
          "green",
          "hills",
          "land",
          "medium",
          "compliance",
          "taken",
          "gradually",
          "gave",
          "1.f.3",
          "using",
          "1.e.1",
          "free",
          "suddenly",
          "lady",
          "mission",
          "felt",
          "replacement",
          "located",
          "distant",
          "mounted",
          "winter",
          "farmhouse",
          "times",
          "rough",
          "distance",
          "indeed",
          "churchyard",
          "sunday",
          "opposite",
          "unfortunate",
          "midnight",
          "back",
          "laid",
          "headless",
          "entered",
          "world",
          "sky",
          "farmers",
          "nearly",
          "years",
          "according",
          "except",
          "companion",
          "together",
          "never",
          "beneath",
          "neck",
          "mere",
          "volunteers",
          "war",
          "whose",
          "region",
          "books",
          "money",
          "seemed",
          "true",
          "my",
          "tall",
          "she",
          "katrina",
          "each",
          "broke",
          "motion",
          "protected",
          "beset",
          "face",
          "galloping",
          "provided",
          "fields",
          "say",
          "sat",
          "psalm",
          "walk",
          "marvellous",
          "poor",
          "across",
          "hour",
          "right",
          "delight",
          "mixture",
          "limited"
         ],
         "type": "scatter",
         "x": [
          43.84078598022461,
          43.07704544067383,
          43.51253890991211,
          43.544857025146484,
          41.858551025390625,
          43.375282287597656,
          43.102622985839844,
          43.10635757446289,
          43.0233154296875,
          41.93037033081055,
          41.06223678588867,
          41.102291107177734,
          40.018001556396484,
          42.28636932373047,
          39.790435791015625,
          38.79170227050781,
          41.608665466308594,
          39.649383544921875,
          40.52719497680664,
          39.16529846191406,
          39.565208435058594,
          42.13876724243164,
          42.30060577392578,
          40.42240524291992,
          36.10635757446289,
          37.553955078125,
          39.10527038574219,
          34.30670928955078,
          36.28295135498047,
          38.95097351074219,
          38.85768508911133,
          39.23155975341797,
          39.78107833862305,
          37.410972595214844,
          30.830219268798828,
          36.74228286743164,
          31.853986740112305,
          33.54824447631836,
          34.982173919677734,
          39.83363342285156,
          34.935882568359375,
          33.84199905395508,
          38.38009262084961,
          40.1266975402832,
          37.3465461730957,
          38.47249221801758,
          34.31344985961914,
          34.28441619873047,
          28.072206497192383,
          39.43372344970703,
          40.31107711791992,
          37.75508117675781,
          33.38004684448242,
          31.764480590820312,
          36.497074127197266,
          30.920881271362305,
          34.17518615722656,
          29.188154220581055,
          32.61534881591797,
          32.59856033325195,
          26.2147274017334,
          34.84919738769531,
          31.831151962280273,
          33.48087692260742,
          27.55915641784668,
          27.818159103393555,
          25.432865142822266,
          32.19379806518555,
          35.773582458496094,
          24.094276428222656,
          22.528135299682617,
          33.258689880371094,
          24.99813461303711,
          34.989620208740234,
          28.43600082397461,
          28.139564514160156,
          33.91111373901367,
          28.637208938598633,
          24.624086380004883,
          29.08985137939453,
          32.3262939453125,
          21.764122009277344,
          21.105859756469727,
          29.754751205444336,
          30.15479850769043,
          21.63699722290039,
          23.83669662475586,
          20.83637237548828,
          19.599821090698242,
          28.87401580810547,
          21.941041946411133,
          19.955501556396484,
          21.642906188964844,
          22.204980850219727,
          22.896270751953125,
          23.273927688598633,
          20.9962100982666,
          27.21363639831543,
          20.464101791381836,
          7.977302551269531,
          25.594833374023438,
          15.239343643188477,
          26.533674240112305,
          8.798492431640625,
          24.99978256225586,
          25.314287185668945,
          13.507526397705078,
          16.34178924560547,
          25.362390518188477,
          28.901220321655273,
          4.066963195800781,
          28.59140968322754,
          23.276554107666016,
          29.656620025634766,
          23.20862579345703,
          16.615358352661133,
          14.333902359008789,
          4.663620471954346,
          26.038516998291016,
          22.48223304748535,
          10.546765327453613,
          15.591479301452637,
          0.2887902557849884,
          28.16299819946289,
          24.208162307739258,
          14.72537612915039,
          15.472493171691895,
          14.241902351379395,
          23.233251571655273,
          12.11742877960205,
          23.734838485717773,
          2.4356849193573,
          25.521427154541016,
          17.15064239501953,
          15.982926368713379,
          15.966198921203613,
          13.286974906921387,
          26.68104362487793,
          17.470956802368164,
          4.6494140625,
          17.4526309967041,
          6.341896057128906,
          18.051433563232422,
          20.444984436035156,
          -2.5329277515411377,
          -3.84358811378479,
          16.322799682617188,
          16.865276336669922,
          3.394561529159546,
          -2.2137486934661865,
          14.608464241027832,
          9.733223915100098,
          5.985586643218994,
          4.92592191696167,
          -3.665177583694458,
          -2.19781756401062,
          10.466256141662598,
          9.012470245361328,
          -2.720460891723633,
          16.981473922729492,
          -0.5891100168228149,
          8.02682113647461,
          11.023492813110352,
          5.5657196044921875,
          15.241085052490234,
          8.791059494018555,
          5.2062907218933105,
          2.7795073986053467,
          1.34951651096344,
          6.6442999839782715,
          15.79878044128418,
          5.088682174682617,
          6.132078170776367,
          14.143219947814941,
          9.923254013061523,
          3.0105607509613037,
          0.532336950302124,
          16.544727325439453,
          -4.075927734375,
          -27.024930953979492,
          4.763323783874512,
          9.680171012878418,
          -9.090474128723145,
          9.225273132324219,
          -2.8331055641174316,
          -11.637825012207031,
          13.377790451049805,
          -12.646089553833008,
          -21.115732192993164,
          10.150976181030273,
          -22.878559112548828,
          -12.807160377502441,
          -8.017627716064453,
          -4.6146063804626465,
          -1.9565845727920532,
          9.61771011352539,
          -7.437167167663574,
          -4.344918727874756,
          14.340400695800781,
          3.528303384780884,
          5.993496894836426,
          2.0976884365081787,
          -8.407419204711914,
          -14.125714302062988,
          2.516836643218994,
          -3.683001756668091,
          15.685785293579102,
          -18.648874282836914,
          6.368870258331299,
          13.800827026367188,
          -27.388587951660156,
          7.787867069244385,
          7.21051549911499,
          -3.0376334190368652,
          -8.005021095275879,
          -3.487056255340576,
          -2.4839415550231934,
          -25.812131881713867,
          1.5973079204559326,
          10.362980842590332,
          -6.515252113342285,
          -22.30866050720215,
          -13.770759582519531,
          10.101081848144531,
          8.961312294006348,
          -17.417381286621094,
          5.647989273071289,
          -30.39917755126953,
          -4.042333126068115,
          -12.317628860473633,
          0.532270610332489,
          -21.293550491333008,
          -4.1276984214782715,
          6.029987812042236,
          8.61451530456543,
          -5.090598106384277,
          -19.28658103942871,
          -12.061827659606934,
          9.776862144470215,
          -9.973285675048828,
          5.816318035125732,
          -36.55550003051758,
          -23.452062606811523,
          -11.265961647033691,
          -35.62897491455078,
          -0.2368411123752594,
          -40.29090881347656,
          -25.138811111450195,
          -23.217761993408203,
          -41.57857131958008,
          -14.991395950317383,
          4.3658976554870605,
          -22.584339141845703,
          -12.930842399597168,
          5.3478169441223145,
          -12.424696922302246,
          14.063544273376465,
          -16.582603454589844,
          -30.141481399536133,
          -18.08202362060547,
          -30.980281829833984,
          -28.992456436157227,
          -2.6728427410125732,
          -15.007392883300781,
          -4.4848809242248535,
          -15.96850872039795,
          -3.3940398693084717,
          -19.313276290893555,
          -8.678775787353516,
          -14.0044527053833,
          -7.951702117919922,
          12.511695861816406,
          -28.39560317993164,
          -7.485342502593994,
          -0.849478542804718,
          -31.04618263244629,
          -32.302425384521484,
          -9.940166473388672,
          -25.47830581665039,
          -22.283435821533203,
          -24.93250274658203,
          -11.5379638671875,
          -29.219289779663086,
          -34.49981689453125,
          -13.536386489868164,
          -15.18248462677002,
          -15.08984088897705,
          -16.299591064453125,
          -29.793434143066406,
          -18.21385383605957,
          -6.919870853424072,
          -39.40775680541992,
          -41.85725021362305,
          -28.129974365234375,
          -34.995059967041016,
          0.6996053457260132,
          3.3278372287750244,
          -20.547739028930664,
          -28.6787166595459,
          -29.540760040283203,
          -16.549274444580078,
          -2.971132278442383,
          -9.490678787231445,
          -15.507017135620117,
          -18.599153518676758,
          -41.59867858886719,
          -25.46892738342285,
          -1.6598188877105713,
          -32.749244689941406,
          -37.68347930908203,
          -32.582401275634766,
          -25.7419490814209,
          -30.333303451538086,
          -17.86412811279297,
          -40.014739990234375,
          -20.767623901367188,
          -23.316505432128906,
          -40.459957122802734,
          -37.27815628051758,
          -7.861035346984863,
          -12.011564254760742,
          -5.973088264465332,
          -37.0735969543457,
          -28.75040054321289,
          -23.556411743164062,
          -8.408281326293945,
          -32.900577545166016,
          -14.880987167358398,
          -28.272314071655273,
          -18.636886596679688,
          -18.223575592041016,
          -32.284549713134766,
          -37.20527648925781,
          -7.933261871337891,
          -40.50006103515625,
          -24.02474594116211,
          -38.11471939086914,
          -24.023168563842773,
          -10.973722457885742,
          -26.483091354370117,
          -30.6674861907959,
          -38.007991790771484,
          -22.651138305664062,
          -37.0889892578125,
          -21.313323974609375,
          -23.336973190307617,
          -34.362220764160156,
          -22.755626678466797,
          -7.509310722351074,
          -38.070289611816406,
          -16.84413719177246,
          -19.92593002319336,
          -28.519859313964844,
          -3.4809253215789795,
          -27.217086791992188,
          -24.970752716064453,
          -19.892574310302734,
          -29.295509338378906,
          -41.839202880859375,
          -36.92139434814453,
          -35.67832565307617,
          -17.779144287109375,
          -27.309114456176758,
          -38.900020599365234,
          -31.418750762939453,
          -17.048677444458008,
          -24.5742244720459,
          -37.93844985961914,
          -38.96211624145508,
          -40.66600036621094,
          -16.02767562866211,
          -36.5032844543457,
          -18.141008377075195,
          -31.756338119506836,
          -39.08049774169922,
          -34.169185638427734,
          -9.214601516723633,
          -39.48807907104492,
          -6.790193557739258,
          -32.8270263671875,
          -39.785396575927734,
          -36.541988372802734,
          -31.292896270751953,
          -37.06093978881836,
          -19.880285263061523,
          -34.36954116821289,
          -36.60830307006836,
          -33.660789489746094,
          -14.387811660766602,
          -36.19641876220703,
          -21.92901611328125,
          -38.73324203491211,
          -39.42925262451172,
          -24.404502868652344,
          -31.15483283996582,
          -35.32617950439453,
          -25.15546417236328,
          -31.19727897644043,
          -21.795875549316406,
          -31.39634132385254,
          -16.060224533081055,
          -7.95768928527832,
          -25.90712547302246,
          -14.89801025390625,
          -15.654346466064453,
          -21.29705047607422,
          -39.52907180786133,
          -27.82906150817871,
          -37.6118278503418,
          -28.716876983642578,
          -33.45130920410156,
          -9.414674758911133,
          -14.02535343170166,
          -30.088449478149414,
          -10.778521537780762,
          -22.278507232666016,
          -31.969057083129883,
          -38.35654067993164
         ],
         "y": [
          -1.2845304012298584,
          -1.1044210195541382,
          -1.2097477912902832,
          -1.3115791082382202,
          -1.4775758981704712,
          -1.5220043659210205,
          -1.5500049591064453,
          -1.0977624654769897,
          -1.536577582359314,
          -1.1383106708526611,
          -1.1590547561645508,
          -1.4272514581680298,
          -0.9137582182884216,
          -1.1874555349349976,
          -1.6473329067230225,
          -0.9298871159553528,
          -1.272539734840393,
          -1.678088665008545,
          -1.0758949518203735,
          -0.8438084721565247,
          -0.8606696724891663,
          -1.4464715719223022,
          -1.4699820280075073,
          -1.542891025543213,
          -1.1393847465515137,
          -1.1807887554168701,
          -0.9237936735153198,
          -1.3505345582962036,
          -1.1529289484024048,
          -1.5553767681121826,
          -1.4920189380645752,
          -1.8023375272750854,
          -0.8796868324279785,
          -1.1926277875900269,
          -0.8516639471054077,
          -1.1675716638565063,
          -0.8739741444587708,
          -0.7303439974784851,
          -1.2054028511047363,
          -1.5741357803344727,
          -1.3245019912719727,
          -0.9714080095291138,
          -1.1214888095855713,
          -0.8804292678833008,
          -1.1769156455993652,
          -1.3603105545043945,
          -1.3250128030776978,
          -0.7338289618492126,
          -0.4514096975326538,
          -1.3252261877059937,
          -1.550075650215149,
          -1.2238481044769287,
          -0.7987672090530396,
          -0.9418298602104187,
          -1.1515843868255615,
          -0.8650792241096497,
          -0.7299217581748962,
          -0.8339449167251587,
          -1.0529528856277466,
          -0.8301690220832825,
          -0.30272892117500305,
          -0.8784498572349548,
          -0.9843007922172546,
          -1.2876027822494507,
          -0.5629905462265015,
          -0.9144748449325562,
          -0.17690014839172363,
          -0.777515172958374,
          -1.1204725503921509,
          -0.12441351264715195,
          0.05089551582932472,
          -1.1852285861968994,
          -0.2552105188369751,
          -0.9113250970840454,
          -1.0224217176437378,
          -0.8644452691078186,
          -1.3714293241500854,
          -0.8885684609413147,
          -0.22061805427074432,
          -0.5143410563468933,
          -1.1226886510849,
          -0.23954740166664124,
          -0.11538535356521606,
          -0.7332904934883118,
          -0.8177275657653809,
          0.15606440603733063,
          -0.4191063642501831,
          0.0649842694401741,
          0.2125096321105957,
          -0.4665070176124573,
          -0.2079690843820572,
          0.17790114879608154,
          0.14029915630817413,
          0.13569276034832,
          -0.08461130410432816,
          0.06998058408498764,
          0.21391335129737854,
          -0.5624380707740784,
          0.1263347715139389,
          0.8092471361160278,
          -0.2550122141838074,
          0.6160874962806702,
          -0.5823422074317932,
          0.2615988552570343,
          -0.6187009215354919,
          -0.6940742135047913,
          0.6982060074806213,
          0.33604633808135986,
          -0.13921251893043518,
          -0.9791839122772217,
          0.6793702244758606,
          -0.36795100569725037,
          -0.4557306468486786,
          -0.8292610049247742,
          0.054969772696495056,
          0.8786118030548096,
          0.4317642152309418,
          1.3453916311264038,
          -0.5612504482269287,
          -0.3236602544784546,
          1.204993486404419,
          0.9753128886222839,
          0.8769512176513672,
          -0.40031296014785767,
          -0.4814516603946686,
          0.8477494120597839,
          1.1011308431625366,
          1.1412913799285889,
          -0.5276991724967957,
          0.8322018384933472,
          0.033512163907289505,
          0.7233356237411499,
          -0.6690465211868286,
          0.1212344542145729,
          0.9850866794586182,
          0.2189004123210907,
          0.6051701903343201,
          -0.538448691368103,
          0.48720070719718933,
          1.0953866243362427,
          0.5989986062049866,
          0.47033247351646423,
          0.36995482444763184,
          0.11492583900690079,
          0.9156622886657715,
          1.1817705631256104,
          0.9964852929115295,
          0.49078693985939026,
          1.1225942373275757,
          0.41859111189842224,
          0.37921079993247986,
          0.6901190280914307,
          0.1825396567583084,
          0.6956593990325928,
          0.05068539083003998,
          1.1415225267410278,
          1.2040116786956787,
          0.7567012310028076,
          0.11427833884954453,
          0.6576957106590271,
          0.7636317014694214,
          0.5367237329483032,
          0.7154691219329834,
          1.4749469757080078,
          0.26653608679771423,
          0.845100462436676,
          0.30604249238967896,
          0.7157015204429626,
          0.7290117740631104,
          0.39415425062179565,
          0.5629749894142151,
          0.5307099223136902,
          1.3743791580200195,
          0.6439183950424194,
          0.36502450704574585,
          1.2560793161392212,
          0.8015340566635132,
          0.17264245450496674,
          1.6215237379074097,
          -1.6574076414108276,
          0.035206858068704605,
          1.15189790725708,
          0.7159315943717957,
          0.3393558859825134,
          0.46639788150787354,
          -0.41735175251960754,
          0.4179646968841553,
          -1.132952094078064,
          -1.3221473693847656,
          1.0990869998931885,
          -0.9531316161155701,
          -0.440015971660614,
          0.7496599555015564,
          0.8958559632301331,
          1.2342383861541748,
          1.3957785367965698,
          0.31839337944984436,
          0.8457388281822205,
          0.41499337553977966,
          0.4133637547492981,
          1.1582603454589844,
          0.8612496852874756,
          0.35584014654159546,
          0.32834741473197937,
          0.8814892768859863,
          0.38774871826171875,
          0.11234311759471893,
          0.021425891667604446,
          1.1425576210021973,
          1.0611306428909302,
          -1.95748770236969,
          1.31816565990448,
          0.9786666631698608,
          1.4383940696716309,
          0.39927080273628235,
          0.9673050045967102,
          0.1565386950969696,
          -0.3382885456085205,
          1.188193678855896,
          0.5896783471107483,
          -0.09242239594459534,
          -1.6782116889953613,
          -0.3286118507385254,
          0.46770620346069336,
          1.4189926385879517,
          -1.4039188623428345,
          0.6615699529647827,
          -0.384699285030365,
          0.9963841438293457,
          -0.18150627613067627,
          0.780612587928772,
          -0.8523720502853394,
          -0.08854008466005325,
          0.6839033961296082,
          1.324972152709961,
          0.697214663028717,
          0.11616767197847366,
          0.38414108753204346,
          0.8099792003631592,
          0.5443169474601746,
          1.2294247150421143,
          -0.161906436085701,
          -1.2204891443252563,
          -0.783076286315918,
          -0.4693126678466797,
          0.7403650879859924,
          -0.2420937418937683,
          -0.13535982370376587,
          -0.3807050287723541,
          -0.6287193298339844,
          -0.8610593676567078,
          0.8657287359237671,
          -0.2330377697944641,
          -0.47161829471588135,
          1.5200037956237793,
          0.0677836686372757,
          1.1702032089233398,
          0.05682648718357086,
          -1.5037728548049927,
          -0.6090165376663208,
          -0.5718859434127808,
          -0.8124560713768005,
          1.205605149269104,
          -1.3524848222732544,
          0.18854571878910065,
          -0.7783622145652771,
          1.222204327583313,
          -1.133238434791565,
          0.7370708584785461,
          -1.1853430271148682,
          0.8148177862167358,
          0.7725531458854675,
          -1.6684833765029907,
          -0.11407963931560516,
          0.747706949710846,
          -1.5624967813491821,
          -1.1305819749832153,
          -0.4869493246078491,
          -1.8408480882644653,
          -1.8806027173995972,
          -1.6814903020858765,
          -0.3317417800426483,
          -1.7580173015594482,
          -1.285888910293579,
          0.18195903301239014,
          0.28089848160743713,
          0.7175746560096741,
          -0.5279491543769836,
          -1.8096481561660767,
          -1.071627140045166,
          0.5768166780471802,
          -0.7908512949943542,
          -0.6645837426185608,
          -0.737470805644989,
          -0.7795730233192444,
          0.7752763032913208,
          0.834912121295929,
          -0.7967043519020081,
          -1.138878345489502,
          -2.1573407649993896,
          -0.5656899213790894,
          0.41989412903785706,
          0.19057157635688782,
          0.24979396164417267,
          -1.3953323364257812,
          -0.6350340247154236,
          -0.9379976987838745,
          0.5355291962623596,
          -0.5643910765647888,
          -0.1944376528263092,
          -1.3912404775619507,
          -0.19858106970787048,
          -0.14504019916057587,
          -0.2022865116596222,
          0.054785847663879395,
          -1.577276349067688,
          -0.6708042025566101,
          -0.7218911051750183,
          -0.008809177204966545,
          0.626646101474762,
          -0.7046623826026917,
          0.5738982558250427,
          -0.4502399265766144,
          0.0238652341067791,
          0.41979068517684937,
          -0.34195253252983093,
          -0.6467207074165344,
          -0.3688009977340698,
          -0.12860903143882751,
          -1.210076093673706,
          -0.8627024292945862,
          -0.3781210482120514,
          -1.3648171424865723,
          -0.4021076261997223,
          -0.5070006847381592,
          -1.271878957748413,
          -0.010340864770114422,
          -0.40683478116989136,
          -0.06322504580020905,
          -1.3961925506591797,
          -2.1792795658111572,
          -1.030570149421692,
          0.16234661638736725,
          -1.333292841911316,
          -0.7151941061019897,
          0.22652515769004822,
          -0.4274515211582184,
          -0.8988316655158997,
          0.8457155823707581,
          -0.9727036952972412,
          -1.037093162536621,
          -1.6973090171813965,
          -1.364091396331787,
          0.5312352180480957,
          -0.9951198697090149,
          -0.8629262447357178,
          -1.1314032077789307,
          -0.7987326383590698,
          -0.6636892557144165,
          0.12669332325458527,
          -1.2473922967910767,
          0.39978113770484924,
          -1.5546780824661255,
          0.05378999933600426,
          -2.352449655532837,
          -0.5656387209892273,
          -0.21374773979187012,
          -1.1780749559402466,
          -0.41531839966773987,
          -0.48827630281448364,
          -0.36982572078704834,
          -0.8784009218215942,
          0.05211421847343445,
          -1.575209617614746,
          -0.4591851234436035,
          -1.0696794986724854,
          -0.08223987370729446,
          -0.9972183704376221,
          0.5181818008422852,
          -0.12381599843502045,
          -0.9199082255363464,
          -0.6196039915084839,
          -1.6862260103225708,
          -0.23025350272655487,
          -0.12618878483772278,
          -0.3056578040122986,
          -1.1207501888275146,
          -1.1583607196807861,
          -0.6417088508605957,
          0.2927737534046173,
          -1.632887601852417,
          -0.956699550151825,
          0.018663888797163963,
          -1.8421576023101807,
          -0.722133457660675,
          -0.189079150557518,
          -0.7359036803245544,
          -0.9560226202011108,
          -0.4413098692893982,
          -1.2159277200698853,
          -0.00813403632491827,
          -0.1572253257036209,
          -1.6255367994308472,
          -1.240190029144287,
          -0.9176002740859985,
          0.11901431530714035,
          -0.07585769891738892,
          -0.25540226697921753,
          -0.5949167609214783,
          -0.538023829460144,
          -1.2679011821746826,
          -0.37821251153945923,
          -0.46667972207069397,
          -0.5539981722831726,
          0.12221137434244156,
          -1.6426185369491577,
          -0.9265177845954895,
          -0.40487658977508545
         ]
        }
       ],
       "layout": {
        "template": {
         "data": {
          "bar": [
           {
            "error_x": {
             "color": "#2a3f5f"
            },
            "error_y": {
             "color": "#2a3f5f"
            },
            "marker": {
             "line": {
              "color": "#E5ECF6",
              "width": 0.5
             },
             "pattern": {
              "fillmode": "overlay",
              "size": 10,
              "solidity": 0.2
             }
            },
            "type": "bar"
           }
          ],
          "barpolar": [
           {
            "marker": {
             "line": {
              "color": "#E5ECF6",
              "width": 0.5
             },
             "pattern": {
              "fillmode": "overlay",
              "size": 10,
              "solidity": 0.2
             }
            },
            "type": "barpolar"
           }
          ],
          "carpet": [
           {
            "aaxis": {
             "endlinecolor": "#2a3f5f",
             "gridcolor": "white",
             "linecolor": "white",
             "minorgridcolor": "white",
             "startlinecolor": "#2a3f5f"
            },
            "baxis": {
             "endlinecolor": "#2a3f5f",
             "gridcolor": "white",
             "linecolor": "white",
             "minorgridcolor": "white",
             "startlinecolor": "#2a3f5f"
            },
            "type": "carpet"
           }
          ],
          "choropleth": [
           {
            "colorbar": {
             "outlinewidth": 0,
             "ticks": ""
            },
            "type": "choropleth"
           }
          ],
          "contour": [
           {
            "colorbar": {
             "outlinewidth": 0,
             "ticks": ""
            },
            "colorscale": [
             [
              0,
              "#0d0887"
             ],
             [
              0.1111111111111111,
              "#46039f"
             ],
             [
              0.2222222222222222,
              "#7201a8"
             ],
             [
              0.3333333333333333,
              "#9c179e"
             ],
             [
              0.4444444444444444,
              "#bd3786"
             ],
             [
              0.5555555555555556,
              "#d8576b"
             ],
             [
              0.6666666666666666,
              "#ed7953"
             ],
             [
              0.7777777777777778,
              "#fb9f3a"
             ],
             [
              0.8888888888888888,
              "#fdca26"
             ],
             [
              1,
              "#f0f921"
             ]
            ],
            "type": "contour"
           }
          ],
          "contourcarpet": [
           {
            "colorbar": {
             "outlinewidth": 0,
             "ticks": ""
            },
            "type": "contourcarpet"
           }
          ],
          "heatmap": [
           {
            "colorbar": {
             "outlinewidth": 0,
             "ticks": ""
            },
            "colorscale": [
             [
              0,
              "#0d0887"
             ],
             [
              0.1111111111111111,
              "#46039f"
             ],
             [
              0.2222222222222222,
              "#7201a8"
             ],
             [
              0.3333333333333333,
              "#9c179e"
             ],
             [
              0.4444444444444444,
              "#bd3786"
             ],
             [
              0.5555555555555556,
              "#d8576b"
             ],
             [
              0.6666666666666666,
              "#ed7953"
             ],
             [
              0.7777777777777778,
              "#fb9f3a"
             ],
             [
              0.8888888888888888,
              "#fdca26"
             ],
             [
              1,
              "#f0f921"
             ]
            ],
            "type": "heatmap"
           }
          ],
          "heatmapgl": [
           {
            "colorbar": {
             "outlinewidth": 0,
             "ticks": ""
            },
            "colorscale": [
             [
              0,
              "#0d0887"
             ],
             [
              0.1111111111111111,
              "#46039f"
             ],
             [
              0.2222222222222222,
              "#7201a8"
             ],
             [
              0.3333333333333333,
              "#9c179e"
             ],
             [
              0.4444444444444444,
              "#bd3786"
             ],
             [
              0.5555555555555556,
              "#d8576b"
             ],
             [
              0.6666666666666666,
              "#ed7953"
             ],
             [
              0.7777777777777778,
              "#fb9f3a"
             ],
             [
              0.8888888888888888,
              "#fdca26"
             ],
             [
              1,
              "#f0f921"
             ]
            ],
            "type": "heatmapgl"
           }
          ],
          "histogram": [
           {
            "marker": {
             "pattern": {
              "fillmode": "overlay",
              "size": 10,
              "solidity": 0.2
             }
            },
            "type": "histogram"
           }
          ],
          "histogram2d": [
           {
            "colorbar": {
             "outlinewidth": 0,
             "ticks": ""
            },
            "colorscale": [
             [
              0,
              "#0d0887"
             ],
             [
              0.1111111111111111,
              "#46039f"
             ],
             [
              0.2222222222222222,
              "#7201a8"
             ],
             [
              0.3333333333333333,
              "#9c179e"
             ],
             [
              0.4444444444444444,
              "#bd3786"
             ],
             [
              0.5555555555555556,
              "#d8576b"
             ],
             [
              0.6666666666666666,
              "#ed7953"
             ],
             [
              0.7777777777777778,
              "#fb9f3a"
             ],
             [
              0.8888888888888888,
              "#fdca26"
             ],
             [
              1,
              "#f0f921"
             ]
            ],
            "type": "histogram2d"
           }
          ],
          "histogram2dcontour": [
           {
            "colorbar": {
             "outlinewidth": 0,
             "ticks": ""
            },
            "colorscale": [
             [
              0,
              "#0d0887"
             ],
             [
              0.1111111111111111,
              "#46039f"
             ],
             [
              0.2222222222222222,
              "#7201a8"
             ],
             [
              0.3333333333333333,
              "#9c179e"
             ],
             [
              0.4444444444444444,
              "#bd3786"
             ],
             [
              0.5555555555555556,
              "#d8576b"
             ],
             [
              0.6666666666666666,
              "#ed7953"
             ],
             [
              0.7777777777777778,
              "#fb9f3a"
             ],
             [
              0.8888888888888888,
              "#fdca26"
             ],
             [
              1,
              "#f0f921"
             ]
            ],
            "type": "histogram2dcontour"
           }
          ],
          "mesh3d": [
           {
            "colorbar": {
             "outlinewidth": 0,
             "ticks": ""
            },
            "type": "mesh3d"
           }
          ],
          "parcoords": [
           {
            "line": {
             "colorbar": {
              "outlinewidth": 0,
              "ticks": ""
             }
            },
            "type": "parcoords"
           }
          ],
          "pie": [
           {
            "automargin": true,
            "type": "pie"
           }
          ],
          "scatter": [
           {
            "fillpattern": {
             "fillmode": "overlay",
             "size": 10,
             "solidity": 0.2
            },
            "type": "scatter"
           }
          ],
          "scatter3d": [
           {
            "line": {
             "colorbar": {
              "outlinewidth": 0,
              "ticks": ""
             }
            },
            "marker": {
             "colorbar": {
              "outlinewidth": 0,
              "ticks": ""
             }
            },
            "type": "scatter3d"
           }
          ],
          "scattercarpet": [
           {
            "marker": {
             "colorbar": {
              "outlinewidth": 0,
              "ticks": ""
             }
            },
            "type": "scattercarpet"
           }
          ],
          "scattergeo": [
           {
            "marker": {
             "colorbar": {
              "outlinewidth": 0,
              "ticks": ""
             }
            },
            "type": "scattergeo"
           }
          ],
          "scattergl": [
           {
            "marker": {
             "colorbar": {
              "outlinewidth": 0,
              "ticks": ""
             }
            },
            "type": "scattergl"
           }
          ],
          "scattermapbox": [
           {
            "marker": {
             "colorbar": {
              "outlinewidth": 0,
              "ticks": ""
             }
            },
            "type": "scattermapbox"
           }
          ],
          "scatterpolar": [
           {
            "marker": {
             "colorbar": {
              "outlinewidth": 0,
              "ticks": ""
             }
            },
            "type": "scatterpolar"
           }
          ],
          "scatterpolargl": [
           {
            "marker": {
             "colorbar": {
              "outlinewidth": 0,
              "ticks": ""
             }
            },
            "type": "scatterpolargl"
           }
          ],
          "scatterternary": [
           {
            "marker": {
             "colorbar": {
              "outlinewidth": 0,
              "ticks": ""
             }
            },
            "type": "scatterternary"
           }
          ],
          "surface": [
           {
            "colorbar": {
             "outlinewidth": 0,
             "ticks": ""
            },
            "colorscale": [
             [
              0,
              "#0d0887"
             ],
             [
              0.1111111111111111,
              "#46039f"
             ],
             [
              0.2222222222222222,
              "#7201a8"
             ],
             [
              0.3333333333333333,
              "#9c179e"
             ],
             [
              0.4444444444444444,
              "#bd3786"
             ],
             [
              0.5555555555555556,
              "#d8576b"
             ],
             [
              0.6666666666666666,
              "#ed7953"
             ],
             [
              0.7777777777777778,
              "#fb9f3a"
             ],
             [
              0.8888888888888888,
              "#fdca26"
             ],
             [
              1,
              "#f0f921"
             ]
            ],
            "type": "surface"
           }
          ],
          "table": [
           {
            "cells": {
             "fill": {
              "color": "#EBF0F8"
             },
             "line": {
              "color": "white"
             }
            },
            "header": {
             "fill": {
              "color": "#C8D4E3"
             },
             "line": {
              "color": "white"
             }
            },
            "type": "table"
           }
          ]
         },
         "layout": {
          "annotationdefaults": {
           "arrowcolor": "#2a3f5f",
           "arrowhead": 0,
           "arrowwidth": 1
          },
          "autotypenumbers": "strict",
          "coloraxis": {
           "colorbar": {
            "outlinewidth": 0,
            "ticks": ""
           }
          },
          "colorscale": {
           "diverging": [
            [
             0,
             "#8e0152"
            ],
            [
             0.1,
             "#c51b7d"
            ],
            [
             0.2,
             "#de77ae"
            ],
            [
             0.3,
             "#f1b6da"
            ],
            [
             0.4,
             "#fde0ef"
            ],
            [
             0.5,
             "#f7f7f7"
            ],
            [
             0.6,
             "#e6f5d0"
            ],
            [
             0.7,
             "#b8e186"
            ],
            [
             0.8,
             "#7fbc41"
            ],
            [
             0.9,
             "#4d9221"
            ],
            [
             1,
             "#276419"
            ]
           ],
           "sequential": [
            [
             0,
             "#0d0887"
            ],
            [
             0.1111111111111111,
             "#46039f"
            ],
            [
             0.2222222222222222,
             "#7201a8"
            ],
            [
             0.3333333333333333,
             "#9c179e"
            ],
            [
             0.4444444444444444,
             "#bd3786"
            ],
            [
             0.5555555555555556,
             "#d8576b"
            ],
            [
             0.6666666666666666,
             "#ed7953"
            ],
            [
             0.7777777777777778,
             "#fb9f3a"
            ],
            [
             0.8888888888888888,
             "#fdca26"
            ],
            [
             1,
             "#f0f921"
            ]
           ],
           "sequentialminus": [
            [
             0,
             "#0d0887"
            ],
            [
             0.1111111111111111,
             "#46039f"
            ],
            [
             0.2222222222222222,
             "#7201a8"
            ],
            [
             0.3333333333333333,
             "#9c179e"
            ],
            [
             0.4444444444444444,
             "#bd3786"
            ],
            [
             0.5555555555555556,
             "#d8576b"
            ],
            [
             0.6666666666666666,
             "#ed7953"
            ],
            [
             0.7777777777777778,
             "#fb9f3a"
            ],
            [
             0.8888888888888888,
             "#fdca26"
            ],
            [
             1,
             "#f0f921"
            ]
           ]
          },
          "colorway": [
           "#636efa",
           "#EF553B",
           "#00cc96",
           "#ab63fa",
           "#FFA15A",
           "#19d3f3",
           "#FF6692",
           "#B6E880",
           "#FF97FF",
           "#FECB52"
          ],
          "font": {
           "color": "#2a3f5f"
          },
          "geo": {
           "bgcolor": "white",
           "lakecolor": "white",
           "landcolor": "#E5ECF6",
           "showlakes": true,
           "showland": true,
           "subunitcolor": "white"
          },
          "hoverlabel": {
           "align": "left"
          },
          "hovermode": "closest",
          "mapbox": {
           "style": "light"
          },
          "paper_bgcolor": "white",
          "plot_bgcolor": "#E5ECF6",
          "polar": {
           "angularaxis": {
            "gridcolor": "white",
            "linecolor": "white",
            "ticks": ""
           },
           "bgcolor": "#E5ECF6",
           "radialaxis": {
            "gridcolor": "white",
            "linecolor": "white",
            "ticks": ""
           }
          },
          "scene": {
           "xaxis": {
            "backgroundcolor": "#E5ECF6",
            "gridcolor": "white",
            "gridwidth": 2,
            "linecolor": "white",
            "showbackground": true,
            "ticks": "",
            "zerolinecolor": "white"
           },
           "yaxis": {
            "backgroundcolor": "#E5ECF6",
            "gridcolor": "white",
            "gridwidth": 2,
            "linecolor": "white",
            "showbackground": true,
            "ticks": "",
            "zerolinecolor": "white"
           },
           "zaxis": {
            "backgroundcolor": "#E5ECF6",
            "gridcolor": "white",
            "gridwidth": 2,
            "linecolor": "white",
            "showbackground": true,
            "ticks": "",
            "zerolinecolor": "white"
           }
          },
          "shapedefaults": {
           "line": {
            "color": "#2a3f5f"
           }
          },
          "ternary": {
           "aaxis": {
            "gridcolor": "white",
            "linecolor": "white",
            "ticks": ""
           },
           "baxis": {
            "gridcolor": "white",
            "linecolor": "white",
            "ticks": ""
           },
           "bgcolor": "#E5ECF6",
           "caxis": {
            "gridcolor": "white",
            "linecolor": "white",
            "ticks": ""
           }
          },
          "title": {
           "x": 0.05
          },
          "xaxis": {
           "automargin": true,
           "gridcolor": "white",
           "linecolor": "white",
           "ticks": "",
           "title": {
            "standoff": 15
           },
           "zerolinecolor": "white",
           "zerolinewidth": 2
          },
          "yaxis": {
           "automargin": true,
           "gridcolor": "white",
           "linecolor": "white",
           "ticks": "",
           "title": {
            "standoff": 15
           },
           "zerolinecolor": "white",
           "zerolinewidth": 2
          }
         }
        }
       }
      },
      "text/html": [
       "<div>                            <div id=\"3bbedd89-9a69-4963-ba6f-54a0643d60c7\" class=\"plotly-graph-div\" style=\"height:525px; width:100%;\"></div>            <script type=\"text/javascript\">                require([\"plotly\"], function(Plotly) {                    window.PLOTLYENV=window.PLOTLYENV || {};                                    if (document.getElementById(\"3bbedd89-9a69-4963-ba6f-54a0643d60c7\")) {                    Plotly.newPlot(                        \"3bbedd89-9a69-4963-ba6f-54a0643d60c7\",                        [{\"mode\":\"text\",\"text\":[\",\",\"the\",\"of\",\"and\",\".\",\"a\",\"to\",\"in\",\"his\",\"was\",\"he\",\"with\",\";\",\"that\",\"or\",\"it\",\"by\",\"on\",\"for\",\"as\",\"at\",\"this\",\"project\",\"had\",\"from\",\"which\",\"you\",\"but\",\"all\",\"not\",\"is\",\"gutenberg\\u2122\",\"be\",\"who\",\"their\",\"any\",\"ichabod\",\"were\",\"one\",\"have\",\"work\",\"him\",\"an\",\"\\u2019\",\"some\",\"are\",\"if\",\"s\",\"there\",\"upon\",\"they\",\"about\",\"old\",\"\\u201c\",\"been\",\"works\",\"\\u201d\",\"country\",\"up\",\"no\",\"other\",\"over\",\"gutenberg\",\"i\",\"its\",\"electronic\",\"like\",\"would\",\"van\",\"time\",\"little\",\"foundation\",\"most\",\"hollow\",\"her\",\"terms\",\"where\",\"may\",\"more\",\"--\",\"into\",\"now\",\"do\",\"out\",\"so\",\"than\",\"along\",\"such\",\"copyright\",\"forth\",\"!\",\"side\",\"might\",\")\",\"under\",\"them\",\"agreement\",\"(\",\"great\",\"then\",\"full\",\"these\",\"before\",\"air\",\"states\",\"when\",\"himself\",\"those\",\"without\",\"away\",\"head\",\"we\",\"every\",\"sleepy\",\"can\",\"license\",\"bridge\",\"too\",\"how\",\"still\",\"however\",\"only\",\"being\",\"donations\",\"must\",\"way\",\"whole\",\"tassel\",\"literary\",\"church\",\"brom\",\"road\",\"heard\",\"through\",\"brook\",\"just\",\"bones\",\"archive\",\"story\",\"horse\",\"neighborhood\",\"trees\",\"united\",\"among\",\"trademark\",\"heart\",\"dutch\",\"night\",\"man\",\":\",\"use\",\"part\",\"made\",\"mind\",\"copy\",\"school\",\"your\",\"many\",\"found\",\"set\",\"while\",\"access\",\"after\",\"name\",\"paragraph\",\"small\",\"very\",\"tree\",\"good\",\"make\",\"often\",\"steed\",\"new\",\"eyes\",\"black\",\"even\",\"schoolhouse\",\"refund\",\"against\",\"kind\",\"state\",\"behind\",\"place\",\"round\",\"always\",\"almost\",\"laws\",\"foot\",\"agree\",\"seen\",\"including\",\"two\",\"crane\",\"scene\",\"should\",\"has\",\"long\",\"end\",\"haunted\",\"will\",\"favorite\",\"law\",\"saddle\",\"could\",\"what\",\"gunpowder\",\"off\",\"hand\",\"received\",\"ripper\",\"white\",\"hans\",\"did\",\"half\",\"fee\",\"goblin\",\"thought\",\"schoolmaster\",\"cakes\",\"our\",\"within\",\"life\",\"whom\",\"evening\",\"though\",\"came\",\"tales\",\"see\",\"give\",\"certain\",\"ever\",\"master\",\"several\",\"carried\",\"high\",\"information\",\"day\",\"passed\",\"large\",\"days\",\"people\",\"associated\",\"much\",\"rich\",\"huge\",\"hessian\",\"section\",\"something\",\"rival\",\"therefore\",\"appearance\",\"ebooks\",\"door\",\"fearful\",\"u.s.\",\"down\",\"turned\",\"stood\",\"sound\",\"left\",\"own\",\"dark\",\"ghosts\",\"moment\",\"eye\",\"distributing\",\"ebook\",\"hero\",\"copies\",\"known\",\"help\",\"horseman\",\"having\",\"provide\",\"stream\",\"?\",\"fire\",\"wild\",\"person\",\"sometimes\",\"form\",\"told\",\"pedagogue\",\"hung\",\"ghost\",\"look\",\"water\",\"put\",\"called\",\"thus\",\"idea\",\"children\",\"wings\",\"late\",\"blue\",\"*\",\"turn\",\"rustic\",\"permission\",\"nature\",\"charge\",\"yet\",\"paid\",\"beheld\",\"distribute\",\"fine\",\"same\",\"rather\",\"broad\",\"fact\",\"path\",\"valley\",\"sides\",\"stories\",\"short\",\"far\",\"following\",\"neighboring\",\"hudson\",\"tax\",\"spectre\",\"began\",\"others\",\"ready\",\"hat\",\"looked\",\"given\",\"distribution\",\"partly\",\"spirit\",\"parts\",\"rider\",\"justice\",\"window\",\"another\",\"comply\",\"powers\",\"green\",\"hills\",\"land\",\"medium\",\"compliance\",\"taken\",\"gradually\",\"gave\",\"1.f.3\",\"using\",\"1.e.1\",\"free\",\"suddenly\",\"lady\",\"mission\",\"felt\",\"replacement\",\"located\",\"distant\",\"mounted\",\"winter\",\"farmhouse\",\"times\",\"rough\",\"distance\",\"indeed\",\"churchyard\",\"sunday\",\"opposite\",\"unfortunate\",\"midnight\",\"back\",\"laid\",\"headless\",\"entered\",\"world\",\"sky\",\"farmers\",\"nearly\",\"years\",\"according\",\"except\",\"companion\",\"together\",\"never\",\"beneath\",\"neck\",\"mere\",\"volunteers\",\"war\",\"whose\",\"region\",\"books\",\"money\",\"seemed\",\"true\",\"my\",\"tall\",\"she\",\"katrina\",\"each\",\"broke\",\"motion\",\"protected\",\"beset\",\"face\",\"galloping\",\"provided\",\"fields\",\"say\",\"sat\",\"psalm\",\"walk\",\"marvellous\",\"poor\",\"across\",\"hour\",\"right\",\"delight\",\"mixture\",\"limited\"],\"x\":[43.84078598022461,43.07704544067383,43.51253890991211,43.544857025146484,41.858551025390625,43.375282287597656,43.102622985839844,43.10635757446289,43.0233154296875,41.93037033081055,41.06223678588867,41.102291107177734,40.018001556396484,42.28636932373047,39.790435791015625,38.79170227050781,41.608665466308594,39.649383544921875,40.52719497680664,39.16529846191406,39.565208435058594,42.13876724243164,42.30060577392578,40.42240524291992,36.10635757446289,37.553955078125,39.10527038574219,34.30670928955078,36.28295135498047,38.95097351074219,38.85768508911133,39.23155975341797,39.78107833862305,37.410972595214844,30.830219268798828,36.74228286743164,31.853986740112305,33.54824447631836,34.982173919677734,39.83363342285156,34.935882568359375,33.84199905395508,38.38009262084961,40.1266975402832,37.3465461730957,38.47249221801758,34.31344985961914,34.28441619873047,28.072206497192383,39.43372344970703,40.31107711791992,37.75508117675781,33.38004684448242,31.764480590820312,36.497074127197266,30.920881271362305,34.17518615722656,29.188154220581055,32.61534881591797,32.59856033325195,26.2147274017334,34.84919738769531,31.831151962280273,33.48087692260742,27.55915641784668,27.818159103393555,25.432865142822266,32.19379806518555,35.773582458496094,24.094276428222656,22.528135299682617,33.258689880371094,24.99813461303711,34.989620208740234,28.43600082397461,28.139564514160156,33.91111373901367,28.637208938598633,24.624086380004883,29.08985137939453,32.3262939453125,21.764122009277344,21.105859756469727,29.754751205444336,30.15479850769043,21.63699722290039,23.83669662475586,20.83637237548828,19.599821090698242,28.87401580810547,21.941041946411133,19.955501556396484,21.642906188964844,22.204980850219727,22.896270751953125,23.273927688598633,20.9962100982666,27.21363639831543,20.464101791381836,7.977302551269531,25.594833374023438,15.239343643188477,26.533674240112305,8.798492431640625,24.99978256225586,25.314287185668945,13.507526397705078,16.34178924560547,25.362390518188477,28.901220321655273,4.066963195800781,28.59140968322754,23.276554107666016,29.656620025634766,23.20862579345703,16.615358352661133,14.333902359008789,4.663620471954346,26.038516998291016,22.48223304748535,10.546765327453613,15.591479301452637,0.2887902557849884,28.16299819946289,24.208162307739258,14.72537612915039,15.472493171691895,14.241902351379395,23.233251571655273,12.11742877960205,23.734838485717773,2.4356849193573,25.521427154541016,17.15064239501953,15.982926368713379,15.966198921203613,13.286974906921387,26.68104362487793,17.470956802368164,4.6494140625,17.4526309967041,6.341896057128906,18.051433563232422,20.444984436035156,-2.5329277515411377,-3.84358811378479,16.322799682617188,16.865276336669922,3.394561529159546,-2.2137486934661865,14.608464241027832,9.733223915100098,5.985586643218994,4.92592191696167,-3.665177583694458,-2.19781756401062,10.466256141662598,9.012470245361328,-2.720460891723633,16.981473922729492,-0.5891100168228149,8.02682113647461,11.023492813110352,5.5657196044921875,15.241085052490234,8.791059494018555,5.2062907218933105,2.7795073986053467,1.34951651096344,6.6442999839782715,15.79878044128418,5.088682174682617,6.132078170776367,14.143219947814941,9.923254013061523,3.0105607509613037,0.532336950302124,16.544727325439453,-4.075927734375,-27.024930953979492,4.763323783874512,9.680171012878418,-9.090474128723145,9.225273132324219,-2.8331055641174316,-11.637825012207031,13.377790451049805,-12.646089553833008,-21.115732192993164,10.150976181030273,-22.878559112548828,-12.807160377502441,-8.017627716064453,-4.6146063804626465,-1.9565845727920532,9.61771011352539,-7.437167167663574,-4.344918727874756,14.340400695800781,3.528303384780884,5.993496894836426,2.0976884365081787,-8.407419204711914,-14.125714302062988,2.516836643218994,-3.683001756668091,15.685785293579102,-18.648874282836914,6.368870258331299,13.800827026367188,-27.388587951660156,7.787867069244385,7.21051549911499,-3.0376334190368652,-8.005021095275879,-3.487056255340576,-2.4839415550231934,-25.812131881713867,1.5973079204559326,10.362980842590332,-6.515252113342285,-22.30866050720215,-13.770759582519531,10.101081848144531,8.961312294006348,-17.417381286621094,5.647989273071289,-30.39917755126953,-4.042333126068115,-12.317628860473633,0.532270610332489,-21.293550491333008,-4.1276984214782715,6.029987812042236,8.61451530456543,-5.090598106384277,-19.28658103942871,-12.061827659606934,9.776862144470215,-9.973285675048828,5.816318035125732,-36.55550003051758,-23.452062606811523,-11.265961647033691,-35.62897491455078,-0.2368411123752594,-40.29090881347656,-25.138811111450195,-23.217761993408203,-41.57857131958008,-14.991395950317383,4.3658976554870605,-22.584339141845703,-12.930842399597168,5.3478169441223145,-12.424696922302246,14.063544273376465,-16.582603454589844,-30.141481399536133,-18.08202362060547,-30.980281829833984,-28.992456436157227,-2.6728427410125732,-15.007392883300781,-4.4848809242248535,-15.96850872039795,-3.3940398693084717,-19.313276290893555,-8.678775787353516,-14.0044527053833,-7.951702117919922,12.511695861816406,-28.39560317993164,-7.485342502593994,-0.849478542804718,-31.04618263244629,-32.302425384521484,-9.940166473388672,-25.47830581665039,-22.283435821533203,-24.93250274658203,-11.5379638671875,-29.219289779663086,-34.49981689453125,-13.536386489868164,-15.18248462677002,-15.08984088897705,-16.299591064453125,-29.793434143066406,-18.21385383605957,-6.919870853424072,-39.40775680541992,-41.85725021362305,-28.129974365234375,-34.995059967041016,0.6996053457260132,3.3278372287750244,-20.547739028930664,-28.6787166595459,-29.540760040283203,-16.549274444580078,-2.971132278442383,-9.490678787231445,-15.507017135620117,-18.599153518676758,-41.59867858886719,-25.46892738342285,-1.6598188877105713,-32.749244689941406,-37.68347930908203,-32.582401275634766,-25.7419490814209,-30.333303451538086,-17.86412811279297,-40.014739990234375,-20.767623901367188,-23.316505432128906,-40.459957122802734,-37.27815628051758,-7.861035346984863,-12.011564254760742,-5.973088264465332,-37.0735969543457,-28.75040054321289,-23.556411743164062,-8.408281326293945,-32.900577545166016,-14.880987167358398,-28.272314071655273,-18.636886596679688,-18.223575592041016,-32.284549713134766,-37.20527648925781,-7.933261871337891,-40.50006103515625,-24.02474594116211,-38.11471939086914,-24.023168563842773,-10.973722457885742,-26.483091354370117,-30.6674861907959,-38.007991790771484,-22.651138305664062,-37.0889892578125,-21.313323974609375,-23.336973190307617,-34.362220764160156,-22.755626678466797,-7.509310722351074,-38.070289611816406,-16.84413719177246,-19.92593002319336,-28.519859313964844,-3.4809253215789795,-27.217086791992188,-24.970752716064453,-19.892574310302734,-29.295509338378906,-41.839202880859375,-36.92139434814453,-35.67832565307617,-17.779144287109375,-27.309114456176758,-38.900020599365234,-31.418750762939453,-17.048677444458008,-24.5742244720459,-37.93844985961914,-38.96211624145508,-40.66600036621094,-16.02767562866211,-36.5032844543457,-18.141008377075195,-31.756338119506836,-39.08049774169922,-34.169185638427734,-9.214601516723633,-39.48807907104492,-6.790193557739258,-32.8270263671875,-39.785396575927734,-36.541988372802734,-31.292896270751953,-37.06093978881836,-19.880285263061523,-34.36954116821289,-36.60830307006836,-33.660789489746094,-14.387811660766602,-36.19641876220703,-21.92901611328125,-38.73324203491211,-39.42925262451172,-24.404502868652344,-31.15483283996582,-35.32617950439453,-25.15546417236328,-31.19727897644043,-21.795875549316406,-31.39634132385254,-16.060224533081055,-7.95768928527832,-25.90712547302246,-14.89801025390625,-15.654346466064453,-21.29705047607422,-39.52907180786133,-27.82906150817871,-37.6118278503418,-28.716876983642578,-33.45130920410156,-9.414674758911133,-14.02535343170166,-30.088449478149414,-10.778521537780762,-22.278507232666016,-31.969057083129883,-38.35654067993164],\"y\":[-1.2845304012298584,-1.1044210195541382,-1.2097477912902832,-1.3115791082382202,-1.4775758981704712,-1.5220043659210205,-1.5500049591064453,-1.0977624654769897,-1.536577582359314,-1.1383106708526611,-1.1590547561645508,-1.4272514581680298,-0.9137582182884216,-1.1874555349349976,-1.6473329067230225,-0.9298871159553528,-1.272539734840393,-1.678088665008545,-1.0758949518203735,-0.8438084721565247,-0.8606696724891663,-1.4464715719223022,-1.4699820280075073,-1.542891025543213,-1.1393847465515137,-1.1807887554168701,-0.9237936735153198,-1.3505345582962036,-1.1529289484024048,-1.5553767681121826,-1.4920189380645752,-1.8023375272750854,-0.8796868324279785,-1.1926277875900269,-0.8516639471054077,-1.1675716638565063,-0.8739741444587708,-0.7303439974784851,-1.2054028511047363,-1.5741357803344727,-1.3245019912719727,-0.9714080095291138,-1.1214888095855713,-0.8804292678833008,-1.1769156455993652,-1.3603105545043945,-1.3250128030776978,-0.7338289618492126,-0.4514096975326538,-1.3252261877059937,-1.550075650215149,-1.2238481044769287,-0.7987672090530396,-0.9418298602104187,-1.1515843868255615,-0.8650792241096497,-0.7299217581748962,-0.8339449167251587,-1.0529528856277466,-0.8301690220832825,-0.30272892117500305,-0.8784498572349548,-0.9843007922172546,-1.2876027822494507,-0.5629905462265015,-0.9144748449325562,-0.17690014839172363,-0.777515172958374,-1.1204725503921509,-0.12441351264715195,0.05089551582932472,-1.1852285861968994,-0.2552105188369751,-0.9113250970840454,-1.0224217176437378,-0.8644452691078186,-1.3714293241500854,-0.8885684609413147,-0.22061805427074432,-0.5143410563468933,-1.1226886510849,-0.23954740166664124,-0.11538535356521606,-0.7332904934883118,-0.8177275657653809,0.15606440603733063,-0.4191063642501831,0.0649842694401741,0.2125096321105957,-0.4665070176124573,-0.2079690843820572,0.17790114879608154,0.14029915630817413,0.13569276034832,-0.08461130410432816,0.06998058408498764,0.21391335129737854,-0.5624380707740784,0.1263347715139389,0.8092471361160278,-0.2550122141838074,0.6160874962806702,-0.5823422074317932,0.2615988552570343,-0.6187009215354919,-0.6940742135047913,0.6982060074806213,0.33604633808135986,-0.13921251893043518,-0.9791839122772217,0.6793702244758606,-0.36795100569725037,-0.4557306468486786,-0.8292610049247742,0.054969772696495056,0.8786118030548096,0.4317642152309418,1.3453916311264038,-0.5612504482269287,-0.3236602544784546,1.204993486404419,0.9753128886222839,0.8769512176513672,-0.40031296014785767,-0.4814516603946686,0.8477494120597839,1.1011308431625366,1.1412913799285889,-0.5276991724967957,0.8322018384933472,0.033512163907289505,0.7233356237411499,-0.6690465211868286,0.1212344542145729,0.9850866794586182,0.2189004123210907,0.6051701903343201,-0.538448691368103,0.48720070719718933,1.0953866243362427,0.5989986062049866,0.47033247351646423,0.36995482444763184,0.11492583900690079,0.9156622886657715,1.1817705631256104,0.9964852929115295,0.49078693985939026,1.1225942373275757,0.41859111189842224,0.37921079993247986,0.6901190280914307,0.1825396567583084,0.6956593990325928,0.05068539083003998,1.1415225267410278,1.2040116786956787,0.7567012310028076,0.11427833884954453,0.6576957106590271,0.7636317014694214,0.5367237329483032,0.7154691219329834,1.4749469757080078,0.26653608679771423,0.845100462436676,0.30604249238967896,0.7157015204429626,0.7290117740631104,0.39415425062179565,0.5629749894142151,0.5307099223136902,1.3743791580200195,0.6439183950424194,0.36502450704574585,1.2560793161392212,0.8015340566635132,0.17264245450496674,1.6215237379074097,-1.6574076414108276,0.035206858068704605,1.15189790725708,0.7159315943717957,0.3393558859825134,0.46639788150787354,-0.41735175251960754,0.4179646968841553,-1.132952094078064,-1.3221473693847656,1.0990869998931885,-0.9531316161155701,-0.440015971660614,0.7496599555015564,0.8958559632301331,1.2342383861541748,1.3957785367965698,0.31839337944984436,0.8457388281822205,0.41499337553977966,0.4133637547492981,1.1582603454589844,0.8612496852874756,0.35584014654159546,0.32834741473197937,0.8814892768859863,0.38774871826171875,0.11234311759471893,0.021425891667604446,1.1425576210021973,1.0611306428909302,-1.95748770236969,1.31816565990448,0.9786666631698608,1.4383940696716309,0.39927080273628235,0.9673050045967102,0.1565386950969696,-0.3382885456085205,1.188193678855896,0.5896783471107483,-0.09242239594459534,-1.6782116889953613,-0.3286118507385254,0.46770620346069336,1.4189926385879517,-1.4039188623428345,0.6615699529647827,-0.384699285030365,0.9963841438293457,-0.18150627613067627,0.780612587928772,-0.8523720502853394,-0.08854008466005325,0.6839033961296082,1.324972152709961,0.697214663028717,0.11616767197847366,0.38414108753204346,0.8099792003631592,0.5443169474601746,1.2294247150421143,-0.161906436085701,-1.2204891443252563,-0.783076286315918,-0.4693126678466797,0.7403650879859924,-0.2420937418937683,-0.13535982370376587,-0.3807050287723541,-0.6287193298339844,-0.8610593676567078,0.8657287359237671,-0.2330377697944641,-0.47161829471588135,1.5200037956237793,0.0677836686372757,1.1702032089233398,0.05682648718357086,-1.5037728548049927,-0.6090165376663208,-0.5718859434127808,-0.8124560713768005,1.205605149269104,-1.3524848222732544,0.18854571878910065,-0.7783622145652771,1.222204327583313,-1.133238434791565,0.7370708584785461,-1.1853430271148682,0.8148177862167358,0.7725531458854675,-1.6684833765029907,-0.11407963931560516,0.747706949710846,-1.5624967813491821,-1.1305819749832153,-0.4869493246078491,-1.8408480882644653,-1.8806027173995972,-1.6814903020858765,-0.3317417800426483,-1.7580173015594482,-1.285888910293579,0.18195903301239014,0.28089848160743713,0.7175746560096741,-0.5279491543769836,-1.8096481561660767,-1.071627140045166,0.5768166780471802,-0.7908512949943542,-0.6645837426185608,-0.737470805644989,-0.7795730233192444,0.7752763032913208,0.834912121295929,-0.7967043519020081,-1.138878345489502,-2.1573407649993896,-0.5656899213790894,0.41989412903785706,0.19057157635688782,0.24979396164417267,-1.3953323364257812,-0.6350340247154236,-0.9379976987838745,0.5355291962623596,-0.5643910765647888,-0.1944376528263092,-1.3912404775619507,-0.19858106970787048,-0.14504019916057587,-0.2022865116596222,0.054785847663879395,-1.577276349067688,-0.6708042025566101,-0.7218911051750183,-0.008809177204966545,0.626646101474762,-0.7046623826026917,0.5738982558250427,-0.4502399265766144,0.0238652341067791,0.41979068517684937,-0.34195253252983093,-0.6467207074165344,-0.3688009977340698,-0.12860903143882751,-1.210076093673706,-0.8627024292945862,-0.3781210482120514,-1.3648171424865723,-0.4021076261997223,-0.5070006847381592,-1.271878957748413,-0.010340864770114422,-0.40683478116989136,-0.06322504580020905,-1.3961925506591797,-2.1792795658111572,-1.030570149421692,0.16234661638736725,-1.333292841911316,-0.7151941061019897,0.22652515769004822,-0.4274515211582184,-0.8988316655158997,0.8457155823707581,-0.9727036952972412,-1.037093162536621,-1.6973090171813965,-1.364091396331787,0.5312352180480957,-0.9951198697090149,-0.8629262447357178,-1.1314032077789307,-0.7987326383590698,-0.6636892557144165,0.12669332325458527,-1.2473922967910767,0.39978113770484924,-1.5546780824661255,0.05378999933600426,-2.352449655532837,-0.5656387209892273,-0.21374773979187012,-1.1780749559402466,-0.41531839966773987,-0.48827630281448364,-0.36982572078704834,-0.8784009218215942,0.05211421847343445,-1.575209617614746,-0.4591851234436035,-1.0696794986724854,-0.08223987370729446,-0.9972183704376221,0.5181818008422852,-0.12381599843502045,-0.9199082255363464,-0.6196039915084839,-1.6862260103225708,-0.23025350272655487,-0.12618878483772278,-0.3056578040122986,-1.1207501888275146,-1.1583607196807861,-0.6417088508605957,0.2927737534046173,-1.632887601852417,-0.956699550151825,0.018663888797163963,-1.8421576023101807,-0.722133457660675,-0.189079150557518,-0.7359036803245544,-0.9560226202011108,-0.4413098692893982,-1.2159277200698853,-0.00813403632491827,-0.1572253257036209,-1.6255367994308472,-1.240190029144287,-0.9176002740859985,0.11901431530714035,-0.07585769891738892,-0.25540226697921753,-0.5949167609214783,-0.538023829460144,-1.2679011821746826,-0.37821251153945923,-0.46667972207069397,-0.5539981722831726,0.12221137434244156,-1.6426185369491577,-0.9265177845954895,-0.40487658977508545],\"type\":\"scatter\"}],                        {\"template\":{\"data\":{\"barpolar\":[{\"marker\":{\"line\":{\"color\":\"#E5ECF6\",\"width\":0.5},\"pattern\":{\"fillmode\":\"overlay\",\"size\":10,\"solidity\":0.2}},\"type\":\"barpolar\"}],\"bar\":[{\"error_x\":{\"color\":\"#2a3f5f\"},\"error_y\":{\"color\":\"#2a3f5f\"},\"marker\":{\"line\":{\"color\":\"#E5ECF6\",\"width\":0.5},\"pattern\":{\"fillmode\":\"overlay\",\"size\":10,\"solidity\":0.2}},\"type\":\"bar\"}],\"carpet\":[{\"aaxis\":{\"endlinecolor\":\"#2a3f5f\",\"gridcolor\":\"white\",\"linecolor\":\"white\",\"minorgridcolor\":\"white\",\"startlinecolor\":\"#2a3f5f\"},\"baxis\":{\"endlinecolor\":\"#2a3f5f\",\"gridcolor\":\"white\",\"linecolor\":\"white\",\"minorgridcolor\":\"white\",\"startlinecolor\":\"#2a3f5f\"},\"type\":\"carpet\"}],\"choropleth\":[{\"colorbar\":{\"outlinewidth\":0,\"ticks\":\"\"},\"type\":\"choropleth\"}],\"contourcarpet\":[{\"colorbar\":{\"outlinewidth\":0,\"ticks\":\"\"},\"type\":\"contourcarpet\"}],\"contour\":[{\"colorbar\":{\"outlinewidth\":0,\"ticks\":\"\"},\"colorscale\":[[0.0,\"#0d0887\"],[0.1111111111111111,\"#46039f\"],[0.2222222222222222,\"#7201a8\"],[0.3333333333333333,\"#9c179e\"],[0.4444444444444444,\"#bd3786\"],[0.5555555555555556,\"#d8576b\"],[0.6666666666666666,\"#ed7953\"],[0.7777777777777778,\"#fb9f3a\"],[0.8888888888888888,\"#fdca26\"],[1.0,\"#f0f921\"]],\"type\":\"contour\"}],\"heatmapgl\":[{\"colorbar\":{\"outlinewidth\":0,\"ticks\":\"\"},\"colorscale\":[[0.0,\"#0d0887\"],[0.1111111111111111,\"#46039f\"],[0.2222222222222222,\"#7201a8\"],[0.3333333333333333,\"#9c179e\"],[0.4444444444444444,\"#bd3786\"],[0.5555555555555556,\"#d8576b\"],[0.6666666666666666,\"#ed7953\"],[0.7777777777777778,\"#fb9f3a\"],[0.8888888888888888,\"#fdca26\"],[1.0,\"#f0f921\"]],\"type\":\"heatmapgl\"}],\"heatmap\":[{\"colorbar\":{\"outlinewidth\":0,\"ticks\":\"\"},\"colorscale\":[[0.0,\"#0d0887\"],[0.1111111111111111,\"#46039f\"],[0.2222222222222222,\"#7201a8\"],[0.3333333333333333,\"#9c179e\"],[0.4444444444444444,\"#bd3786\"],[0.5555555555555556,\"#d8576b\"],[0.6666666666666666,\"#ed7953\"],[0.7777777777777778,\"#fb9f3a\"],[0.8888888888888888,\"#fdca26\"],[1.0,\"#f0f921\"]],\"type\":\"heatmap\"}],\"histogram2dcontour\":[{\"colorbar\":{\"outlinewidth\":0,\"ticks\":\"\"},\"colorscale\":[[0.0,\"#0d0887\"],[0.1111111111111111,\"#46039f\"],[0.2222222222222222,\"#7201a8\"],[0.3333333333333333,\"#9c179e\"],[0.4444444444444444,\"#bd3786\"],[0.5555555555555556,\"#d8576b\"],[0.6666666666666666,\"#ed7953\"],[0.7777777777777778,\"#fb9f3a\"],[0.8888888888888888,\"#fdca26\"],[1.0,\"#f0f921\"]],\"type\":\"histogram2dcontour\"}],\"histogram2d\":[{\"colorbar\":{\"outlinewidth\":0,\"ticks\":\"\"},\"colorscale\":[[0.0,\"#0d0887\"],[0.1111111111111111,\"#46039f\"],[0.2222222222222222,\"#7201a8\"],[0.3333333333333333,\"#9c179e\"],[0.4444444444444444,\"#bd3786\"],[0.5555555555555556,\"#d8576b\"],[0.6666666666666666,\"#ed7953\"],[0.7777777777777778,\"#fb9f3a\"],[0.8888888888888888,\"#fdca26\"],[1.0,\"#f0f921\"]],\"type\":\"histogram2d\"}],\"histogram\":[{\"marker\":{\"pattern\":{\"fillmode\":\"overlay\",\"size\":10,\"solidity\":0.2}},\"type\":\"histogram\"}],\"mesh3d\":[{\"colorbar\":{\"outlinewidth\":0,\"ticks\":\"\"},\"type\":\"mesh3d\"}],\"parcoords\":[{\"line\":{\"colorbar\":{\"outlinewidth\":0,\"ticks\":\"\"}},\"type\":\"parcoords\"}],\"pie\":[{\"automargin\":true,\"type\":\"pie\"}],\"scatter3d\":[{\"line\":{\"colorbar\":{\"outlinewidth\":0,\"ticks\":\"\"}},\"marker\":{\"colorbar\":{\"outlinewidth\":0,\"ticks\":\"\"}},\"type\":\"scatter3d\"}],\"scattercarpet\":[{\"marker\":{\"colorbar\":{\"outlinewidth\":0,\"ticks\":\"\"}},\"type\":\"scattercarpet\"}],\"scattergeo\":[{\"marker\":{\"colorbar\":{\"outlinewidth\":0,\"ticks\":\"\"}},\"type\":\"scattergeo\"}],\"scattergl\":[{\"marker\":{\"colorbar\":{\"outlinewidth\":0,\"ticks\":\"\"}},\"type\":\"scattergl\"}],\"scattermapbox\":[{\"marker\":{\"colorbar\":{\"outlinewidth\":0,\"ticks\":\"\"}},\"type\":\"scattermapbox\"}],\"scatterpolargl\":[{\"marker\":{\"colorbar\":{\"outlinewidth\":0,\"ticks\":\"\"}},\"type\":\"scatterpolargl\"}],\"scatterpolar\":[{\"marker\":{\"colorbar\":{\"outlinewidth\":0,\"ticks\":\"\"}},\"type\":\"scatterpolar\"}],\"scatter\":[{\"fillpattern\":{\"fillmode\":\"overlay\",\"size\":10,\"solidity\":0.2},\"type\":\"scatter\"}],\"scatterternary\":[{\"marker\":{\"colorbar\":{\"outlinewidth\":0,\"ticks\":\"\"}},\"type\":\"scatterternary\"}],\"surface\":[{\"colorbar\":{\"outlinewidth\":0,\"ticks\":\"\"},\"colorscale\":[[0.0,\"#0d0887\"],[0.1111111111111111,\"#46039f\"],[0.2222222222222222,\"#7201a8\"],[0.3333333333333333,\"#9c179e\"],[0.4444444444444444,\"#bd3786\"],[0.5555555555555556,\"#d8576b\"],[0.6666666666666666,\"#ed7953\"],[0.7777777777777778,\"#fb9f3a\"],[0.8888888888888888,\"#fdca26\"],[1.0,\"#f0f921\"]],\"type\":\"surface\"}],\"table\":[{\"cells\":{\"fill\":{\"color\":\"#EBF0F8\"},\"line\":{\"color\":\"white\"}},\"header\":{\"fill\":{\"color\":\"#C8D4E3\"},\"line\":{\"color\":\"white\"}},\"type\":\"table\"}]},\"layout\":{\"annotationdefaults\":{\"arrowcolor\":\"#2a3f5f\",\"arrowhead\":0,\"arrowwidth\":1},\"autotypenumbers\":\"strict\",\"coloraxis\":{\"colorbar\":{\"outlinewidth\":0,\"ticks\":\"\"}},\"colorscale\":{\"diverging\":[[0,\"#8e0152\"],[0.1,\"#c51b7d\"],[0.2,\"#de77ae\"],[0.3,\"#f1b6da\"],[0.4,\"#fde0ef\"],[0.5,\"#f7f7f7\"],[0.6,\"#e6f5d0\"],[0.7,\"#b8e186\"],[0.8,\"#7fbc41\"],[0.9,\"#4d9221\"],[1,\"#276419\"]],\"sequential\":[[0.0,\"#0d0887\"],[0.1111111111111111,\"#46039f\"],[0.2222222222222222,\"#7201a8\"],[0.3333333333333333,\"#9c179e\"],[0.4444444444444444,\"#bd3786\"],[0.5555555555555556,\"#d8576b\"],[0.6666666666666666,\"#ed7953\"],[0.7777777777777778,\"#fb9f3a\"],[0.8888888888888888,\"#fdca26\"],[1.0,\"#f0f921\"]],\"sequentialminus\":[[0.0,\"#0d0887\"],[0.1111111111111111,\"#46039f\"],[0.2222222222222222,\"#7201a8\"],[0.3333333333333333,\"#9c179e\"],[0.4444444444444444,\"#bd3786\"],[0.5555555555555556,\"#d8576b\"],[0.6666666666666666,\"#ed7953\"],[0.7777777777777778,\"#fb9f3a\"],[0.8888888888888888,\"#fdca26\"],[1.0,\"#f0f921\"]]},\"colorway\":[\"#636efa\",\"#EF553B\",\"#00cc96\",\"#ab63fa\",\"#FFA15A\",\"#19d3f3\",\"#FF6692\",\"#B6E880\",\"#FF97FF\",\"#FECB52\"],\"font\":{\"color\":\"#2a3f5f\"},\"geo\":{\"bgcolor\":\"white\",\"lakecolor\":\"white\",\"landcolor\":\"#E5ECF6\",\"showlakes\":true,\"showland\":true,\"subunitcolor\":\"white\"},\"hoverlabel\":{\"align\":\"left\"},\"hovermode\":\"closest\",\"mapbox\":{\"style\":\"light\"},\"paper_bgcolor\":\"white\",\"plot_bgcolor\":\"#E5ECF6\",\"polar\":{\"angularaxis\":{\"gridcolor\":\"white\",\"linecolor\":\"white\",\"ticks\":\"\"},\"bgcolor\":\"#E5ECF6\",\"radialaxis\":{\"gridcolor\":\"white\",\"linecolor\":\"white\",\"ticks\":\"\"}},\"scene\":{\"xaxis\":{\"backgroundcolor\":\"#E5ECF6\",\"gridcolor\":\"white\",\"gridwidth\":2,\"linecolor\":\"white\",\"showbackground\":true,\"ticks\":\"\",\"zerolinecolor\":\"white\"},\"yaxis\":{\"backgroundcolor\":\"#E5ECF6\",\"gridcolor\":\"white\",\"gridwidth\":2,\"linecolor\":\"white\",\"showbackground\":true,\"ticks\":\"\",\"zerolinecolor\":\"white\"},\"zaxis\":{\"backgroundcolor\":\"#E5ECF6\",\"gridcolor\":\"white\",\"gridwidth\":2,\"linecolor\":\"white\",\"showbackground\":true,\"ticks\":\"\",\"zerolinecolor\":\"white\"}},\"shapedefaults\":{\"line\":{\"color\":\"#2a3f5f\"}},\"ternary\":{\"aaxis\":{\"gridcolor\":\"white\",\"linecolor\":\"white\",\"ticks\":\"\"},\"baxis\":{\"gridcolor\":\"white\",\"linecolor\":\"white\",\"ticks\":\"\"},\"bgcolor\":\"#E5ECF6\",\"caxis\":{\"gridcolor\":\"white\",\"linecolor\":\"white\",\"ticks\":\"\"}},\"title\":{\"x\":0.05},\"xaxis\":{\"automargin\":true,\"gridcolor\":\"white\",\"linecolor\":\"white\",\"ticks\":\"\",\"title\":{\"standoff\":15},\"zerolinecolor\":\"white\",\"zerolinewidth\":2},\"yaxis\":{\"automargin\":true,\"gridcolor\":\"white\",\"linecolor\":\"white\",\"ticks\":\"\",\"title\":{\"standoff\":15},\"zerolinecolor\":\"white\",\"zerolinewidth\":2}}}},                        {\"responsive\": true}                    ).then(function(){\n",
       "                            \n",
       "var gd = document.getElementById('3bbedd89-9a69-4963-ba6f-54a0643d60c7');\n",
       "var x = new MutationObserver(function (mutations, observer) {{\n",
       "        var display = window.getComputedStyle(gd).display;\n",
       "        if (!display || display === 'none') {{\n",
       "            console.log([gd, 'removed!']);\n",
       "            Plotly.purge(gd);\n",
       "            observer.disconnect();\n",
       "        }}\n",
       "}});\n",
       "\n",
       "// Listen for the removal of the full notebook cells\n",
       "var notebookContainer = gd.closest('#notebook-container');\n",
       "if (notebookContainer) {{\n",
       "    x.observe(notebookContainer, {childList: true});\n",
       "}}\n",
       "\n",
       "// Listen for the clearing of the current output cell\n",
       "var outputEl = gd.closest('.output');\n",
       "if (outputEl) {{\n",
       "    x.observe(outputEl, {childList: true});\n",
       "}}\n",
       "\n",
       "                        })                };                });            </script>        </div>"
      ]
     },
     "metadata": {},
     "output_type": "display_data"
    }
   ],
   "source": [
    "def plot_with_plotly(x_vals, y_vals, labels, plot_in_notebook=True):\n",
    "    from plotly.offline import init_notebook_mode, iplot, plot\n",
    "    import plotly.graph_objs as go\n",
    "\n",
    "    trace = go.Scatter(x=x_vals, y=y_vals, mode='text', text=labels)\n",
    "    data = [trace]\n",
    "\n",
    "    if plot_in_notebook:\n",
    "        init_notebook_mode(connected=True)\n",
    "        iplot(data, filename='word-embedding-plot')\n",
    "    else:\n",
    "        plot(data, filename='word-embedding-plot.html')\n",
    "\n",
    "\n",
    "def plot_with_matplotlib(x_vals, y_vals, labels):\n",
    "    import matplotlib.pyplot as plt\n",
    "    import random\n",
    "\n",
    "    random.seed(0)\n",
    "\n",
    "    plt.figure(figsize=(12, 12))\n",
    "    plt.scatter(x_vals, y_vals)\n",
    "\n",
    "    #\n",
    "    # Label randomly subsampled 25 data points\n",
    "    #\n",
    "    indices = list(range(len(labels)))\n",
    "    selected_indices = random.sample(indices, 25)\n",
    "    for i in selected_indices:\n",
    "        plt.annotate(labels[i], (x_vals[i], y_vals[i]))\n",
    "\n",
    "try:\n",
    "    get_ipython()\n",
    "except Exception:\n",
    "    plot_function = plot_with_matplotlib\n",
    "else:\n",
    "    plot_function = plot_with_plotly\n",
    "\n",
    "plot_function(x_vals, y_vals, labels)"
   ]
  },
  {
   "cell_type": "code",
   "execution_count": 48,
   "id": "2368cdd6",
   "metadata": {},
   "outputs": [],
   "source": [
    "import numpy as np\n",
    "from scipy import spatial\n",
    "import matplotlib.pyplot as plt\n",
    "from sklearn.manifold import TSNE"
   ]
  },
  {
   "cell_type": "code",
   "execution_count": 51,
   "id": "158cf3e0",
   "metadata": {},
   "outputs": [],
   "source": [
    "#establish an empty dictionary\n",
    "embeddings_dict = {}\n",
    "\n",
    "#open the file and read it into the dictionary\n",
    "with open(\"C:\\\\Users\\\\Jonathan A\\\\OneDrive\\\\Desktop\\\\glove.6B\\\\glove.6B.100d.txt\", 'r', encoding=\"utf-8\") as f:\n",
    "    for line in f:\n",
    "        values = line.split()\n",
    "        word = values[0]\n",
    "        vector = np.asarray(values[1:], \"float32\")\n",
    "        embeddings_dict[word] = vector"
   ]
  },
  {
   "cell_type": "code",
   "execution_count": 52,
   "id": "c0d46455",
   "metadata": {},
   "outputs": [],
   "source": [
    "#find the Euclidean distance between the vectors for words and 1 or more other words.\n",
    "#sort the resulting word distances.\n",
    "def find_closest_embeddings(embedding):\n",
    "    return sorted(embeddings_dict.keys(), key=lambda word: \n",
    "                  spatial.distance.euclidean(embeddings_dict[word], embedding))"
   ]
  },
  {
   "cell_type": "code",
   "execution_count": 54,
   "id": "32220049",
   "metadata": {},
   "outputs": [
    {
     "name": "stdout",
     "output_type": "stream",
     "text": [
      "['ghost', 'shadow', 'haunted', 'ghosts', 'witch', 'monster', 'beast', 'stranger', 'shadows', 'fairy', 'demon', 'cat', 'vampire', 'wandering', 'dragon', 'phantom', 'www.slarmy.org', 'twilight', 'nameless', '__________________________________']\n"
     ]
    }
   ],
   "source": [
    "print(find_closest_embeddings(\n",
    "    embeddings_dict[\"ghost\"]\n",
    ")[:20])"
   ]
  },
  {
   "cell_type": "code",
   "execution_count": 56,
   "id": "e057a859",
   "metadata": {},
   "outputs": [
    {
     "name": "stdout",
     "output_type": "stream",
     "text": [
      "['fabric', 'cloth', 'woven', 'fabrics', 'patterned', 'linen', 'silk', 'tapestry', 'drapery', 'nylon', 'upholstery', 'mesh', 'canvas', 'yarn', 'knitted', 'wallpaper', 'swatches', 'weave', 'stitching', 'wool']\n"
     ]
    }
   ],
   "source": [
    "print(find_closest_embeddings(\n",
    "    embeddings_dict[\"fabric\"]\n",
    ")[:20])"
   ]
  },
  {
   "cell_type": "code",
   "execution_count": 57,
   "id": "0675825b",
   "metadata": {},
   "outputs": [
    {
     "name": "stdout",
     "output_type": "stream",
     "text": [
      "['house', 'ghost', 'room', 'white', 'where', 'shadow', 'houses', 'mansion', 'once', 'hill', 'office', 'lady', 'home', 'little', 'one', 'finds', 'appears', 'door', 'story', 'haunted']\n"
     ]
    }
   ],
   "source": [
    "print(find_closest_embeddings(\n",
    "    embeddings_dict[\"ghost\"] + embeddings_dict[\"house\"]\n",
    ")[:20])"
   ]
  },
  {
   "cell_type": "code",
   "execution_count": 58,
   "id": "ae412775",
   "metadata": {},
   "outputs": [
    {
     "name": "stdout",
     "output_type": "stream",
     "text": [
      "['house', 'life', 'own', 'little', '``', 'no', 'public', 'there', 'one', 'story', 'what', 'it', 'sense', 'this', 'some', 'that', 'moral', 'kind', 'even', 'not']\n"
     ]
    }
   ],
   "source": [
    "print(find_closest_embeddings(\n",
    "    embeddings_dict[\"ghost\"] + embeddings_dict[\"house\"] + embeddings_dict[\"moral\"]\n",
    ")[:20])"
   ]
  },
  {
   "cell_type": "code",
   "execution_count": 59,
   "id": "d4a9670c",
   "metadata": {},
   "outputs": [],
   "source": [
    "words =  list(embeddings_dict.keys())\n",
    "vectors = [embeddings_dict[word] for word in words]\n",
    "X = np.asarray(vectors)"
   ]
  },
  {
   "cell_type": "code",
   "execution_count": 60,
   "id": "f8504e68",
   "metadata": {},
   "outputs": [],
   "source": [
    "tsne = TSNE(n_components=2, random_state=0)\n",
    "Y = tsne.fit_transform(X[:1000])"
   ]
  },
  {
   "cell_type": "code",
   "execution_count": 61,
   "id": "ba7c61f3",
   "metadata": {},
   "outputs": [
    {
     "data": {
      "text/plain": [
       "<matplotlib.collections.PathCollection at 0x2418dd3faf0>"
      ]
     },
     "execution_count": 61,
     "metadata": {},
     "output_type": "execute_result"
    },
    {
     "data": {
      "image/png": "[encoded data removed]",
      "text/plain": [
       "<Figure size 640x480 with 1 Axes>"
      ]
     },
     "metadata": {},
     "output_type": "display_data"
    }
   ],
   "source": [
    "plt.scatter(Y[:, 0], Y[:, 1])"
   ]
  },
  {
   "cell_type": "code",
   "execution_count": 62,
   "id": "9ef2cafe",
   "metadata": {},
   "outputs": [
    {
     "data": {
      "image/png": "[encoded data removed]",
      "text/plain": [
       "<Figure size 640x480 with 1 Axes>"
      ]
     },
     "metadata": {},
     "output_type": "display_data"
    }
   ],
   "source": [
    "for label, x, y in zip(words, X[:, 0], Y[:, 1]):\n",
    "    plt.annotate(label, xy=(x, y), xytext=(0, 0), textcoords=\"offset points\")\n",
    "plt.show()"
   ]
  },
  {
   "cell_type": "code",
   "execution_count": null,
   "id": "1304e1bc",
   "metadata": {},
   "outputs": [],
   "source": []
  }
 ],
 "metadata": {
  "kernelspec": {
   "display_name": "Python 3 (ipykernel)",
   "language": "python",
   "name": "python3"
  },
  "language_info": {
   "codemirror_mode": {
    "name": "ipython",
    "version": 3
   },
   "file_extension": ".py",
   "mimetype": "text/x-python",
   "name": "python",
   "nbconvert_exporter": "python",
   "pygments_lexer": "ipython3",
   "version": "3.10.9"
  }
 },
 "nbformat": 4,
 "nbformat_minor": 5
}
